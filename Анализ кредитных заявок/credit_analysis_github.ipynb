{
 "cells": [
  {
   "cell_type": "markdown",
   "id": "fe1ad19d",
   "metadata": {},
   "source": [
    "<h1>Содержание<span class=\"tocSkip\"></span></h1>\n",
    "<div class=\"toc\">\n",
    "    <ul class=\"toc-item\">\n",
    "        <li>\n",
    "            <span>\n",
    "                <a href=\"#Изучение-данных-из-файла\" data-toc-modified-id=\"Изучение-данных-из-файла-1\">\n",
    "                    <span class=\"toc-item-num\">1&nbsp;&nbsp;</span>\n",
    "                    Изучение данных из файла\n",
    "                </a>\n",
    "            </span>\n",
    "        </li>\n",
    "        <li>\n",
    "            <span>\n",
    "                <a href=\"#Исследовательский-анализ-данных\" data-toc-modified-id=\"Исследовательский-анализ-данных-2\">\n",
    "                    <span class=\"toc-item-num\">2&nbsp;&nbsp;</span>\n",
    "                    Исследовательский анализ данных\n",
    "                </a>\n",
    "            </span>\n",
    "        </li>\n",
    "        <li>\n",
    "            <span>\n",
    "                <a href=\"#Общий-вывод\" data-toc-modified-id=\"Общий-вывод-3\"><span class=\"toc-item-num\">3&nbsp;&nbsp;</span>\n",
    "                    Общий вывод\n",
    "                </a>\n",
    "            </span>\n",
    "        </li>\n",
    "    </ul>\n",
    "</div>"
   ]
  },
  {
   "cell_type": "markdown",
   "id": "5853e869",
   "metadata": {},
   "source": [
    "# Аналитика\n",
    "\n",
    "**Описание данных**\n",
    "\n",
    "Таблица `Файл 2.xlsx` - выгрузка по заявкам клиентов с причинами отказа и параметрами клиентов.\n",
    "\n",
    "**Задания**\n",
    "\n",
    "* Как распределяет поток клиентов по каналам оформления заявки?  \n",
    "* Какие клиенты в основном заводят заявки в партнерском канале, можно ли выделить «портрет основного клиента»?  \n",
    "* Играет ли роль возраст клиента в зависимости от канала оформления заявки?  \n",
    "* Какой из каналов генерирует меньше всех положительных заявок?  \n",
    "* Какая самая популярная причина отказа по заявкам?  \n",
    "* Можете выделить еще какие-то интересные факты по выгрузке (необязательно)?"
   ]
  },
  {
   "cell_type": "markdown",
   "id": "369ccedd",
   "metadata": {},
   "source": [
    "## Изучение данных из файла"
   ]
  },
  {
   "cell_type": "markdown",
   "id": "d6bd4b0a",
   "metadata": {},
   "source": [
    "Импортируем необходимые для работы библиотеки:"
   ]
  },
  {
   "cell_type": "code",
   "execution_count": 1,
   "id": "f3628de3",
   "metadata": {},
   "outputs": [],
   "source": [
    "import pandas as pd\n",
    "\n",
    "import matplotlib.pyplot as plt\n",
    "import seaborn as sns"
   ]
  },
  {
   "cell_type": "markdown",
   "id": "491089c8",
   "metadata": {},
   "source": [
    "Откроем файл с данными `Файл 2.xlsx` и изучим общую информацию:"
   ]
  },
  {
   "cell_type": "code",
   "execution_count": 2,
   "id": "8562c240",
   "metadata": {},
   "outputs": [
    {
     "data": {
      "text/html": [
       "<div>\n",
       "<style scoped>\n",
       "    .dataframe tbody tr th:only-of-type {\n",
       "        vertical-align: middle;\n",
       "    }\n",
       "\n",
       "    .dataframe tbody tr th {\n",
       "        vertical-align: top;\n",
       "    }\n",
       "\n",
       "    .dataframe thead th {\n",
       "        text-align: right;\n",
       "    }\n",
       "</style>\n",
       "<table border=\"1\" class=\"dataframe\">\n",
       "  <thead>\n",
       "    <tr style=\"text-align: right;\">\n",
       "      <th></th>\n",
       "      <th>Ид заявки</th>\n",
       "      <th>Дата заявки</th>\n",
       "      <th>Канал оформления</th>\n",
       "      <th>Статус по заявке</th>\n",
       "      <th>Причина отказа</th>\n",
       "      <th>Возраст клиента</th>\n",
       "      <th>Пол клиента</th>\n",
       "    </tr>\n",
       "  </thead>\n",
       "  <tbody>\n",
       "    <tr>\n",
       "      <th>0</th>\n",
       "      <td>1</td>\n",
       "      <td>2022-11-01</td>\n",
       "      <td>Сайт Банка</td>\n",
       "      <td>ОТКАЗ</td>\n",
       "      <td>БКИ</td>\n",
       "      <td>32</td>\n",
       "      <td>Женский</td>\n",
       "    </tr>\n",
       "    <tr>\n",
       "      <th>1</th>\n",
       "      <td>2</td>\n",
       "      <td>2022-11-01</td>\n",
       "      <td>Сайт Банка</td>\n",
       "      <td>ОТКАЗ</td>\n",
       "      <td>Скор</td>\n",
       "      <td>40</td>\n",
       "      <td>Мужской</td>\n",
       "    </tr>\n",
       "    <tr>\n",
       "      <th>2</th>\n",
       "      <td>3</td>\n",
       "      <td>2022-11-01</td>\n",
       "      <td>Сайт Банка</td>\n",
       "      <td>ОТКАЗ</td>\n",
       "      <td>БКИ</td>\n",
       "      <td>28</td>\n",
       "      <td>Мужской</td>\n",
       "    </tr>\n",
       "    <tr>\n",
       "      <th>3</th>\n",
       "      <td>4</td>\n",
       "      <td>2022-11-01</td>\n",
       "      <td>Сайт Банка</td>\n",
       "      <td>ОТКАЗ</td>\n",
       "      <td>БКИ</td>\n",
       "      <td>23</td>\n",
       "      <td>Мужской</td>\n",
       "    </tr>\n",
       "    <tr>\n",
       "      <th>4</th>\n",
       "      <td>5</td>\n",
       "      <td>2022-11-01</td>\n",
       "      <td>Офис</td>\n",
       "      <td>ОТКАЗ</td>\n",
       "      <td>БКИ</td>\n",
       "      <td>35</td>\n",
       "      <td>Мужской</td>\n",
       "    </tr>\n",
       "    <tr>\n",
       "      <th>...</th>\n",
       "      <td>...</td>\n",
       "      <td>...</td>\n",
       "      <td>...</td>\n",
       "      <td>...</td>\n",
       "      <td>...</td>\n",
       "      <td>...</td>\n",
       "      <td>...</td>\n",
       "    </tr>\n",
       "    <tr>\n",
       "      <th>1168</th>\n",
       "      <td>1169</td>\n",
       "      <td>2022-11-20</td>\n",
       "      <td>Сайт Банка</td>\n",
       "      <td>ОТКАЗ</td>\n",
       "      <td>БКИ</td>\n",
       "      <td>25</td>\n",
       "      <td>Женский</td>\n",
       "    </tr>\n",
       "    <tr>\n",
       "      <th>1169</th>\n",
       "      <td>1170</td>\n",
       "      <td>2022-11-20</td>\n",
       "      <td>Сайт Банка</td>\n",
       "      <td>ОТКАЗ</td>\n",
       "      <td>Лимит</td>\n",
       "      <td>42</td>\n",
       "      <td>Женский</td>\n",
       "    </tr>\n",
       "    <tr>\n",
       "      <th>1170</th>\n",
       "      <td>1171</td>\n",
       "      <td>2022-11-20</td>\n",
       "      <td>Сайт Банка</td>\n",
       "      <td>ОТКАЗ</td>\n",
       "      <td>БКИ</td>\n",
       "      <td>23</td>\n",
       "      <td>Женский</td>\n",
       "    </tr>\n",
       "    <tr>\n",
       "      <th>1171</th>\n",
       "      <td>1172</td>\n",
       "      <td>2022-11-20</td>\n",
       "      <td>Сайт Банка</td>\n",
       "      <td>ОТКАЗ</td>\n",
       "      <td>БКИ</td>\n",
       "      <td>24</td>\n",
       "      <td>Женский</td>\n",
       "    </tr>\n",
       "    <tr>\n",
       "      <th>1172</th>\n",
       "      <td>1173</td>\n",
       "      <td>2022-11-20</td>\n",
       "      <td>Сайт Банка</td>\n",
       "      <td>ОТКАЗ</td>\n",
       "      <td>БКИ</td>\n",
       "      <td>23</td>\n",
       "      <td>Мужской</td>\n",
       "    </tr>\n",
       "  </tbody>\n",
       "</table>\n",
       "<p>1173 rows × 7 columns</p>\n",
       "</div>"
      ],
      "text/plain": [
       "      Ид заявки Дата заявки Канал оформления Статус по заявке Причина отказа  \\\n",
       "0             1  2022-11-01       Сайт Банка            ОТКАЗ            БКИ   \n",
       "1             2  2022-11-01       Сайт Банка            ОТКАЗ           Скор   \n",
       "2             3  2022-11-01       Сайт Банка            ОТКАЗ            БКИ   \n",
       "3             4  2022-11-01       Сайт Банка            ОТКАЗ            БКИ   \n",
       "4             5  2022-11-01             Офис            ОТКАЗ            БКИ   \n",
       "...         ...         ...              ...              ...            ...   \n",
       "1168       1169  2022-11-20       Сайт Банка            ОТКАЗ            БКИ   \n",
       "1169       1170  2022-11-20       Сайт Банка            ОТКАЗ          Лимит   \n",
       "1170       1171  2022-11-20       Сайт Банка            ОТКАЗ            БКИ   \n",
       "1171       1172  2022-11-20       Сайт Банка            ОТКАЗ            БКИ   \n",
       "1172       1173  2022-11-20       Сайт Банка            ОТКАЗ            БКИ   \n",
       "\n",
       "      Возраст клиента Пол клиента  \n",
       "0                  32     Женский  \n",
       "1                  40     Мужской  \n",
       "2                  28     Мужской  \n",
       "3                  23     Мужской  \n",
       "4                  35     Мужской  \n",
       "...               ...         ...  \n",
       "1168               25     Женский  \n",
       "1169               42     Женский  \n",
       "1170               23     Женский  \n",
       "1171               24     Женский  \n",
       "1172               23     Мужской  \n",
       "\n",
       "[1173 rows x 7 columns]"
      ]
     },
     "execution_count": 2,
     "metadata": {},
     "output_type": "execute_result"
    }
   ],
   "source": [
    "df = pd.read_excel('/datasets/Файл 2.xlsx')\n",
    "df"
   ]
  },
  {
   "cell_type": "code",
   "execution_count": 3,
   "id": "b2360441",
   "metadata": {},
   "outputs": [
    {
     "data": {
      "text/plain": [
       "(1173, 7)"
      ]
     },
     "execution_count": 3,
     "metadata": {},
     "output_type": "execute_result"
    }
   ],
   "source": [
    "df.shape"
   ]
  },
  {
   "cell_type": "code",
   "execution_count": 4,
   "id": "fc3b7ebc",
   "metadata": {},
   "outputs": [
    {
     "name": "stdout",
     "output_type": "stream",
     "text": [
      "<class 'pandas.core.frame.DataFrame'>\n",
      "RangeIndex: 1173 entries, 0 to 1172\n",
      "Data columns (total 7 columns):\n",
      " #   Column            Non-Null Count  Dtype         \n",
      "---  ------            --------------  -----         \n",
      " 0   Ид заявки         1173 non-null   int64         \n",
      " 1   Дата заявки       1173 non-null   datetime64[ns]\n",
      " 2   Канал оформления  1173 non-null   object        \n",
      " 3   Статус по заявке  1173 non-null   object        \n",
      " 4   Причина отказа    775 non-null    object        \n",
      " 5   Возраст клиента   1173 non-null   int64         \n",
      " 6   Пол клиента       1173 non-null   object        \n",
      "dtypes: datetime64[ns](1), int64(2), object(4)\n",
      "memory usage: 64.3+ KB\n"
     ]
    }
   ],
   "source": [
    "df.info()"
   ]
  },
  {
   "cell_type": "code",
   "execution_count": 5,
   "id": "77c6ff63",
   "metadata": {},
   "outputs": [
    {
     "data": {
      "text/plain": [
       "0.3393009377664109"
      ]
     },
     "execution_count": 5,
     "metadata": {},
     "output_type": "execute_result"
    }
   ],
   "source": [
    "df['Причина отказа'].isna().mean()"
   ]
  },
  {
   "cell_type": "markdown",
   "id": "55dac9f4",
   "metadata": {},
   "source": [
    "Есть 398 пропусков в столбце \"Причина отказа\". Они составляют примерно 34%."
   ]
  },
  {
   "cell_type": "markdown",
   "id": "e2800393",
   "metadata": {},
   "source": [
    "Посмотрим, какие есть причины отказа:"
   ]
  },
  {
   "cell_type": "code",
   "execution_count": 6,
   "id": "40b3d8b0",
   "metadata": {},
   "outputs": [
    {
     "data": {
      "text/plain": [
       "БКИ      464\n",
       "Лимит    174\n",
       "Скор     137\n",
       "Name: Причина отказа, dtype: int64"
      ]
     },
     "execution_count": 6,
     "metadata": {},
     "output_type": "execute_result"
    }
   ],
   "source": [
    "df['Причина отказа'].value_counts()"
   ]
  },
  {
   "cell_type": "markdown",
   "id": "f1c5ba79",
   "metadata": {},
   "source": [
    "Посмотрим, какие есть статусы по заявкам:"
   ]
  },
  {
   "cell_type": "code",
   "execution_count": 7,
   "id": "193361b7",
   "metadata": {},
   "outputs": [
    {
     "data": {
      "text/plain": [
       "ОТКАЗ        775\n",
       "ЕСТЬ ОФЕР    398\n",
       "Name: Статус по заявке, dtype: int64"
      ]
     },
     "execution_count": 7,
     "metadata": {},
     "output_type": "execute_result"
    }
   ],
   "source": [
    "df['Статус по заявке'].value_counts()"
   ]
  },
  {
   "cell_type": "markdown",
   "id": "32d82a5a",
   "metadata": {},
   "source": [
    "Пропуски в столбце `Причина отказа` есть у тех клиентов, которые получили оффер."
   ]
  },
  {
   "cell_type": "markdown",
   "id": "c70b30a9",
   "metadata": {},
   "source": [
    "**Вывод:**\n",
    "1) Датафрейм состоит из 1173 наблюдений и 7 полей.  \n",
    "2) В столбце `Причина отказа` есть пропущенные значения. Выяснили, что причина отказа не указана только у тех клиентов, которые получили оффер."
   ]
  },
  {
   "cell_type": "markdown",
   "id": "5a655b59",
   "metadata": {},
   "source": [
    "## Исследовательский анализ данных"
   ]
  },
  {
   "cell_type": "markdown",
   "id": "5f5de22c",
   "metadata": {},
   "source": [
    "**1) Посмотрим, как распределен поток клиентов по каналам оформления заявки.**"
   ]
  },
  {
   "cell_type": "markdown",
   "id": "0eab207d",
   "metadata": {},
   "source": [
    "Выясним, какие каналы оформления заявок у нас есть:"
   ]
  },
  {
   "cell_type": "code",
   "execution_count": 8,
   "id": "ea2c7a22",
   "metadata": {},
   "outputs": [
    {
     "data": {
      "text/plain": [
       "array(['Сайт Банка', 'Офис', 'Партнерский канал'], dtype=object)"
      ]
     },
     "execution_count": 8,
     "metadata": {},
     "output_type": "execute_result"
    }
   ],
   "source": [
    "df['Канал оформления'].unique()"
   ]
  },
  {
   "cell_type": "markdown",
   "id": "e8e6adf1",
   "metadata": {},
   "source": [
    "Всего у нас 3 канала: сайт банка, офис и партнерский канал."
   ]
  },
  {
   "cell_type": "markdown",
   "id": "68ce73c2",
   "metadata": {},
   "source": [
    "Посмотрим, какое количество клиентов приходит с каждого канала:"
   ]
  },
  {
   "cell_type": "code",
   "execution_count": 9,
   "id": "f22c0e22",
   "metadata": {},
   "outputs": [
    {
     "data": {
      "text/html": [
       "<div>\n",
       "<style scoped>\n",
       "    .dataframe tbody tr th:only-of-type {\n",
       "        vertical-align: middle;\n",
       "    }\n",
       "\n",
       "    .dataframe tbody tr th {\n",
       "        vertical-align: top;\n",
       "    }\n",
       "\n",
       "    .dataframe thead th {\n",
       "        text-align: right;\n",
       "    }\n",
       "</style>\n",
       "<table border=\"1\" class=\"dataframe\">\n",
       "  <thead>\n",
       "    <tr style=\"text-align: right;\">\n",
       "      <th></th>\n",
       "      <th>Канал оформления</th>\n",
       "      <th>Количество заявок</th>\n",
       "    </tr>\n",
       "  </thead>\n",
       "  <tbody>\n",
       "    <tr>\n",
       "      <th>2</th>\n",
       "      <td>Сайт Банка</td>\n",
       "      <td>559</td>\n",
       "    </tr>\n",
       "    <tr>\n",
       "      <th>0</th>\n",
       "      <td>Офис</td>\n",
       "      <td>489</td>\n",
       "    </tr>\n",
       "    <tr>\n",
       "      <th>1</th>\n",
       "      <td>Партнерский канал</td>\n",
       "      <td>125</td>\n",
       "    </tr>\n",
       "  </tbody>\n",
       "</table>\n",
       "</div>"
      ],
      "text/plain": [
       "    Канал оформления  Количество заявок\n",
       "2         Сайт Банка                559\n",
       "0               Офис                489\n",
       "1  Партнерский канал                125"
      ]
     },
     "execution_count": 9,
     "metadata": {},
     "output_type": "execute_result"
    }
   ],
   "source": [
    "df_channel = df.groupby('Канал оформления')['Ид заявки'].count().reset_index()\n",
    "df_channel = df_channel.rename(columns={'Ид заявки':'Количество заявок'}).sort_values(by='Количество заявок', ascending=False)\n",
    "df_channel"
   ]
  },
  {
   "cell_type": "code",
   "execution_count": 10,
   "id": "054a940e",
   "metadata": {},
   "outputs": [
    {
     "data": {
      "image/png": "[encoded data removed]",
      "text/plain": [
       "<Figure size 432x288 with 1 Axes>"
      ]
     },
     "metadata": {
      "needs_background": "light"
     },
     "output_type": "display_data"
    }
   ],
   "source": [
    "sns.barplot(x='Количество заявок', y='Канал оформления', data=df_channel, color='#89CFFD')\n",
    "plt.title('График соотношения количества заявок и канала оформления')\n",
    "plt.ylabel(' ')\n",
    "plt.xlabel('Количество заявок')\n",
    "plt.show()"
   ]
  },
  {
   "cell_type": "markdown",
   "id": "64fb0cd0",
   "metadata": {},
   "source": [
    "**Вывод:**  \n",
    "Есть 3 вида каналов оформления заявок: сайт банка, офис и партнерский канал. Больше всего заявок пришло с сайта банка (559). Меньше всего с партнерского канала (125)."
   ]
  },
  {
   "cell_type": "markdown",
   "id": "81911a76",
   "metadata": {},
   "source": [
    "**2) Определим, какие клиенты в основном заводят заявки в партнерском канале. Составим портрет \"основного клиента\".**"
   ]
  },
  {
   "cell_type": "code",
   "execution_count": 11,
   "id": "04565cf3",
   "metadata": {},
   "outputs": [
    {
     "data": {
      "text/html": [
       "<div>\n",
       "<style scoped>\n",
       "    .dataframe tbody tr th:only-of-type {\n",
       "        vertical-align: middle;\n",
       "    }\n",
       "\n",
       "    .dataframe tbody tr th {\n",
       "        vertical-align: top;\n",
       "    }\n",
       "\n",
       "    .dataframe thead th {\n",
       "        text-align: right;\n",
       "    }\n",
       "</style>\n",
       "<table border=\"1\" class=\"dataframe\">\n",
       "  <thead>\n",
       "    <tr style=\"text-align: right;\">\n",
       "      <th></th>\n",
       "      <th>Ид заявки</th>\n",
       "      <th>Дата заявки</th>\n",
       "      <th>Канал оформления</th>\n",
       "      <th>Статус по заявке</th>\n",
       "      <th>Причина отказа</th>\n",
       "      <th>Возраст клиента</th>\n",
       "      <th>Пол клиента</th>\n",
       "    </tr>\n",
       "  </thead>\n",
       "  <tbody>\n",
       "    <tr>\n",
       "      <th>44</th>\n",
       "      <td>45</td>\n",
       "      <td>2022-11-01</td>\n",
       "      <td>Партнерский канал</td>\n",
       "      <td>ЕСТЬ ОФЕР</td>\n",
       "      <td>NaN</td>\n",
       "      <td>41</td>\n",
       "      <td>Мужской</td>\n",
       "    </tr>\n",
       "    <tr>\n",
       "      <th>48</th>\n",
       "      <td>49</td>\n",
       "      <td>2022-11-01</td>\n",
       "      <td>Партнерский канал</td>\n",
       "      <td>ОТКАЗ</td>\n",
       "      <td>БКИ</td>\n",
       "      <td>26</td>\n",
       "      <td>Женский</td>\n",
       "    </tr>\n",
       "    <tr>\n",
       "      <th>70</th>\n",
       "      <td>71</td>\n",
       "      <td>2022-11-01</td>\n",
       "      <td>Партнерский канал</td>\n",
       "      <td>ОТКАЗ</td>\n",
       "      <td>БКИ</td>\n",
       "      <td>37</td>\n",
       "      <td>Женский</td>\n",
       "    </tr>\n",
       "    <tr>\n",
       "      <th>77</th>\n",
       "      <td>78</td>\n",
       "      <td>2022-11-01</td>\n",
       "      <td>Партнерский канал</td>\n",
       "      <td>ОТКАЗ</td>\n",
       "      <td>Лимит</td>\n",
       "      <td>45</td>\n",
       "      <td>Мужской</td>\n",
       "    </tr>\n",
       "    <tr>\n",
       "      <th>87</th>\n",
       "      <td>88</td>\n",
       "      <td>2022-11-02</td>\n",
       "      <td>Партнерский канал</td>\n",
       "      <td>ЕСТЬ ОФЕР</td>\n",
       "      <td>NaN</td>\n",
       "      <td>60</td>\n",
       "      <td>Мужской</td>\n",
       "    </tr>\n",
       "    <tr>\n",
       "      <th>...</th>\n",
       "      <td>...</td>\n",
       "      <td>...</td>\n",
       "      <td>...</td>\n",
       "      <td>...</td>\n",
       "      <td>...</td>\n",
       "      <td>...</td>\n",
       "      <td>...</td>\n",
       "    </tr>\n",
       "    <tr>\n",
       "      <th>1126</th>\n",
       "      <td>1127</td>\n",
       "      <td>2022-11-19</td>\n",
       "      <td>Партнерский канал</td>\n",
       "      <td>ЕСТЬ ОФЕР</td>\n",
       "      <td>NaN</td>\n",
       "      <td>56</td>\n",
       "      <td>Мужской</td>\n",
       "    </tr>\n",
       "    <tr>\n",
       "      <th>1143</th>\n",
       "      <td>1144</td>\n",
       "      <td>2022-11-20</td>\n",
       "      <td>Партнерский канал</td>\n",
       "      <td>ОТКАЗ</td>\n",
       "      <td>БКИ</td>\n",
       "      <td>48</td>\n",
       "      <td>Женский</td>\n",
       "    </tr>\n",
       "    <tr>\n",
       "      <th>1148</th>\n",
       "      <td>1149</td>\n",
       "      <td>2022-11-20</td>\n",
       "      <td>Партнерский канал</td>\n",
       "      <td>ОТКАЗ</td>\n",
       "      <td>Скор</td>\n",
       "      <td>25</td>\n",
       "      <td>Мужской</td>\n",
       "    </tr>\n",
       "    <tr>\n",
       "      <th>1152</th>\n",
       "      <td>1153</td>\n",
       "      <td>2022-11-20</td>\n",
       "      <td>Партнерский канал</td>\n",
       "      <td>ОТКАЗ</td>\n",
       "      <td>Лимит</td>\n",
       "      <td>38</td>\n",
       "      <td>Мужской</td>\n",
       "    </tr>\n",
       "    <tr>\n",
       "      <th>1156</th>\n",
       "      <td>1157</td>\n",
       "      <td>2022-11-20</td>\n",
       "      <td>Партнерский канал</td>\n",
       "      <td>ОТКАЗ</td>\n",
       "      <td>БКИ</td>\n",
       "      <td>34</td>\n",
       "      <td>Мужской</td>\n",
       "    </tr>\n",
       "  </tbody>\n",
       "</table>\n",
       "<p>125 rows × 7 columns</p>\n",
       "</div>"
      ],
      "text/plain": [
       "      Ид заявки Дата заявки   Канал оформления Статус по заявке  \\\n",
       "44           45  2022-11-01  Партнерский канал        ЕСТЬ ОФЕР   \n",
       "48           49  2022-11-01  Партнерский канал            ОТКАЗ   \n",
       "70           71  2022-11-01  Партнерский канал            ОТКАЗ   \n",
       "77           78  2022-11-01  Партнерский канал            ОТКАЗ   \n",
       "87           88  2022-11-02  Партнерский канал        ЕСТЬ ОФЕР   \n",
       "...         ...         ...                ...              ...   \n",
       "1126       1127  2022-11-19  Партнерский канал        ЕСТЬ ОФЕР   \n",
       "1143       1144  2022-11-20  Партнерский канал            ОТКАЗ   \n",
       "1148       1149  2022-11-20  Партнерский канал            ОТКАЗ   \n",
       "1152       1153  2022-11-20  Партнерский канал            ОТКАЗ   \n",
       "1156       1157  2022-11-20  Партнерский канал            ОТКАЗ   \n",
       "\n",
       "     Причина отказа  Возраст клиента Пол клиента  \n",
       "44              NaN               41     Мужской  \n",
       "48              БКИ               26     Женский  \n",
       "70              БКИ               37     Женский  \n",
       "77            Лимит               45     Мужской  \n",
       "87              NaN               60     Мужской  \n",
       "...             ...              ...         ...  \n",
       "1126            NaN               56     Мужской  \n",
       "1143            БКИ               48     Женский  \n",
       "1148           Скор               25     Мужской  \n",
       "1152          Лимит               38     Мужской  \n",
       "1156            БКИ               34     Мужской  \n",
       "\n",
       "[125 rows x 7 columns]"
      ]
     },
     "execution_count": 11,
     "metadata": {},
     "output_type": "execute_result"
    }
   ],
   "source": [
    "df_partner = df.query('`Канал оформления` == \"Партнерский канал\"')\n",
    "df_partner"
   ]
  },
  {
   "cell_type": "markdown",
   "id": "d1d8fd92",
   "metadata": {},
   "source": [
    "Всего 125 заявок по партнерскому каналу."
   ]
  },
  {
   "cell_type": "markdown",
   "id": "2875a4e7",
   "metadata": {},
   "source": [
    "Посмотрим на распределение клиентов по возрасту:"
   ]
  },
  {
   "cell_type": "code",
   "execution_count": 12,
   "id": "1dd80d9d",
   "metadata": {},
   "outputs": [
    {
     "data": {
      "text/html": [
       "<div>\n",
       "<style scoped>\n",
       "    .dataframe tbody tr th:only-of-type {\n",
       "        vertical-align: middle;\n",
       "    }\n",
       "\n",
       "    .dataframe tbody tr th {\n",
       "        vertical-align: top;\n",
       "    }\n",
       "\n",
       "    .dataframe thead th {\n",
       "        text-align: right;\n",
       "    }\n",
       "</style>\n",
       "<table border=\"1\" class=\"dataframe\">\n",
       "  <thead>\n",
       "    <tr style=\"text-align: right;\">\n",
       "      <th></th>\n",
       "      <th>Возраст клиента</th>\n",
       "      <th>Количество заявок</th>\n",
       "    </tr>\n",
       "  </thead>\n",
       "  <tbody>\n",
       "    <tr>\n",
       "      <th>15</th>\n",
       "      <td>38</td>\n",
       "      <td>16</td>\n",
       "    </tr>\n",
       "    <tr>\n",
       "      <th>7</th>\n",
       "      <td>30</td>\n",
       "      <td>11</td>\n",
       "    </tr>\n",
       "    <tr>\n",
       "      <th>20</th>\n",
       "      <td>43</td>\n",
       "      <td>8</td>\n",
       "    </tr>\n",
       "    <tr>\n",
       "      <th>13</th>\n",
       "      <td>36</td>\n",
       "      <td>7</td>\n",
       "    </tr>\n",
       "    <tr>\n",
       "      <th>26</th>\n",
       "      <td>49</td>\n",
       "      <td>7</td>\n",
       "    </tr>\n",
       "  </tbody>\n",
       "</table>\n",
       "</div>"
      ],
      "text/plain": [
       "    Возраст клиента  Количество заявок\n",
       "15               38                 16\n",
       "7                30                 11\n",
       "20               43                  8\n",
       "13               36                  7\n",
       "26               49                  7"
      ]
     },
     "execution_count": 12,
     "metadata": {},
     "output_type": "execute_result"
    }
   ],
   "source": [
    "df_partner_age = df_partner.groupby('Возраст клиента')['Ид заявки'].count().reset_index()\n",
    "df_partner_age = df_partner_age.rename(columns={'Ид заявки':'Количество заявок'}).sort_values(by='Количество заявок', ascending=False)\n",
    "df_partner_age.head()"
   ]
  },
  {
   "cell_type": "code",
   "execution_count": 13,
   "id": "f039fb43",
   "metadata": {},
   "outputs": [
    {
     "data": {
      "image/png": "[encoded data removed]",
      "text/plain": [
       "<Figure size 1152x432 with 1 Axes>"
      ]
     },
     "metadata": {
      "needs_background": "light"
     },
     "output_type": "display_data"
    }
   ],
   "source": [
    "plt.figure(figsize=(16, 6))\n",
    "plt.title('Распределение количества клиентов по возрасту')\n",
    "sns.barplot(data=df_partner_age, x='Возраст клиента', y='Количество заявок', color='#89CFFD')\n",
    "plt.show()"
   ]
  },
  {
   "cell_type": "markdown",
   "id": "49093a9f",
   "metadata": {},
   "source": [
    "Больше всего клиентов (16) в возрасте 38 лет приходит с партнерского канала."
   ]
  },
  {
   "cell_type": "markdown",
   "id": "cab3ea0b",
   "metadata": {},
   "source": [
    "Посмотрим на распределение клиентов по полу:"
   ]
  },
  {
   "cell_type": "code",
   "execution_count": 14,
   "id": "65b41a90",
   "metadata": {},
   "outputs": [
    {
     "data": {
      "text/html": [
       "<div>\n",
       "<style scoped>\n",
       "    .dataframe tbody tr th:only-of-type {\n",
       "        vertical-align: middle;\n",
       "    }\n",
       "\n",
       "    .dataframe tbody tr th {\n",
       "        vertical-align: top;\n",
       "    }\n",
       "\n",
       "    .dataframe thead th {\n",
       "        text-align: right;\n",
       "    }\n",
       "</style>\n",
       "<table border=\"1\" class=\"dataframe\">\n",
       "  <thead>\n",
       "    <tr style=\"text-align: right;\">\n",
       "      <th></th>\n",
       "      <th>Пол клиента</th>\n",
       "      <th>Количество заявок</th>\n",
       "      <th>Доля заявок</th>\n",
       "    </tr>\n",
       "  </thead>\n",
       "  <tbody>\n",
       "    <tr>\n",
       "      <th>1</th>\n",
       "      <td>Мужской</td>\n",
       "      <td>72</td>\n",
       "      <td>0.576</td>\n",
       "    </tr>\n",
       "    <tr>\n",
       "      <th>0</th>\n",
       "      <td>Женский</td>\n",
       "      <td>53</td>\n",
       "      <td>0.424</td>\n",
       "    </tr>\n",
       "  </tbody>\n",
       "</table>\n",
       "</div>"
      ],
      "text/plain": [
       "  Пол клиента  Количество заявок  Доля заявок\n",
       "1     Мужской                 72        0.576\n",
       "0     Женский                 53        0.424"
      ]
     },
     "execution_count": 14,
     "metadata": {},
     "output_type": "execute_result"
    }
   ],
   "source": [
    "df_partner_gender = df_partner.groupby('Пол клиента')['Ид заявки'].count().reset_index()\n",
    "df_partner_gender = df_partner_gender.rename(columns={'Ид заявки':'Количество заявок'}).sort_values(by='Количество заявок', ascending=False)\n",
    "df_partner_gender['Доля заявок'] = df_partner_gender['Количество заявок']/df_partner['Ид заявки'].count()\n",
    "df_partner_gender"
   ]
  },
  {
   "cell_type": "code",
   "execution_count": 15,
   "id": "a252ac0c",
   "metadata": {},
   "outputs": [
    {
     "data": {
      "image/png": "[encoded data removed]",
      "text/plain": [
       "<Figure size 432x288 with 1 Axes>"
      ]
     },
     "metadata": {
      "needs_background": "light"
     },
     "output_type": "display_data"
    }
   ],
   "source": [
    "plt.title('Распределение количества клиентов по полу')\n",
    "sns.barplot(data=df_partner_gender, x='Пол клиента', y='Количество заявок')\n",
    "plt.show()"
   ]
  },
  {
   "cell_type": "markdown",
   "id": "bb2e6f3c",
   "metadata": {},
   "source": [
    "Доля мужчин немного больше (0.576), чем женщин (0.424)."
   ]
  },
  {
   "cell_type": "code",
   "execution_count": 16,
   "id": "920bce95",
   "metadata": {},
   "outputs": [
    {
     "data": {
      "text/html": [
       "<div>\n",
       "<style scoped>\n",
       "    .dataframe tbody tr th:only-of-type {\n",
       "        vertical-align: middle;\n",
       "    }\n",
       "\n",
       "    .dataframe tbody tr th {\n",
       "        vertical-align: top;\n",
       "    }\n",
       "\n",
       "    .dataframe thead th {\n",
       "        text-align: right;\n",
       "    }\n",
       "</style>\n",
       "<table border=\"1\" class=\"dataframe\">\n",
       "  <thead>\n",
       "    <tr style=\"text-align: right;\">\n",
       "      <th></th>\n",
       "      <th>Статус по заявке</th>\n",
       "      <th>Количество заявок</th>\n",
       "    </tr>\n",
       "  </thead>\n",
       "  <tbody>\n",
       "    <tr>\n",
       "      <th>0</th>\n",
       "      <td>ЕСТЬ ОФЕР</td>\n",
       "      <td>69</td>\n",
       "    </tr>\n",
       "    <tr>\n",
       "      <th>1</th>\n",
       "      <td>ОТКАЗ</td>\n",
       "      <td>56</td>\n",
       "    </tr>\n",
       "  </tbody>\n",
       "</table>\n",
       "</div>"
      ],
      "text/plain": [
       "  Статус по заявке  Количество заявок\n",
       "0        ЕСТЬ ОФЕР                 69\n",
       "1            ОТКАЗ                 56"
      ]
     },
     "execution_count": 16,
     "metadata": {},
     "output_type": "execute_result"
    }
   ],
   "source": [
    "df_partner_status = df_partner.groupby('Статус по заявке')['Ид заявки'].count().reset_index()\n",
    "df_partner_status = df_partner_status.rename(columns={'Ид заявки':'Количество заявок'}).sort_values(by='Количество заявок', ascending=False)\n",
    "df_partner_status"
   ]
  },
  {
   "cell_type": "code",
   "execution_count": 17,
   "id": "ee9f20e6",
   "metadata": {},
   "outputs": [
    {
     "data": {
      "image/png": "[encoded data removed]",
      "text/plain": [
       "<Figure size 432x288 with 1 Axes>"
      ]
     },
     "metadata": {
      "needs_background": "light"
     },
     "output_type": "display_data"
    }
   ],
   "source": [
    "plt.title('Распределение количества клиентов по статусу заявки')\n",
    "sns.barplot(data=df_partner_status, x='Статус по заявке', y='Количество заявок')\n",
    "plt.show()"
   ]
  },
  {
   "cell_type": "markdown",
   "id": "f5bcdb8c",
   "metadata": {},
   "source": [
    "Клиентов с офферами больше (69), чем с отказами (56 человек)."
   ]
  },
  {
   "cell_type": "code",
   "execution_count": 18,
   "id": "6d6ce5c1",
   "metadata": {},
   "outputs": [
    {
     "data": {
      "text/html": [
       "<div>\n",
       "<style scoped>\n",
       "    .dataframe tbody tr th:only-of-type {\n",
       "        vertical-align: middle;\n",
       "    }\n",
       "\n",
       "    .dataframe tbody tr th {\n",
       "        vertical-align: top;\n",
       "    }\n",
       "\n",
       "    .dataframe thead th {\n",
       "        text-align: right;\n",
       "    }\n",
       "</style>\n",
       "<table border=\"1\" class=\"dataframe\">\n",
       "  <thead>\n",
       "    <tr style=\"text-align: right;\">\n",
       "      <th></th>\n",
       "      <th>Причина отказа</th>\n",
       "      <th>Количество заявок</th>\n",
       "    </tr>\n",
       "  </thead>\n",
       "  <tbody>\n",
       "    <tr>\n",
       "      <th>0</th>\n",
       "      <td>БКИ</td>\n",
       "      <td>27</td>\n",
       "    </tr>\n",
       "    <tr>\n",
       "      <th>2</th>\n",
       "      <td>Скор</td>\n",
       "      <td>15</td>\n",
       "    </tr>\n",
       "    <tr>\n",
       "      <th>1</th>\n",
       "      <td>Лимит</td>\n",
       "      <td>14</td>\n",
       "    </tr>\n",
       "  </tbody>\n",
       "</table>\n",
       "</div>"
      ],
      "text/plain": [
       "  Причина отказа  Количество заявок\n",
       "0            БКИ                 27\n",
       "2           Скор                 15\n",
       "1          Лимит                 14"
      ]
     },
     "execution_count": 18,
     "metadata": {},
     "output_type": "execute_result"
    }
   ],
   "source": [
    "df_partner_refusal = df_partner.groupby('Причина отказа')['Ид заявки'].count().reset_index()\n",
    "df_partner_refusal = df_partner_refusal.rename(columns={'Ид заявки':'Количество заявок'}).sort_values(by='Количество заявок', ascending=False)\n",
    "df_partner_refusal"
   ]
  },
  {
   "cell_type": "code",
   "execution_count": 19,
   "id": "8b76aec7",
   "metadata": {},
   "outputs": [
    {
     "data": {
      "image/png": "[encoded data removed]",
      "text/plain": [
       "<Figure size 432x288 with 1 Axes>"
      ]
     },
     "metadata": {
      "needs_background": "light"
     },
     "output_type": "display_data"
    }
   ],
   "source": [
    "plt.title('Распределение количества клиентов по причинам отказа')\n",
    "sns.barplot(data=df_partner_refusal, x='Причина отказа', y='Количество заявок')\n",
    "plt.show()"
   ]
  },
  {
   "cell_type": "markdown",
   "id": "dcca03c9",
   "metadata": {},
   "source": [
    "Больше всего отказов по причине БКИ."
   ]
  },
  {
   "cell_type": "markdown",
   "id": "352789b8",
   "metadata": {},
   "source": [
    "**Вывод:**  \n",
    "Таким образом, можем составить портрет наиболее типичного клиента для партнерского канала. Это мужчина 38 лет с оффером. Если всё-таки статус заявки \"отказ\", то ее причиной чаще всего будет БКИ."
   ]
  },
  {
   "cell_type": "markdown",
   "id": "483dcbbe",
   "metadata": {},
   "source": [
    "**3) Выясним, играет ли роль возраст клиента в зависимости от канала оформления заявки.**"
   ]
  },
  {
   "cell_type": "markdown",
   "id": "677356e3",
   "metadata": {},
   "source": [
    "Посмотрим, как распределен возраст клиентов по каналу оформления:"
   ]
  },
  {
   "cell_type": "code",
   "execution_count": 20,
   "id": "1643a83a",
   "metadata": {},
   "outputs": [
    {
     "data": {
      "text/html": [
       "<div>\n",
       "<style scoped>\n",
       "    .dataframe tbody tr th:only-of-type {\n",
       "        vertical-align: middle;\n",
       "    }\n",
       "\n",
       "    .dataframe tbody tr th {\n",
       "        vertical-align: top;\n",
       "    }\n",
       "\n",
       "    .dataframe thead th {\n",
       "        text-align: right;\n",
       "    }\n",
       "</style>\n",
       "<table border=\"1\" class=\"dataframe\">\n",
       "  <thead>\n",
       "    <tr style=\"text-align: right;\">\n",
       "      <th></th>\n",
       "      <th>Канал оформления</th>\n",
       "      <th>Возраст клиента</th>\n",
       "      <th>Количество заявок</th>\n",
       "    </tr>\n",
       "  </thead>\n",
       "  <tbody>\n",
       "    <tr>\n",
       "      <th>82</th>\n",
       "      <td>Сайт Банка</td>\n",
       "      <td>23</td>\n",
       "      <td>31</td>\n",
       "    </tr>\n",
       "    <tr>\n",
       "      <th>84</th>\n",
       "      <td>Сайт Банка</td>\n",
       "      <td>25</td>\n",
       "      <td>29</td>\n",
       "    </tr>\n",
       "    <tr>\n",
       "      <th>87</th>\n",
       "      <td>Сайт Банка</td>\n",
       "      <td>28</td>\n",
       "      <td>29</td>\n",
       "    </tr>\n",
       "    <tr>\n",
       "      <th>86</th>\n",
       "      <td>Сайт Банка</td>\n",
       "      <td>27</td>\n",
       "      <td>28</td>\n",
       "    </tr>\n",
       "    <tr>\n",
       "      <th>89</th>\n",
       "      <td>Сайт Банка</td>\n",
       "      <td>30</td>\n",
       "      <td>27</td>\n",
       "    </tr>\n",
       "    <tr>\n",
       "      <th>...</th>\n",
       "      <td>...</td>\n",
       "      <td>...</td>\n",
       "      <td>...</td>\n",
       "    </tr>\n",
       "    <tr>\n",
       "      <th>71</th>\n",
       "      <td>Партнерский канал</td>\n",
       "      <td>48</td>\n",
       "      <td>1</td>\n",
       "    </tr>\n",
       "    <tr>\n",
       "      <th>75</th>\n",
       "      <td>Партнерский канал</td>\n",
       "      <td>54</td>\n",
       "      <td>1</td>\n",
       "    </tr>\n",
       "    <tr>\n",
       "      <th>77</th>\n",
       "      <td>Партнерский канал</td>\n",
       "      <td>56</td>\n",
       "      <td>1</td>\n",
       "    </tr>\n",
       "    <tr>\n",
       "      <th>79</th>\n",
       "      <td>Партнерский канал</td>\n",
       "      <td>59</td>\n",
       "      <td>1</td>\n",
       "    </tr>\n",
       "    <tr>\n",
       "      <th>0</th>\n",
       "      <td>Офис</td>\n",
       "      <td>23</td>\n",
       "      <td>1</td>\n",
       "    </tr>\n",
       "  </tbody>\n",
       "</table>\n",
       "<p>126 rows × 3 columns</p>\n",
       "</div>"
      ],
      "text/plain": [
       "     Канал оформления  Возраст клиента  Количество заявок\n",
       "82         Сайт Банка               23                 31\n",
       "84         Сайт Банка               25                 29\n",
       "87         Сайт Банка               28                 29\n",
       "86         Сайт Банка               27                 28\n",
       "89         Сайт Банка               30                 27\n",
       "..                ...              ...                ...\n",
       "71  Партнерский канал               48                  1\n",
       "75  Партнерский канал               54                  1\n",
       "77  Партнерский канал               56                  1\n",
       "79  Партнерский канал               59                  1\n",
       "0                Офис               23                  1\n",
       "\n",
       "[126 rows x 3 columns]"
      ]
     },
     "execution_count": 20,
     "metadata": {},
     "output_type": "execute_result"
    }
   ],
   "source": [
    "df_age = df.groupby(['Канал оформления', 'Возраст клиента'])['Ид заявки'].count().reset_index()\n",
    "df_age = df_age.rename(columns={'Ид заявки':'Количество заявок'}).sort_values(by='Количество заявок', ascending=False)\n",
    "df_age"
   ]
  },
  {
   "cell_type": "code",
   "execution_count": 21,
   "id": "01e45418",
   "metadata": {},
   "outputs": [
    {
     "data": {
      "image/png": "[encoded data removed]",
      "text/plain": [
       "<Figure size 1152x432 with 1 Axes>"
      ]
     },
     "metadata": {
      "needs_background": "light"
     },
     "output_type": "display_data"
    }
   ],
   "source": [
    "plt.figure(figsize=(16, 6))\n",
    "sns.barplot(data=df_age, x='Возраст клиента', y='Количество заявок', hue='Канал оформления')\n",
    "plt.show()"
   ]
  },
  {
   "cell_type": "markdown",
   "id": "fd0d2b3a",
   "metadata": {},
   "source": [
    "**Вывод:**  \n",
    "Возраст клиента играет роль в зависимости от канала оформления заявки. Клиенты в возрасте до 40 лет предпочитают оставлять заявки на сайте банка, больше всего заявок оставляют на сайте люди в возрасте от 23 до 28 лет. В офисе больше всего оставляют заявки клиенты в возрасте от 40 до 60 лет. Максимум партнерского канала приносят клиенты в возрасте 38 лет."
   ]
  },
  {
   "cell_type": "markdown",
   "id": "b578025e",
   "metadata": {},
   "source": [
    "**4) Определим, какой из каналов генерирует меньше всех положительных заявок.**"
   ]
  },
  {
   "cell_type": "markdown",
   "id": "414ffd73",
   "metadata": {},
   "source": [
    "Посмотрим общее количество заявок по каждому каналу:"
   ]
  },
  {
   "cell_type": "code",
   "execution_count": 22,
   "id": "b7891a6a",
   "metadata": {},
   "outputs": [
    {
     "data": {
      "text/html": [
       "<div>\n",
       "<style scoped>\n",
       "    .dataframe tbody tr th:only-of-type {\n",
       "        vertical-align: middle;\n",
       "    }\n",
       "\n",
       "    .dataframe tbody tr th {\n",
       "        vertical-align: top;\n",
       "    }\n",
       "\n",
       "    .dataframe thead th {\n",
       "        text-align: right;\n",
       "    }\n",
       "</style>\n",
       "<table border=\"1\" class=\"dataframe\">\n",
       "  <thead>\n",
       "    <tr style=\"text-align: right;\">\n",
       "      <th></th>\n",
       "      <th>Канал оформления</th>\n",
       "      <th>Количество заявок</th>\n",
       "    </tr>\n",
       "  </thead>\n",
       "  <tbody>\n",
       "    <tr>\n",
       "      <th>2</th>\n",
       "      <td>Сайт Банка</td>\n",
       "      <td>559</td>\n",
       "    </tr>\n",
       "    <tr>\n",
       "      <th>0</th>\n",
       "      <td>Офис</td>\n",
       "      <td>489</td>\n",
       "    </tr>\n",
       "    <tr>\n",
       "      <th>1</th>\n",
       "      <td>Партнерский канал</td>\n",
       "      <td>125</td>\n",
       "    </tr>\n",
       "  </tbody>\n",
       "</table>\n",
       "</div>"
      ],
      "text/plain": [
       "    Канал оформления  Количество заявок\n",
       "2         Сайт Банка                559\n",
       "0               Офис                489\n",
       "1  Партнерский канал                125"
      ]
     },
     "execution_count": 22,
     "metadata": {},
     "output_type": "execute_result"
    }
   ],
   "source": [
    "data = df.groupby('Канал оформления')['Ид заявки'].count().reset_index()\n",
    "data = data.rename(columns={'Ид заявки':'Количество заявок'}).sort_values(by='Количество заявок', ascending=False)\n",
    "data"
   ]
  },
  {
   "cell_type": "markdown",
   "id": "169f0301",
   "metadata": {},
   "source": [
    "Больше всего заявок пользователи оставляют на сайте банка."
   ]
  },
  {
   "cell_type": "markdown",
   "id": "ae112a69",
   "metadata": {},
   "source": [
    "Теперь выделим только те заявки, по которым клиенты получили отказ:"
   ]
  },
  {
   "cell_type": "code",
   "execution_count": 23,
   "id": "6ad6f9f8",
   "metadata": {},
   "outputs": [
    {
     "data": {
      "text/html": [
       "<div>\n",
       "<style scoped>\n",
       "    .dataframe tbody tr th:only-of-type {\n",
       "        vertical-align: middle;\n",
       "    }\n",
       "\n",
       "    .dataframe tbody tr th {\n",
       "        vertical-align: top;\n",
       "    }\n",
       "\n",
       "    .dataframe thead th {\n",
       "        text-align: right;\n",
       "    }\n",
       "</style>\n",
       "<table border=\"1\" class=\"dataframe\">\n",
       "  <thead>\n",
       "    <tr style=\"text-align: right;\">\n",
       "      <th></th>\n",
       "      <th>Ид заявки</th>\n",
       "      <th>Дата заявки</th>\n",
       "      <th>Канал оформления</th>\n",
       "      <th>Статус по заявке</th>\n",
       "      <th>Причина отказа</th>\n",
       "      <th>Возраст клиента</th>\n",
       "      <th>Пол клиента</th>\n",
       "    </tr>\n",
       "  </thead>\n",
       "  <tbody>\n",
       "    <tr>\n",
       "      <th>0</th>\n",
       "      <td>1</td>\n",
       "      <td>2022-11-01</td>\n",
       "      <td>Сайт Банка</td>\n",
       "      <td>ОТКАЗ</td>\n",
       "      <td>БКИ</td>\n",
       "      <td>32</td>\n",
       "      <td>Женский</td>\n",
       "    </tr>\n",
       "    <tr>\n",
       "      <th>1</th>\n",
       "      <td>2</td>\n",
       "      <td>2022-11-01</td>\n",
       "      <td>Сайт Банка</td>\n",
       "      <td>ОТКАЗ</td>\n",
       "      <td>Скор</td>\n",
       "      <td>40</td>\n",
       "      <td>Мужской</td>\n",
       "    </tr>\n",
       "    <tr>\n",
       "      <th>2</th>\n",
       "      <td>3</td>\n",
       "      <td>2022-11-01</td>\n",
       "      <td>Сайт Банка</td>\n",
       "      <td>ОТКАЗ</td>\n",
       "      <td>БКИ</td>\n",
       "      <td>28</td>\n",
       "      <td>Мужской</td>\n",
       "    </tr>\n",
       "    <tr>\n",
       "      <th>3</th>\n",
       "      <td>4</td>\n",
       "      <td>2022-11-01</td>\n",
       "      <td>Сайт Банка</td>\n",
       "      <td>ОТКАЗ</td>\n",
       "      <td>БКИ</td>\n",
       "      <td>23</td>\n",
       "      <td>Мужской</td>\n",
       "    </tr>\n",
       "    <tr>\n",
       "      <th>4</th>\n",
       "      <td>5</td>\n",
       "      <td>2022-11-01</td>\n",
       "      <td>Офис</td>\n",
       "      <td>ОТКАЗ</td>\n",
       "      <td>БКИ</td>\n",
       "      <td>35</td>\n",
       "      <td>Мужской</td>\n",
       "    </tr>\n",
       "    <tr>\n",
       "      <th>...</th>\n",
       "      <td>...</td>\n",
       "      <td>...</td>\n",
       "      <td>...</td>\n",
       "      <td>...</td>\n",
       "      <td>...</td>\n",
       "      <td>...</td>\n",
       "      <td>...</td>\n",
       "    </tr>\n",
       "    <tr>\n",
       "      <th>1168</th>\n",
       "      <td>1169</td>\n",
       "      <td>2022-11-20</td>\n",
       "      <td>Сайт Банка</td>\n",
       "      <td>ОТКАЗ</td>\n",
       "      <td>БКИ</td>\n",
       "      <td>25</td>\n",
       "      <td>Женский</td>\n",
       "    </tr>\n",
       "    <tr>\n",
       "      <th>1169</th>\n",
       "      <td>1170</td>\n",
       "      <td>2022-11-20</td>\n",
       "      <td>Сайт Банка</td>\n",
       "      <td>ОТКАЗ</td>\n",
       "      <td>Лимит</td>\n",
       "      <td>42</td>\n",
       "      <td>Женский</td>\n",
       "    </tr>\n",
       "    <tr>\n",
       "      <th>1170</th>\n",
       "      <td>1171</td>\n",
       "      <td>2022-11-20</td>\n",
       "      <td>Сайт Банка</td>\n",
       "      <td>ОТКАЗ</td>\n",
       "      <td>БКИ</td>\n",
       "      <td>23</td>\n",
       "      <td>Женский</td>\n",
       "    </tr>\n",
       "    <tr>\n",
       "      <th>1171</th>\n",
       "      <td>1172</td>\n",
       "      <td>2022-11-20</td>\n",
       "      <td>Сайт Банка</td>\n",
       "      <td>ОТКАЗ</td>\n",
       "      <td>БКИ</td>\n",
       "      <td>24</td>\n",
       "      <td>Женский</td>\n",
       "    </tr>\n",
       "    <tr>\n",
       "      <th>1172</th>\n",
       "      <td>1173</td>\n",
       "      <td>2022-11-20</td>\n",
       "      <td>Сайт Банка</td>\n",
       "      <td>ОТКАЗ</td>\n",
       "      <td>БКИ</td>\n",
       "      <td>23</td>\n",
       "      <td>Мужской</td>\n",
       "    </tr>\n",
       "  </tbody>\n",
       "</table>\n",
       "<p>775 rows × 7 columns</p>\n",
       "</div>"
      ],
      "text/plain": [
       "      Ид заявки Дата заявки Канал оформления Статус по заявке Причина отказа  \\\n",
       "0             1  2022-11-01       Сайт Банка            ОТКАЗ            БКИ   \n",
       "1             2  2022-11-01       Сайт Банка            ОТКАЗ           Скор   \n",
       "2             3  2022-11-01       Сайт Банка            ОТКАЗ            БКИ   \n",
       "3             4  2022-11-01       Сайт Банка            ОТКАЗ            БКИ   \n",
       "4             5  2022-11-01             Офис            ОТКАЗ            БКИ   \n",
       "...         ...         ...              ...              ...            ...   \n",
       "1168       1169  2022-11-20       Сайт Банка            ОТКАЗ            БКИ   \n",
       "1169       1170  2022-11-20       Сайт Банка            ОТКАЗ          Лимит   \n",
       "1170       1171  2022-11-20       Сайт Банка            ОТКАЗ            БКИ   \n",
       "1171       1172  2022-11-20       Сайт Банка            ОТКАЗ            БКИ   \n",
       "1172       1173  2022-11-20       Сайт Банка            ОТКАЗ            БКИ   \n",
       "\n",
       "      Возраст клиента Пол клиента  \n",
       "0                  32     Женский  \n",
       "1                  40     Мужской  \n",
       "2                  28     Мужской  \n",
       "3                  23     Мужской  \n",
       "4                  35     Мужской  \n",
       "...               ...         ...  \n",
       "1168               25     Женский  \n",
       "1169               42     Женский  \n",
       "1170               23     Женский  \n",
       "1171               24     Женский  \n",
       "1172               23     Мужской  \n",
       "\n",
       "[775 rows x 7 columns]"
      ]
     },
     "execution_count": 23,
     "metadata": {},
     "output_type": "execute_result"
    }
   ],
   "source": [
    "refusal = df.query('`Статус по заявке` == \"ОТКАЗ\"')\n",
    "refusal"
   ]
  },
  {
   "cell_type": "code",
   "execution_count": 24,
   "id": "a1b192f6",
   "metadata": {},
   "outputs": [
    {
     "data": {
      "text/html": [
       "<div>\n",
       "<style scoped>\n",
       "    .dataframe tbody tr th:only-of-type {\n",
       "        vertical-align: middle;\n",
       "    }\n",
       "\n",
       "    .dataframe tbody tr th {\n",
       "        vertical-align: top;\n",
       "    }\n",
       "\n",
       "    .dataframe thead th {\n",
       "        text-align: right;\n",
       "    }\n",
       "</style>\n",
       "<table border=\"1\" class=\"dataframe\">\n",
       "  <thead>\n",
       "    <tr style=\"text-align: right;\">\n",
       "      <th></th>\n",
       "      <th>Канал оформления</th>\n",
       "      <th>Статус по заявке</th>\n",
       "      <th>Количество отказов</th>\n",
       "      <th>Доля отказов</th>\n",
       "    </tr>\n",
       "  </thead>\n",
       "  <tbody>\n",
       "    <tr>\n",
       "      <th>2</th>\n",
       "      <td>Сайт Банка</td>\n",
       "      <td>ОТКАЗ</td>\n",
       "      <td>488</td>\n",
       "      <td>0.87</td>\n",
       "    </tr>\n",
       "    <tr>\n",
       "      <th>0</th>\n",
       "      <td>Офис</td>\n",
       "      <td>ОТКАЗ</td>\n",
       "      <td>231</td>\n",
       "      <td>0.47</td>\n",
       "    </tr>\n",
       "    <tr>\n",
       "      <th>1</th>\n",
       "      <td>Партнерский канал</td>\n",
       "      <td>ОТКАЗ</td>\n",
       "      <td>56</td>\n",
       "      <td>0.45</td>\n",
       "    </tr>\n",
       "  </tbody>\n",
       "</table>\n",
       "</div>"
      ],
      "text/plain": [
       "    Канал оформления Статус по заявке  Количество отказов  Доля отказов\n",
       "2         Сайт Банка            ОТКАЗ                 488          0.87\n",
       "0               Офис            ОТКАЗ                 231          0.47\n",
       "1  Партнерский канал            ОТКАЗ                  56          0.45"
      ]
     },
     "execution_count": 24,
     "metadata": {},
     "output_type": "execute_result"
    }
   ],
   "source": [
    "df_refusal = refusal.groupby(['Канал оформления', 'Статус по заявке'])['Ид заявки'].count().reset_index()\n",
    "df_refusal = df_refusal.rename(columns={'Ид заявки':'Количество отказов'}).sort_values(by='Количество отказов', ascending=False)\n",
    "df_refusal['Доля отказов'] = round(df_refusal['Количество отказов'] / data['Количество заявок'], 2)\n",
    "df_refusal"
   ]
  },
  {
   "cell_type": "markdown",
   "id": "1213b365",
   "metadata": {},
   "source": [
    "**Вывод:**  \n",
    "Больше всего отказов получают пользователи, оставляющие заявку на сайте банка. Доля таких клиентов 0.87. По двум другим каналам доли отказов примерно одинаковые (0.47 и 0.45)."
   ]
  },
  {
   "cell_type": "markdown",
   "id": "995b5849",
   "metadata": {},
   "source": [
    "**5) Узнаем самую популярную причину отказа по заявкам.**"
   ]
  },
  {
   "cell_type": "code",
   "execution_count": 25,
   "id": "5e4726aa",
   "metadata": {},
   "outputs": [
    {
     "data": {
      "text/plain": [
       "БКИ      464\n",
       "Лимит    174\n",
       "Скор     137\n",
       "Name: Причина отказа, dtype: int64"
      ]
     },
     "execution_count": 25,
     "metadata": {},
     "output_type": "execute_result"
    }
   ],
   "source": [
    "df['Причина отказа'].value_counts()"
   ]
  },
  {
   "cell_type": "markdown",
   "id": "282736a2",
   "metadata": {},
   "source": [
    "**Вывод:**  \n",
    "Самая популярная причина отказа - это БКИ."
   ]
  },
  {
   "cell_type": "markdown",
   "id": "0f962d4b",
   "metadata": {},
   "source": [
    "**6) Дополнительное исследование**"
   ]
  },
  {
   "cell_type": "markdown",
   "id": "a0dc4bde",
   "metadata": {},
   "source": [
    "Определим, за какой срок у нас есть заявки:"
   ]
  },
  {
   "cell_type": "code",
   "execution_count": 26,
   "id": "6f20327d",
   "metadata": {},
   "outputs": [
    {
     "name": "stdout",
     "output_type": "stream",
     "text": [
      "Минимальная дата привлечения пользователей 2022-11-01 00:00:00\n",
      "Максимальная дата привлечения пользователей 2022-11-20 00:00:00\n"
     ]
    }
   ],
   "source": [
    "min_data = df['Дата заявки'].min()\n",
    "max_data = df['Дата заявки'].max()\n",
    "\n",
    "print('Минимальная дата привлечения пользователей', min_data)\n",
    "print('Максимальная дата привлечения пользователей', max_data)"
   ]
  },
  {
   "cell_type": "markdown",
   "id": "6ae16bff",
   "metadata": {},
   "source": [
    "У нас есть данные с 1 по 20 ноября 2022."
   ]
  },
  {
   "cell_type": "markdown",
   "id": "7014c772",
   "metadata": {},
   "source": [
    "Посмотрим, как распределилось количество заявок по датам:"
   ]
  },
  {
   "cell_type": "code",
   "execution_count": 27,
   "id": "658f0a02",
   "metadata": {},
   "outputs": [
    {
     "data": {
      "image/png": "[encoded data removed]",
      "text/plain": [
       "<Figure size 1152x432 with 1 Axes>"
      ]
     },
     "metadata": {
      "needs_background": "light"
     },
     "output_type": "display_data"
    }
   ],
   "source": [
    "plt.figure(figsize=(16, 6))\n",
    "sns.histplot(df['Дата заявки'], color='#89CFFD', bins=50)\n",
    "plt.xlabel('Дата')\n",
    "plt.ylabel('Количество заявок')\n",
    "plt.show()"
   ]
  },
  {
   "cell_type": "markdown",
   "id": "e10d2e97",
   "metadata": {},
   "source": [
    "Видим, что подача заявок неравномерная. Наибольшая активность подачи заявок наблюдалась с 1 по 3, с 7 по 11 и с 14 по 17 ноября 2022. Эти дни приходятся на будни, поэтому и подача заявок гораздо больше, чем в выходные."
   ]
  },
  {
   "cell_type": "markdown",
   "id": "6fc0f1e7",
   "metadata": {},
   "source": [
    "## Общий вывод\n",
    "\n",
    "1) У нас есть данные с 1 по 20 ноября 2022.  \n",
    "2) Есть 3 канала оформления заявок: сайт банка, офис и партнерский канал. Больше всего заявок приносит сайт банка (559). Меньше всего партнерский канал (125).  \n",
    "3) Для партнерского канала наиболее типичным клиентом является мужчина 38 лет с оффером. Если статус заявки \"отказ\", то ее причиной чаще всего будет БКИ.  \n",
    "4) Возраст клиента играет роль в зависимости от канала оформления заявки. Клиенты в возрасте до 40 лет предпочитают оставлять заявки на сайте банка, больше всего заявок оставляют на сайте люди в возрасте от 23 до 28 лет. В офисе больше всего оставляют заявки клиенты в возрасте от 40 до 60 лет. Максимум партнерского канала приносят клиенты в возрасте 38 лет.  \n",
    "5) Больше всего отказов получают пользователи, оставляющие заявку на сайте банка. Доля таких клиентов 0.87. По двум другим каналам доли отказов примерно одинаковые (0.47 и 0.45).  \n",
    "6) Самая популярная причина отказа - это БКИ.  \n",
    "7) Наибольшая активность подачи заявок наблюдалась с 1 по 3, с 7 по 11 и с 14 по 17 ноября 2022. Эти дни приходятся на будни, поэтому и подача заявок гораздо больше, чем в выходные."
   ]
  },
  {
   "cell_type": "code",
   "execution_count": null,
   "id": "cb3ff299",
   "metadata": {},
   "outputs": [],
   "source": []
  }
 ],
 "metadata": {
  "kernelspec": {
   "display_name": "Python 3 (ipykernel)",
   "language": "python",
   "name": "python3"
  },
  "language_info": {
   "codemirror_mode": {
    "name": "ipython",
    "version": 3
   },
   "file_extension": ".py",
   "mimetype": "text/x-python",
   "name": "python",
   "nbconvert_exporter": "python",
   "pygments_lexer": "ipython3",
   "version": "3.9.12"
  },
  "toc": {
   "base_numbering": 1,
   "nav_menu": {},
   "number_sections": true,
   "sideBar": true,
   "skip_h1_title": false,
   "title_cell": "Table of Contents",
   "title_sidebar": "Contents",
   "toc_cell": false,
   "toc_position": {},
   "toc_section_display": true,
   "toc_window_display": false
  }
 },
 "nbformat": 4,
 "nbformat_minor": 5
}
