{
 "cells": [
  {
   "cell_type": "markdown",
   "id": "be492e50",
   "metadata": {},
   "source": [
    "# Анализ рекламного трафика"
   ]
  },
  {
   "cell_type": "markdown",
   "id": "a8cc0589",
   "metadata": {},
   "source": [
    "**Описание проекта**\n",
    "\n",
    "Есть очень крупный мебельный магазин, рекламой занимаются несколько менеджеров. Они в рамках своих компетенций оптимизируют и управляет рекламными кампаниями. Данные представлены за месяц.\n",
    "\n",
    "**Цель исследования**\n",
    "\n",
    "Проанализировать данные по кампаниям, найти зоны роста и сформировать пул гипотез/предложений на следующий месяц. Целевая задача - увеличить доход не менее чем на 10% при сохранении текущего бюджета."
   ]
  },
  {
   "cell_type": "code",
   "execution_count": 1,
   "id": "71d636bc",
   "metadata": {},
   "outputs": [
    {
     "data": {
      "text/html": [
       "        <script type=\"text/javascript\">\n",
       "        window.PlotlyConfig = {MathJaxConfig: 'local'};\n",
       "        if (window.MathJax) {MathJax.Hub.Config({SVG: {font: \"STIX-Web\"}});}\n",
       "        if (typeof require !== 'undefined') {\n",
       "        require.undef(\"plotly\");\n",
       "        requirejs.config({\n",
       "            paths: {\n",
       "                'plotly': ['https://cdn.plot.ly/plotly-2.9.0.min']\n",
       "            }\n",
       "        });\n",
       "        require(['plotly'], function(Plotly) {\n",
       "            window._Plotly = Plotly;\n",
       "        });\n",
       "        }\n",
       "        </script>\n",
       "        "
      ]
     },
     "metadata": {},
     "output_type": "display_data"
    }
   ],
   "source": [
    "import pandas as pd\n",
    "\n",
    "import seaborn as sns\n",
    "#import plotly.graph_objs as go\n",
    "import matplotlib.pyplot as plt\n",
    "\n",
    "#import plotly.io as pio\n",
    "#pio.renderers.default='notebook'\n",
    "\n",
    "#import plotly.io as pio\n",
    "#pio.renderers\n",
    "\n",
    "from plotly.offline import plot, iplot, init_notebook_mode\n",
    "import plotly.graph_objs as go\n",
    "init_notebook_mode(connected=True)"
   ]
  },
  {
   "cell_type": "code",
   "execution_count": 2,
   "id": "1f49392c",
   "metadata": {},
   "outputs": [
    {
     "data": {
      "text/html": [
       "<div>\n",
       "<style scoped>\n",
       "    .dataframe tbody tr th:only-of-type {\n",
       "        vertical-align: middle;\n",
       "    }\n",
       "\n",
       "    .dataframe tbody tr th {\n",
       "        vertical-align: top;\n",
       "    }\n",
       "\n",
       "    .dataframe thead th {\n",
       "        text-align: right;\n",
       "    }\n",
       "</style>\n",
       "<table border=\"1\" class=\"dataframe\">\n",
       "  <thead>\n",
       "    <tr style=\"text-align: right;\">\n",
       "      <th></th>\n",
       "      <th>Кампания</th>\n",
       "      <th>Город</th>\n",
       "      <th>Наименование</th>\n",
       "      <th>Тип мебели</th>\n",
       "      <th>Доп инфо</th>\n",
       "      <th>Стоимость</th>\n",
       "      <th>Цена за клик</th>\n",
       "      <th>Цена за конверсию</th>\n",
       "      <th>Цена за транзакцию</th>\n",
       "      <th>Доход от клика</th>\n",
       "      <th>Доход</th>\n",
       "      <th>Рентабельность инвестиций в рекламу</th>\n",
       "      <th>Цена за конверсию / Стоимость</th>\n",
       "    </tr>\n",
       "  </thead>\n",
       "  <tbody>\n",
       "    <tr>\n",
       "      <th>0</th>\n",
       "      <td>msk_couches_corner_selling-words_search-v2</td>\n",
       "      <td>msk</td>\n",
       "      <td>couches</td>\n",
       "      <td>corner</td>\n",
       "      <td>selling-words_search-v2</td>\n",
       "      <td>178034.25</td>\n",
       "      <td>95.256421</td>\n",
       "      <td>2405.868243</td>\n",
       "      <td>0.000000</td>\n",
       "      <td>0.545746</td>\n",
       "      <td>0</td>\n",
       "      <td>0.005729</td>\n",
       "      <td>0.013514</td>\n",
       "    </tr>\n",
       "    <tr>\n",
       "      <th>1</th>\n",
       "      <td>chel_mebel_all-types_search</td>\n",
       "      <td>chel</td>\n",
       "      <td>mebel</td>\n",
       "      <td>all-types</td>\n",
       "      <td>search</td>\n",
       "      <td>100986.23</td>\n",
       "      <td>130.811179</td>\n",
       "      <td>1980.122157</td>\n",
       "      <td>0.000000</td>\n",
       "      <td>3.987047</td>\n",
       "      <td>0</td>\n",
       "      <td>0.030479</td>\n",
       "      <td>0.019608</td>\n",
       "    </tr>\n",
       "    <tr>\n",
       "      <th>2</th>\n",
       "      <td>spb_bed_generic_search_v5</td>\n",
       "      <td>spb</td>\n",
       "      <td>bed</td>\n",
       "      <td>generic</td>\n",
       "      <td>search_v5</td>\n",
       "      <td>99114.09</td>\n",
       "      <td>88.336979</td>\n",
       "      <td>935.038585</td>\n",
       "      <td>0.000000</td>\n",
       "      <td>0.200535</td>\n",
       "      <td>0</td>\n",
       "      <td>0.002270</td>\n",
       "      <td>0.009434</td>\n",
       "    </tr>\n",
       "    <tr>\n",
       "      <th>3</th>\n",
       "      <td>msk_bed_size_network_v5</td>\n",
       "      <td>msk</td>\n",
       "      <td>bed</td>\n",
       "      <td>size</td>\n",
       "      <td>network_v5</td>\n",
       "      <td>97694.04</td>\n",
       "      <td>146.029955</td>\n",
       "      <td>506.186736</td>\n",
       "      <td>0.000000</td>\n",
       "      <td>0.041854</td>\n",
       "      <td>0</td>\n",
       "      <td>0.000287</td>\n",
       "      <td>0.005181</td>\n",
       "    </tr>\n",
       "    <tr>\n",
       "      <th>4</th>\n",
       "      <td>msk_bedroom_bed_general-words_akcii_network-v2</td>\n",
       "      <td>msk</td>\n",
       "      <td>bedroom</td>\n",
       "      <td>bed</td>\n",
       "      <td>general-words_akcii_network-v2</td>\n",
       "      <td>93648.00</td>\n",
       "      <td>144.295840</td>\n",
       "      <td>909.203883</td>\n",
       "      <td>0.000000</td>\n",
       "      <td>0.670262</td>\n",
       "      <td>0</td>\n",
       "      <td>0.004645</td>\n",
       "      <td>0.009709</td>\n",
       "    </tr>\n",
       "    <tr>\n",
       "      <th>...</th>\n",
       "      <td>...</td>\n",
       "      <td>...</td>\n",
       "      <td>...</td>\n",
       "      <td>...</td>\n",
       "      <td>...</td>\n",
       "      <td>...</td>\n",
       "      <td>...</td>\n",
       "      <td>...</td>\n",
       "      <td>...</td>\n",
       "      <td>...</td>\n",
       "      <td>...</td>\n",
       "      <td>...</td>\n",
       "      <td>...</td>\n",
       "    </tr>\n",
       "    <tr>\n",
       "      <th>495</th>\n",
       "      <td>msk_magazin-mebeli_asmaster</td>\n",
       "      <td>msk</td>\n",
       "      <td>magazin-mebeli</td>\n",
       "      <td>NaN</td>\n",
       "      <td>NaN</td>\n",
       "      <td>1066203.80</td>\n",
       "      <td>98.041729</td>\n",
       "      <td>358.991178</td>\n",
       "      <td>15913.489552</td>\n",
       "      <td>220.687448</td>\n",
       "      <td>2374281</td>\n",
       "      <td>2.250954</td>\n",
       "      <td>0.000337</td>\n",
       "    </tr>\n",
       "    <tr>\n",
       "      <th>496</th>\n",
       "      <td>msk_dsa_pg_search</td>\n",
       "      <td>msk</td>\n",
       "      <td>dsa</td>\n",
       "      <td>pg</td>\n",
       "      <td>search</td>\n",
       "      <td>1689478.74</td>\n",
       "      <td>74.739161</td>\n",
       "      <td>830.210683</td>\n",
       "      <td>25991.980615</td>\n",
       "      <td>113.493563</td>\n",
       "      <td>2536950</td>\n",
       "      <td>1.518529</td>\n",
       "      <td>0.000491</td>\n",
       "    </tr>\n",
       "    <tr>\n",
       "      <th>497</th>\n",
       "      <td>msk_smart_banner_retargeting_new_lal_roi</td>\n",
       "      <td>msk</td>\n",
       "      <td>smart</td>\n",
       "      <td>banner</td>\n",
       "      <td>retargeting_new_lal_roi</td>\n",
       "      <td>836894.23</td>\n",
       "      <td>43.672402</td>\n",
       "      <td>204.170342</td>\n",
       "      <td>8539.737041</td>\n",
       "      <td>167.381516</td>\n",
       "      <td>3166232</td>\n",
       "      <td>3.832661</td>\n",
       "      <td>0.000244</td>\n",
       "    </tr>\n",
       "    <tr>\n",
       "      <th>498</th>\n",
       "      <td>spb_brand_search-v2</td>\n",
       "      <td>spb</td>\n",
       "      <td>brand</td>\n",
       "      <td>NaN</td>\n",
       "      <td>NaN</td>\n",
       "      <td>1044593.43</td>\n",
       "      <td>64.050121</td>\n",
       "      <td>134.716718</td>\n",
       "      <td>4002.273678</td>\n",
       "      <td>520.975780</td>\n",
       "      <td>8415962</td>\n",
       "      <td>8.133877</td>\n",
       "      <td>0.000129</td>\n",
       "    </tr>\n",
       "    <tr>\n",
       "      <th>499</th>\n",
       "      <td>msk_brand_search-v2</td>\n",
       "      <td>msk</td>\n",
       "      <td>brand</td>\n",
       "      <td>NaN</td>\n",
       "      <td>NaN</td>\n",
       "      <td>3041597.51</td>\n",
       "      <td>71.476183</td>\n",
       "      <td>165.511101</td>\n",
       "      <td>5570.691410</td>\n",
       "      <td>473.170865</td>\n",
       "      <td>19881597</td>\n",
       "      <td>6.619979</td>\n",
       "      <td>0.000054</td>\n",
       "    </tr>\n",
       "  </tbody>\n",
       "</table>\n",
       "<p>500 rows × 13 columns</p>\n",
       "</div>"
      ],
      "text/plain": [
       "                                           Кампания Город    Наименование  \\\n",
       "0        msk_couches_corner_selling-words_search-v2   msk         couches   \n",
       "1                       chel_mebel_all-types_search  chel           mebel   \n",
       "2                         spb_bed_generic_search_v5   spb             bed   \n",
       "3                           msk_bed_size_network_v5   msk             bed   \n",
       "4    msk_bedroom_bed_general-words_akcii_network-v2   msk         bedroom   \n",
       "..                                              ...   ...             ...   \n",
       "495                     msk_magazin-mebeli_asmaster   msk  magazin-mebeli   \n",
       "496                               msk_dsa_pg_search   msk             dsa   \n",
       "497        msk_smart_banner_retargeting_new_lal_roi   msk           smart   \n",
       "498                             spb_brand_search-v2   spb           brand   \n",
       "499                             msk_brand_search-v2   msk           brand   \n",
       "\n",
       "    Тип мебели                        Доп инфо   Стоимость  Цена за клик  \\\n",
       "0       corner         selling-words_search-v2   178034.25     95.256421   \n",
       "1    all-types                          search   100986.23    130.811179   \n",
       "2      generic                       search_v5    99114.09     88.336979   \n",
       "3         size                      network_v5    97694.04    146.029955   \n",
       "4          bed  general-words_akcii_network-v2    93648.00    144.295840   \n",
       "..         ...                             ...         ...           ...   \n",
       "495        NaN                             NaN  1066203.80     98.041729   \n",
       "496         pg                          search  1689478.74     74.739161   \n",
       "497     banner         retargeting_new_lal_roi   836894.23     43.672402   \n",
       "498        NaN                             NaN  1044593.43     64.050121   \n",
       "499        NaN                             NaN  3041597.51     71.476183   \n",
       "\n",
       "     Цена за конверсию  Цена за транзакцию  Доход от клика     Доход  \\\n",
       "0          2405.868243            0.000000        0.545746         0   \n",
       "1          1980.122157            0.000000        3.987047         0   \n",
       "2           935.038585            0.000000        0.200535         0   \n",
       "3           506.186736            0.000000        0.041854         0   \n",
       "4           909.203883            0.000000        0.670262         0   \n",
       "..                 ...                 ...             ...       ...   \n",
       "495         358.991178        15913.489552      220.687448   2374281   \n",
       "496         830.210683        25991.980615      113.493563   2536950   \n",
       "497         204.170342         8539.737041      167.381516   3166232   \n",
       "498         134.716718         4002.273678      520.975780   8415962   \n",
       "499         165.511101         5570.691410      473.170865  19881597   \n",
       "\n",
       "     Рентабельность инвестиций в рекламу  Цена за конверсию / Стоимость  \n",
       "0                               0.005729                       0.013514  \n",
       "1                               0.030479                       0.019608  \n",
       "2                               0.002270                       0.009434  \n",
       "3                               0.000287                       0.005181  \n",
       "4                               0.004645                       0.009709  \n",
       "..                                   ...                            ...  \n",
       "495                             2.250954                       0.000337  \n",
       "496                             1.518529                       0.000491  \n",
       "497                             3.832661                       0.000244  \n",
       "498                             8.133877                       0.000129  \n",
       "499                             6.619979                       0.000054  \n",
       "\n",
       "[500 rows x 13 columns]"
      ]
     },
     "execution_count": 2,
     "metadata": {},
     "output_type": "execute_result"
    }
   ],
   "source": [
    "df = pd.read_excel('C:\\\\Anya\\\\карьерный_трек_ЯП\\\\тестовые\\\\мастерская_ЯП\\\\table.xlsx')\n",
    "df"
   ]
  },
  {
   "cell_type": "code",
   "execution_count": 3,
   "id": "25d93693",
   "metadata": {},
   "outputs": [
    {
     "name": "stdout",
     "output_type": "stream",
     "text": [
      "<class 'pandas.core.frame.DataFrame'>\n",
      "RangeIndex: 500 entries, 0 to 499\n",
      "Data columns (total 13 columns):\n",
      " #   Column                               Non-Null Count  Dtype  \n",
      "---  ------                               --------------  -----  \n",
      " 0   Кампания                             500 non-null    object \n",
      " 1   Город                                500 non-null    object \n",
      " 2   Наименование                         500 non-null    object \n",
      " 3   Тип мебели                           454 non-null    object \n",
      " 4   Доп инфо                             454 non-null    object \n",
      " 5   Стоимость                            500 non-null    float64\n",
      " 6   Цена за клик                         500 non-null    float64\n",
      " 7   Цена за конверсию                    500 non-null    float64\n",
      " 8   Цена за транзакцию                   500 non-null    float64\n",
      " 9   Доход от клика                       500 non-null    float64\n",
      " 10  Доход                                500 non-null    int64  \n",
      " 11  Рентабельность инвестиций в рекламу  500 non-null    float64\n",
      " 12  Цена за конверсию / Стоимость        500 non-null    float64\n",
      "dtypes: float64(7), int64(1), object(5)\n",
      "memory usage: 50.9+ KB\n"
     ]
    }
   ],
   "source": [
    "df.info()"
   ]
  },
  {
   "cell_type": "markdown",
   "id": "4b72d22c",
   "metadata": {},
   "source": [
    "Посчитаем наш суммарный доход со всех рекламных кампаний и их суммарную стоимость:"
   ]
  },
  {
   "cell_type": "code",
   "execution_count": 4,
   "id": "ad144715",
   "metadata": {},
   "outputs": [
    {
     "data": {
      "text/plain": [
       "78217127"
      ]
     },
     "execution_count": 4,
     "metadata": {},
     "output_type": "execute_result"
    }
   ],
   "source": [
    "df['Доход'].sum()"
   ]
  },
  {
   "cell_type": "code",
   "execution_count": 5,
   "id": "eeb8f69a",
   "metadata": {},
   "outputs": [
    {
     "data": {
      "text/plain": [
       "41534217.550000004"
      ]
     },
     "execution_count": 5,
     "metadata": {},
     "output_type": "execute_result"
    }
   ],
   "source": [
    "df['Стоимость'].sum()"
   ]
  },
  {
   "cell_type": "markdown",
   "id": "5ce232da",
   "metadata": {},
   "source": [
    "Текущая стоимость всех кампаний получилась примерно 41,5 млн, при этом общий доход 78 млн. Нам необходимо повысить наш доход минимум на 10%. Посчитаем его:"
   ]
  },
  {
   "cell_type": "code",
   "execution_count": 6,
   "id": "e7296633",
   "metadata": {},
   "outputs": [
    {
     "data": {
      "text/plain": [
       "86038839.7"
      ]
     },
     "execution_count": 6,
     "metadata": {},
     "output_type": "execute_result"
    }
   ],
   "source": [
    "df['Доход'].sum() + df['Доход'].sum() * 0.1"
   ]
  },
  {
   "cell_type": "markdown",
   "id": "6d3432a3",
   "metadata": {},
   "source": [
    "Новый доход должен быть не меньше 86 млн."
   ]
  },
  {
   "cell_type": "markdown",
   "id": "44de7ec6",
   "metadata": {},
   "source": [
    "1) Посмотрим на данные в разрезе по городам:"
   ]
  },
  {
   "cell_type": "markdown",
   "id": "0b283590",
   "metadata": {},
   "source": [
    "Сначала определим, сколько у нас всего есть уникальных городов:"
   ]
  },
  {
   "cell_type": "code",
   "execution_count": 7,
   "id": "0a4f5c9f",
   "metadata": {},
   "outputs": [
    {
     "data": {
      "text/plain": [
       "40"
      ]
     },
     "execution_count": 7,
     "metadata": {},
     "output_type": "execute_result"
    }
   ],
   "source": [
    "df['Город'].nunique()"
   ]
  },
  {
   "cell_type": "markdown",
   "id": "ec647f2f",
   "metadata": {},
   "source": [
    "Посмотрим, какие это города:"
   ]
  },
  {
   "cell_type": "code",
   "execution_count": 8,
   "id": "2b5c51c5",
   "metadata": {},
   "outputs": [
    {
     "data": {
      "text/plain": [
       "array(['msk', 'chel', 'spb', 'nsk', 'tvr', 'kra', 'nnov', 'vor', 'kazan',\n",
       "       'ros', 'orel', 'perm', 'ryz', 'vlg', 'vld', 'kal', 'yar', 'tul',\n",
       "       'smol', 'barn', 'sim', 'tmsk', 'sta', 'tyum', 'tamb', 'sarat',\n",
       "       'lip', 'kursk', 'sev', 'ekb', 'belg', 'cfo', 'bryan', 'ufa',\n",
       "       'volgd', 'tolyat', 'ivanovo', 'vlad', 'reg', 'countries'],\n",
       "      dtype=object)"
      ]
     },
     "execution_count": 8,
     "metadata": {},
     "output_type": "execute_result"
    }
   ],
   "source": [
    "df['Город'].unique()"
   ]
  },
  {
   "cell_type": "markdown",
   "id": "ecbb8e5b",
   "metadata": {},
   "source": [
    "Есть одно значение 'reg', возможно, в него входят рекламные кампании из разных регионов, которые не указаны отдельно в таблице."
   ]
  },
  {
   "cell_type": "code",
   "execution_count": 9,
   "id": "7d6ff0cc",
   "metadata": {},
   "outputs": [
    {
     "data": {
      "text/html": [
       "<div>\n",
       "<style scoped>\n",
       "    .dataframe tbody tr th:only-of-type {\n",
       "        vertical-align: middle;\n",
       "    }\n",
       "\n",
       "    .dataframe tbody tr th {\n",
       "        vertical-align: top;\n",
       "    }\n",
       "\n",
       "    .dataframe thead th {\n",
       "        text-align: right;\n",
       "    }\n",
       "</style>\n",
       "<table border=\"1\" class=\"dataframe\">\n",
       "  <thead>\n",
       "    <tr style=\"text-align: right;\">\n",
       "      <th></th>\n",
       "      <th>Кампания</th>\n",
       "      <th>Город</th>\n",
       "      <th>Наименование</th>\n",
       "      <th>Тип мебели</th>\n",
       "      <th>Доп инфо</th>\n",
       "      <th>Стоимость</th>\n",
       "      <th>Цена за клик</th>\n",
       "      <th>Цена за конверсию</th>\n",
       "      <th>Цена за транзакцию</th>\n",
       "      <th>Доход от клика</th>\n",
       "      <th>Доход</th>\n",
       "      <th>Рентабельность инвестиций в рекламу</th>\n",
       "      <th>Цена за конверсию / Стоимость</th>\n",
       "    </tr>\n",
       "  </thead>\n",
       "  <tbody>\n",
       "    <tr>\n",
       "      <th>241</th>\n",
       "      <td>reg_competitors_models_search</td>\n",
       "      <td>reg</td>\n",
       "      <td>competitors</td>\n",
       "      <td>models</td>\n",
       "      <td>search</td>\n",
       "      <td>13222.67</td>\n",
       "      <td>62.666682</td>\n",
       "      <td>314.825476</td>\n",
       "      <td>0.0</td>\n",
       "      <td>0.000000</td>\n",
       "      <td>0</td>\n",
       "      <td>0.000000</td>\n",
       "      <td>0.023810</td>\n",
       "    </tr>\n",
       "    <tr>\n",
       "      <th>373</th>\n",
       "      <td>reg_categor_retargeting_new-segment_promokod</td>\n",
       "      <td>reg</td>\n",
       "      <td>categor</td>\n",
       "      <td>retargeting</td>\n",
       "      <td>new-segment_promokod</td>\n",
       "      <td>41580.00</td>\n",
       "      <td>61.508876</td>\n",
       "      <td>151.200000</td>\n",
       "      <td>20790.0</td>\n",
       "      <td>104.850592</td>\n",
       "      <td>68480</td>\n",
       "      <td>1.704642</td>\n",
       "      <td>0.003636</td>\n",
       "    </tr>\n",
       "    <tr>\n",
       "      <th>423</th>\n",
       "      <td>reg_categor_retargeting_new-segment_old</td>\n",
       "      <td>reg</td>\n",
       "      <td>categor</td>\n",
       "      <td>retargeting</td>\n",
       "      <td>new-segment_old</td>\n",
       "      <td>24010.00</td>\n",
       "      <td>51.085106</td>\n",
       "      <td>99.626556</td>\n",
       "      <td>6002.5</td>\n",
       "      <td>318.204255</td>\n",
       "      <td>147250</td>\n",
       "      <td>6.228905</td>\n",
       "      <td>0.004149</td>\n",
       "    </tr>\n",
       "  </tbody>\n",
       "</table>\n",
       "</div>"
      ],
      "text/plain": [
       "                                         Кампания Город Наименование  \\\n",
       "241                 reg_competitors_models_search   reg  competitors   \n",
       "373  reg_categor_retargeting_new-segment_promokod   reg      categor   \n",
       "423       reg_categor_retargeting_new-segment_old   reg      categor   \n",
       "\n",
       "      Тип мебели              Доп инфо  Стоимость  Цена за клик  \\\n",
       "241       models                search   13222.67     62.666682   \n",
       "373  retargeting  new-segment_promokod   41580.00     61.508876   \n",
       "423  retargeting       new-segment_old   24010.00     51.085106   \n",
       "\n",
       "     Цена за конверсию  Цена за транзакцию  Доход от клика   Доход  \\\n",
       "241         314.825476                 0.0        0.000000       0   \n",
       "373         151.200000             20790.0      104.850592   68480   \n",
       "423          99.626556              6002.5      318.204255  147250   \n",
       "\n",
       "     Рентабельность инвестиций в рекламу  Цена за конверсию / Стоимость  \n",
       "241                             0.000000                       0.023810  \n",
       "373                             1.704642                       0.003636  \n",
       "423                             6.228905                       0.004149  "
      ]
     },
     "execution_count": 9,
     "metadata": {},
     "output_type": "execute_result"
    }
   ],
   "source": [
    "df.query('Город == \"reg\"')"
   ]
  },
  {
   "cell_type": "markdown",
   "id": "4d5bf505",
   "metadata": {},
   "source": [
    "Есть 1 значение countries в столбце город. Возможно, туда входят товары из других стран."
   ]
  },
  {
   "cell_type": "code",
   "execution_count": 10,
   "id": "1295e4a6",
   "metadata": {},
   "outputs": [
    {
     "data": {
      "text/html": [
       "<div>\n",
       "<style scoped>\n",
       "    .dataframe tbody tr th:only-of-type {\n",
       "        vertical-align: middle;\n",
       "    }\n",
       "\n",
       "    .dataframe tbody tr th {\n",
       "        vertical-align: top;\n",
       "    }\n",
       "\n",
       "    .dataframe thead th {\n",
       "        text-align: right;\n",
       "    }\n",
       "</style>\n",
       "<table border=\"1\" class=\"dataframe\">\n",
       "  <thead>\n",
       "    <tr style=\"text-align: right;\">\n",
       "      <th></th>\n",
       "      <th>Кампания</th>\n",
       "      <th>Город</th>\n",
       "      <th>Наименование</th>\n",
       "      <th>Тип мебели</th>\n",
       "      <th>Доп инфо</th>\n",
       "      <th>Стоимость</th>\n",
       "      <th>Цена за клик</th>\n",
       "      <th>Цена за конверсию</th>\n",
       "      <th>Цена за транзакцию</th>\n",
       "      <th>Доход от клика</th>\n",
       "      <th>Доход</th>\n",
       "      <th>Рентабельность инвестиций в рекламу</th>\n",
       "      <th>Цена за конверсию / Стоимость</th>\n",
       "    </tr>\n",
       "  </thead>\n",
       "  <tbody>\n",
       "    <tr>\n",
       "      <th>448</th>\n",
       "      <td>countries_couches_generic_search_v5</td>\n",
       "      <td>countries</td>\n",
       "      <td>couches</td>\n",
       "      <td>generic</td>\n",
       "      <td>search_v5</td>\n",
       "      <td>22953.88</td>\n",
       "      <td>35.698103</td>\n",
       "      <td>244.190213</td>\n",
       "      <td>7651.293333</td>\n",
       "      <td>352.628305</td>\n",
       "      <td>223470</td>\n",
       "      <td>9.878069</td>\n",
       "      <td>0.010638</td>\n",
       "    </tr>\n",
       "  </tbody>\n",
       "</table>\n",
       "</div>"
      ],
      "text/plain": [
       "                                Кампания      Город Наименование Тип мебели  \\\n",
       "448  countries_couches_generic_search_v5  countries      couches    generic   \n",
       "\n",
       "      Доп инфо  Стоимость  Цена за клик  Цена за конверсию  \\\n",
       "448  search_v5   22953.88     35.698103         244.190213   \n",
       "\n",
       "     Цена за транзакцию  Доход от клика   Доход  \\\n",
       "448         7651.293333      352.628305  223470   \n",
       "\n",
       "     Рентабельность инвестиций в рекламу  Цена за конверсию / Стоимость  \n",
       "448                             9.878069                       0.010638  "
      ]
     },
     "execution_count": 10,
     "metadata": {},
     "output_type": "execute_result"
    }
   ],
   "source": [
    "df.query('Город == \"countries\"')"
   ]
  },
  {
   "cell_type": "markdown",
   "id": "aca92e3f",
   "metadata": {},
   "source": [
    "Сгруппируем данные по городам и отсортируем их по доходу:"
   ]
  },
  {
   "cell_type": "code",
   "execution_count": 11,
   "id": "51ed6f35",
   "metadata": {},
   "outputs": [
    {
     "data": {
      "text/html": [
       "<div>\n",
       "<style scoped>\n",
       "    .dataframe tbody tr th:only-of-type {\n",
       "        vertical-align: middle;\n",
       "    }\n",
       "\n",
       "    .dataframe tbody tr th {\n",
       "        vertical-align: top;\n",
       "    }\n",
       "\n",
       "    .dataframe thead th {\n",
       "        text-align: right;\n",
       "    }\n",
       "</style>\n",
       "<table border=\"1\" class=\"dataframe\">\n",
       "  <thead>\n",
       "    <tr style=\"text-align: right;\">\n",
       "      <th></th>\n",
       "      <th>Город</th>\n",
       "      <th>Стоимость</th>\n",
       "      <th>Цена за клик</th>\n",
       "      <th>Цена за конверсию</th>\n",
       "      <th>Цена за транзакцию</th>\n",
       "      <th>Доход от клика</th>\n",
       "      <th>Доход</th>\n",
       "      <th>Рентабельность инвестиций в рекламу</th>\n",
       "      <th>Цена за конверсию / Стоимость</th>\n",
       "    </tr>\n",
       "  </thead>\n",
       "  <tbody>\n",
       "    <tr>\n",
       "      <th>13</th>\n",
       "      <td>msk</td>\n",
       "      <td>19299179.34</td>\n",
       "      <td>7983.073515</td>\n",
       "      <td>63407.260221</td>\n",
       "      <td>2.470294e+06</td>\n",
       "      <td>9401.894861</td>\n",
       "      <td>45353118</td>\n",
       "      <td>121.319685</td>\n",
       "      <td>1.236797</td>\n",
       "    </tr>\n",
       "    <tr>\n",
       "      <th>25</th>\n",
       "      <td>spb</td>\n",
       "      <td>6804493.79</td>\n",
       "      <td>4006.523798</td>\n",
       "      <td>34132.414570</td>\n",
       "      <td>1.112810e+06</td>\n",
       "      <td>5296.962237</td>\n",
       "      <td>14907997</td>\n",
       "      <td>63.397391</td>\n",
       "      <td>0.996700</td>\n",
       "    </tr>\n",
       "    <tr>\n",
       "      <th>10</th>\n",
       "      <td>kra</td>\n",
       "      <td>1521491.57</td>\n",
       "      <td>1699.126001</td>\n",
       "      <td>17209.845367</td>\n",
       "      <td>3.897371e+05</td>\n",
       "      <td>1651.887844</td>\n",
       "      <td>2635032</td>\n",
       "      <td>33.459201</td>\n",
       "      <td>0.392004</td>\n",
       "    </tr>\n",
       "    <tr>\n",
       "      <th>6</th>\n",
       "      <td>ekb</td>\n",
       "      <td>1243319.32</td>\n",
       "      <td>1010.543714</td>\n",
       "      <td>15842.676523</td>\n",
       "      <td>4.283721e+05</td>\n",
       "      <td>1720.109546</td>\n",
       "      <td>2021615</td>\n",
       "      <td>26.896230</td>\n",
       "      <td>0.646312</td>\n",
       "    </tr>\n",
       "    <tr>\n",
       "      <th>35</th>\n",
       "      <td>vld</td>\n",
       "      <td>591828.40</td>\n",
       "      <td>912.562447</td>\n",
       "      <td>18359.551151</td>\n",
       "      <td>1.459767e+05</td>\n",
       "      <td>1010.802877</td>\n",
       "      <td>1535677</td>\n",
       "      <td>24.566966</td>\n",
       "      <td>0.770824</td>\n",
       "    </tr>\n",
       "  </tbody>\n",
       "</table>\n",
       "</div>"
      ],
      "text/plain": [
       "   Город    Стоимость  Цена за клик  Цена за конверсию  Цена за транзакцию  \\\n",
       "13   msk  19299179.34   7983.073515       63407.260221        2.470294e+06   \n",
       "25   spb   6804493.79   4006.523798       34132.414570        1.112810e+06   \n",
       "10   kra   1521491.57   1699.126001       17209.845367        3.897371e+05   \n",
       "6    ekb   1243319.32   1010.543714       15842.676523        4.283721e+05   \n",
       "35   vld    591828.40    912.562447       18359.551151        1.459767e+05   \n",
       "\n",
       "    Доход от клика     Доход  Рентабельность инвестиций в рекламу  \\\n",
       "13     9401.894861  45353118                           121.319685   \n",
       "25     5296.962237  14907997                            63.397391   \n",
       "10     1651.887844   2635032                            33.459201   \n",
       "6      1720.109546   2021615                            26.896230   \n",
       "35     1010.802877   1535677                            24.566966   \n",
       "\n",
       "    Цена за конверсию / Стоимость  \n",
       "13                       1.236797  \n",
       "25                       0.996700  \n",
       "10                       0.392004  \n",
       "6                        0.646312  \n",
       "35                       0.770824  "
      ]
     },
     "execution_count": 11,
     "metadata": {},
     "output_type": "execute_result"
    }
   ],
   "source": [
    "df_city = df.groupby('Город').sum().reset_index()\n",
    "df_city = df_city.sort_values(by='Доход', ascending=False)\n",
    "df_city.head()"
   ]
  },
  {
   "cell_type": "markdown",
   "id": "86e2bdba",
   "metadata": {},
   "source": [
    "Добавим столбец с расчетом доли дохода для каждого города от общего количества:"
   ]
  },
  {
   "cell_type": "code",
   "execution_count": 12,
   "id": "bcd89378",
   "metadata": {},
   "outputs": [
    {
     "data": {
      "text/html": [
       "<div>\n",
       "<style scoped>\n",
       "    .dataframe tbody tr th:only-of-type {\n",
       "        vertical-align: middle;\n",
       "    }\n",
       "\n",
       "    .dataframe tbody tr th {\n",
       "        vertical-align: top;\n",
       "    }\n",
       "\n",
       "    .dataframe thead th {\n",
       "        text-align: right;\n",
       "    }\n",
       "</style>\n",
       "<table border=\"1\" class=\"dataframe\">\n",
       "  <thead>\n",
       "    <tr style=\"text-align: right;\">\n",
       "      <th></th>\n",
       "      <th>Город</th>\n",
       "      <th>Стоимость</th>\n",
       "      <th>Цена за клик</th>\n",
       "      <th>Цена за конверсию</th>\n",
       "      <th>Цена за транзакцию</th>\n",
       "      <th>Доход от клика</th>\n",
       "      <th>Доход</th>\n",
       "      <th>Рентабельность инвестиций в рекламу</th>\n",
       "      <th>Цена за конверсию / Стоимость</th>\n",
       "      <th>% от Дохода</th>\n",
       "    </tr>\n",
       "  </thead>\n",
       "  <tbody>\n",
       "    <tr>\n",
       "      <th>13</th>\n",
       "      <td>msk</td>\n",
       "      <td>19299179.34</td>\n",
       "      <td>7983.073515</td>\n",
       "      <td>63407.260221</td>\n",
       "      <td>2.470294e+06</td>\n",
       "      <td>9401.894861</td>\n",
       "      <td>45353118</td>\n",
       "      <td>121.319685</td>\n",
       "      <td>1.236797</td>\n",
       "      <td>57.983615</td>\n",
       "    </tr>\n",
       "    <tr>\n",
       "      <th>25</th>\n",
       "      <td>spb</td>\n",
       "      <td>6804493.79</td>\n",
       "      <td>4006.523798</td>\n",
       "      <td>34132.414570</td>\n",
       "      <td>1.112810e+06</td>\n",
       "      <td>5296.962237</td>\n",
       "      <td>14907997</td>\n",
       "      <td>63.397391</td>\n",
       "      <td>0.996700</td>\n",
       "      <td>19.059760</td>\n",
       "    </tr>\n",
       "    <tr>\n",
       "      <th>10</th>\n",
       "      <td>kra</td>\n",
       "      <td>1521491.57</td>\n",
       "      <td>1699.126001</td>\n",
       "      <td>17209.845367</td>\n",
       "      <td>3.897371e+05</td>\n",
       "      <td>1651.887844</td>\n",
       "      <td>2635032</td>\n",
       "      <td>33.459201</td>\n",
       "      <td>0.392004</td>\n",
       "      <td>3.368868</td>\n",
       "    </tr>\n",
       "    <tr>\n",
       "      <th>6</th>\n",
       "      <td>ekb</td>\n",
       "      <td>1243319.32</td>\n",
       "      <td>1010.543714</td>\n",
       "      <td>15842.676523</td>\n",
       "      <td>4.283721e+05</td>\n",
       "      <td>1720.109546</td>\n",
       "      <td>2021615</td>\n",
       "      <td>26.896230</td>\n",
       "      <td>0.646312</td>\n",
       "      <td>2.584619</td>\n",
       "    </tr>\n",
       "    <tr>\n",
       "      <th>35</th>\n",
       "      <td>vld</td>\n",
       "      <td>591828.40</td>\n",
       "      <td>912.562447</td>\n",
       "      <td>18359.551151</td>\n",
       "      <td>1.459767e+05</td>\n",
       "      <td>1010.802877</td>\n",
       "      <td>1535677</td>\n",
       "      <td>24.566966</td>\n",
       "      <td>0.770824</td>\n",
       "      <td>1.963351</td>\n",
       "    </tr>\n",
       "  </tbody>\n",
       "</table>\n",
       "</div>"
      ],
      "text/plain": [
       "   Город    Стоимость  Цена за клик  Цена за конверсию  Цена за транзакцию  \\\n",
       "13   msk  19299179.34   7983.073515       63407.260221        2.470294e+06   \n",
       "25   spb   6804493.79   4006.523798       34132.414570        1.112810e+06   \n",
       "10   kra   1521491.57   1699.126001       17209.845367        3.897371e+05   \n",
       "6    ekb   1243319.32   1010.543714       15842.676523        4.283721e+05   \n",
       "35   vld    591828.40    912.562447       18359.551151        1.459767e+05   \n",
       "\n",
       "    Доход от клика     Доход  Рентабельность инвестиций в рекламу  \\\n",
       "13     9401.894861  45353118                           121.319685   \n",
       "25     5296.962237  14907997                            63.397391   \n",
       "10     1651.887844   2635032                            33.459201   \n",
       "6      1720.109546   2021615                            26.896230   \n",
       "35     1010.802877   1535677                            24.566966   \n",
       "\n",
       "    Цена за конверсию / Стоимость  % от Дохода  \n",
       "13                       1.236797    57.983615  \n",
       "25                       0.996700    19.059760  \n",
       "10                       0.392004     3.368868  \n",
       "6                        0.646312     2.584619  \n",
       "35                       0.770824     1.963351  "
      ]
     },
     "execution_count": 12,
     "metadata": {},
     "output_type": "execute_result"
    }
   ],
   "source": [
    "df_city['% от Дохода'] = df_city['Доход'] / df['Доход'].sum() * 100\n",
    "df_city.head()"
   ]
  },
  {
   "cell_type": "markdown",
   "id": "a0f1eddf",
   "metadata": {},
   "source": [
    "Города, в которых доход меньше 1%, объединим в группу 'other':"
   ]
  },
  {
   "cell_type": "code",
   "execution_count": 13,
   "id": "7435273b",
   "metadata": {},
   "outputs": [
    {
     "data": {
      "text/html": [
       "<div>\n",
       "<style scoped>\n",
       "    .dataframe tbody tr th:only-of-type {\n",
       "        vertical-align: middle;\n",
       "    }\n",
       "\n",
       "    .dataframe tbody tr th {\n",
       "        vertical-align: top;\n",
       "    }\n",
       "\n",
       "    .dataframe thead th {\n",
       "        text-align: right;\n",
       "    }\n",
       "</style>\n",
       "<table border=\"1\" class=\"dataframe\">\n",
       "  <thead>\n",
       "    <tr style=\"text-align: right;\">\n",
       "      <th></th>\n",
       "      <th>Город</th>\n",
       "      <th>Стоимость</th>\n",
       "      <th>Цена за клик</th>\n",
       "      <th>Цена за конверсию</th>\n",
       "      <th>Цена за транзакцию</th>\n",
       "      <th>Доход от клика</th>\n",
       "      <th>Доход</th>\n",
       "      <th>Рентабельность инвестиций в рекламу</th>\n",
       "      <th>Цена за конверсию / Стоимость</th>\n",
       "      <th>% от Дохода</th>\n",
       "      <th>city</th>\n",
       "    </tr>\n",
       "  </thead>\n",
       "  <tbody>\n",
       "    <tr>\n",
       "      <th>13</th>\n",
       "      <td>msk</td>\n",
       "      <td>19299179.34</td>\n",
       "      <td>7983.073515</td>\n",
       "      <td>63407.260221</td>\n",
       "      <td>2.470294e+06</td>\n",
       "      <td>9401.894861</td>\n",
       "      <td>45353118</td>\n",
       "      <td>121.319685</td>\n",
       "      <td>1.236797</td>\n",
       "      <td>57.983615</td>\n",
       "      <td>msk</td>\n",
       "    </tr>\n",
       "    <tr>\n",
       "      <th>25</th>\n",
       "      <td>spb</td>\n",
       "      <td>6804493.79</td>\n",
       "      <td>4006.523798</td>\n",
       "      <td>34132.414570</td>\n",
       "      <td>1.112810e+06</td>\n",
       "      <td>5296.962237</td>\n",
       "      <td>14907997</td>\n",
       "      <td>63.397391</td>\n",
       "      <td>0.996700</td>\n",
       "      <td>19.059760</td>\n",
       "      <td>spb</td>\n",
       "    </tr>\n",
       "    <tr>\n",
       "      <th>10</th>\n",
       "      <td>kra</td>\n",
       "      <td>1521491.57</td>\n",
       "      <td>1699.126001</td>\n",
       "      <td>17209.845367</td>\n",
       "      <td>3.897371e+05</td>\n",
       "      <td>1651.887844</td>\n",
       "      <td>2635032</td>\n",
       "      <td>33.459201</td>\n",
       "      <td>0.392004</td>\n",
       "      <td>3.368868</td>\n",
       "      <td>kra</td>\n",
       "    </tr>\n",
       "    <tr>\n",
       "      <th>6</th>\n",
       "      <td>ekb</td>\n",
       "      <td>1243319.32</td>\n",
       "      <td>1010.543714</td>\n",
       "      <td>15842.676523</td>\n",
       "      <td>4.283721e+05</td>\n",
       "      <td>1720.109546</td>\n",
       "      <td>2021615</td>\n",
       "      <td>26.896230</td>\n",
       "      <td>0.646312</td>\n",
       "      <td>2.584619</td>\n",
       "      <td>ekb</td>\n",
       "    </tr>\n",
       "    <tr>\n",
       "      <th>35</th>\n",
       "      <td>vld</td>\n",
       "      <td>591828.40</td>\n",
       "      <td>912.562447</td>\n",
       "      <td>18359.551151</td>\n",
       "      <td>1.459767e+05</td>\n",
       "      <td>1010.802877</td>\n",
       "      <td>1535677</td>\n",
       "      <td>24.566966</td>\n",
       "      <td>0.770824</td>\n",
       "      <td>1.963351</td>\n",
       "      <td>vld</td>\n",
       "    </tr>\n",
       "  </tbody>\n",
       "</table>\n",
       "</div>"
      ],
      "text/plain": [
       "   Город    Стоимость  Цена за клик  Цена за конверсию  Цена за транзакцию  \\\n",
       "13   msk  19299179.34   7983.073515       63407.260221        2.470294e+06   \n",
       "25   spb   6804493.79   4006.523798       34132.414570        1.112810e+06   \n",
       "10   kra   1521491.57   1699.126001       17209.845367        3.897371e+05   \n",
       "6    ekb   1243319.32   1010.543714       15842.676523        4.283721e+05   \n",
       "35   vld    591828.40    912.562447       18359.551151        1.459767e+05   \n",
       "\n",
       "    Доход от клика     Доход  Рентабельность инвестиций в рекламу  \\\n",
       "13     9401.894861  45353118                           121.319685   \n",
       "25     5296.962237  14907997                            63.397391   \n",
       "10     1651.887844   2635032                            33.459201   \n",
       "6      1720.109546   2021615                            26.896230   \n",
       "35     1010.802877   1535677                            24.566966   \n",
       "\n",
       "    Цена за конверсию / Стоимость  % от Дохода city  \n",
       "13                       1.236797    57.983615  msk  \n",
       "25                       0.996700    19.059760  spb  \n",
       "10                       0.392004     3.368868  kra  \n",
       "6                        0.646312     2.584619  ekb  \n",
       "35                       0.770824     1.963351  vld  "
      ]
     },
     "execution_count": 13,
     "metadata": {},
     "output_type": "execute_result"
    }
   ],
   "source": [
    "def city(df_city):\n",
    "    if df_city['% от Дохода'] >= 1:\n",
    "        return df_city['Город']\n",
    "    else:\n",
    "        return 'other'\n",
    "df_city['city'] = df_city.apply(city, axis=1)\n",
    "df_city.head()"
   ]
  },
  {
   "cell_type": "code",
   "execution_count": 14,
   "id": "c9c8e4fa",
   "metadata": {},
   "outputs": [
    {
     "data": {
      "text/html": [
       "<div>\n",
       "<style scoped>\n",
       "    .dataframe tbody tr th:only-of-type {\n",
       "        vertical-align: middle;\n",
       "    }\n",
       "\n",
       "    .dataframe tbody tr th {\n",
       "        vertical-align: top;\n",
       "    }\n",
       "\n",
       "    .dataframe thead th {\n",
       "        text-align: right;\n",
       "    }\n",
       "</style>\n",
       "<table border=\"1\" class=\"dataframe\">\n",
       "  <thead>\n",
       "    <tr style=\"text-align: right;\">\n",
       "      <th></th>\n",
       "      <th>city</th>\n",
       "      <th>% от Дохода</th>\n",
       "    </tr>\n",
       "  </thead>\n",
       "  <tbody>\n",
       "    <tr>\n",
       "      <th>0</th>\n",
       "      <td>msk</td>\n",
       "      <td>57.983615</td>\n",
       "    </tr>\n",
       "    <tr>\n",
       "      <th>1</th>\n",
       "      <td>spb</td>\n",
       "      <td>19.059760</td>\n",
       "    </tr>\n",
       "    <tr>\n",
       "      <th>2</th>\n",
       "      <td>other</td>\n",
       "      <td>11.236571</td>\n",
       "    </tr>\n",
       "    <tr>\n",
       "      <th>3</th>\n",
       "      <td>kra</td>\n",
       "      <td>3.368868</td>\n",
       "    </tr>\n",
       "    <tr>\n",
       "      <th>4</th>\n",
       "      <td>ekb</td>\n",
       "      <td>2.584619</td>\n",
       "    </tr>\n",
       "    <tr>\n",
       "      <th>5</th>\n",
       "      <td>vld</td>\n",
       "      <td>1.963351</td>\n",
       "    </tr>\n",
       "    <tr>\n",
       "      <th>6</th>\n",
       "      <td>nnov</td>\n",
       "      <td>1.355519</td>\n",
       "    </tr>\n",
       "    <tr>\n",
       "      <th>7</th>\n",
       "      <td>vor</td>\n",
       "      <td>1.249972</td>\n",
       "    </tr>\n",
       "    <tr>\n",
       "      <th>8</th>\n",
       "      <td>ros</td>\n",
       "      <td>1.197724</td>\n",
       "    </tr>\n",
       "  </tbody>\n",
       "</table>\n",
       "</div>"
      ],
      "text/plain": [
       "    city  % от Дохода\n",
       "0    msk    57.983615\n",
       "1    spb    19.059760\n",
       "2  other    11.236571\n",
       "3    kra     3.368868\n",
       "4    ekb     2.584619\n",
       "5    vld     1.963351\n",
       "6   nnov     1.355519\n",
       "7    vor     1.249972\n",
       "8    ros     1.197724"
      ]
     },
     "execution_count": 14,
     "metadata": {},
     "output_type": "execute_result"
    }
   ],
   "source": [
    "df_city_new = df_city[['Город', '% от Дохода', 'city']]\n",
    "df_city_new = df_city_new.groupby('city').sum().sort_values(by='% от Дохода', ascending=False).reset_index()\n",
    "df_city_new"
   ]
  },
  {
   "cell_type": "markdown",
   "id": "3e7d5a11",
   "metadata": {},
   "source": [
    "Построим круговую диаграмму, чтобы показать, как распределена доля дохода по городам."
   ]
  },
  {
   "cell_type": "code",
   "execution_count": 15,
   "id": "5ca10226",
   "metadata": {},
   "outputs": [
    {
     "data": {
      "application/vnd.plotly.v1+json": {
       "config": {
        "plotlyServerURL": "https://plot.ly"
       },
       "data": [
        {
         "labels": [
          "msk",
          "spb",
          "other",
          "kra",
          "ekb",
          "vld",
          "nnov",
          "vor",
          "ros"
         ],
         "title": {
          "text": "Процент дохода по городам"
         },
         "type": "pie",
         "values": [
          57.98361527648541,
          19.059760402603384,
          11.236570987834927,
          3.3688683042525964,
          2.5846193506954043,
          1.9633513258547581,
          1.3555189773206577,
          1.2499717612997983,
          1.1977236136530558
         ]
        }
       ],
       "layout": {
        "template": {
         "data": {
          "bar": [
           {
            "error_x": {
             "color": "#2a3f5f"
            },
            "error_y": {
             "color": "#2a3f5f"
            },
            "marker": {
             "line": {
              "color": "#E5ECF6",
              "width": 0.5
             },
             "pattern": {
              "fillmode": "overlay",
              "size": 10,
              "solidity": 0.2
             }
            },
            "type": "bar"
           }
          ],
          "barpolar": [
           {
            "marker": {
             "line": {
              "color": "#E5ECF6",
              "width": 0.5
             },
             "pattern": {
              "fillmode": "overlay",
              "size": 10,
              "solidity": 0.2
             }
            },
            "type": "barpolar"
           }
          ],
          "carpet": [
           {
            "aaxis": {
             "endlinecolor": "#2a3f5f",
             "gridcolor": "white",
             "linecolor": "white",
             "minorgridcolor": "white",
             "startlinecolor": "#2a3f5f"
            },
            "baxis": {
             "endlinecolor": "#2a3f5f",
             "gridcolor": "white",
             "linecolor": "white",
             "minorgridcolor": "white",
             "startlinecolor": "#2a3f5f"
            },
            "type": "carpet"
           }
          ],
          "choropleth": [
           {
            "colorbar": {
             "outlinewidth": 0,
             "ticks": ""
            },
            "type": "choropleth"
           }
          ],
          "contour": [
           {
            "colorbar": {
             "outlinewidth": 0,
             "ticks": ""
            },
            "colorscale": [
             [
              0,
              "#0d0887"
             ],
             [
              0.1111111111111111,
              "#46039f"
             ],
             [
              0.2222222222222222,
              "#7201a8"
             ],
             [
              0.3333333333333333,
              "#9c179e"
             ],
             [
              0.4444444444444444,
              "#bd3786"
             ],
             [
              0.5555555555555556,
              "#d8576b"
             ],
             [
              0.6666666666666666,
              "#ed7953"
             ],
             [
              0.7777777777777778,
              "#fb9f3a"
             ],
             [
              0.8888888888888888,
              "#fdca26"
             ],
             [
              1,
              "#f0f921"
             ]
            ],
            "type": "contour"
           }
          ],
          "contourcarpet": [
           {
            "colorbar": {
             "outlinewidth": 0,
             "ticks": ""
            },
            "type": "contourcarpet"
           }
          ],
          "heatmap": [
           {
            "colorbar": {
             "outlinewidth": 0,
             "ticks": ""
            },
            "colorscale": [
             [
              0,
              "#0d0887"
             ],
             [
              0.1111111111111111,
              "#46039f"
             ],
             [
              0.2222222222222222,
              "#7201a8"
             ],
             [
              0.3333333333333333,
              "#9c179e"
             ],
             [
              0.4444444444444444,
              "#bd3786"
             ],
             [
              0.5555555555555556,
              "#d8576b"
             ],
             [
              0.6666666666666666,
              "#ed7953"
             ],
             [
              0.7777777777777778,
              "#fb9f3a"
             ],
             [
              0.8888888888888888,
              "#fdca26"
             ],
             [
              1,
              "#f0f921"
             ]
            ],
            "type": "heatmap"
           }
          ],
          "heatmapgl": [
           {
            "colorbar": {
             "outlinewidth": 0,
             "ticks": ""
            },
            "colorscale": [
             [
              0,
              "#0d0887"
             ],
             [
              0.1111111111111111,
              "#46039f"
             ],
             [
              0.2222222222222222,
              "#7201a8"
             ],
             [
              0.3333333333333333,
              "#9c179e"
             ],
             [
              0.4444444444444444,
              "#bd3786"
             ],
             [
              0.5555555555555556,
              "#d8576b"
             ],
             [
              0.6666666666666666,
              "#ed7953"
             ],
             [
              0.7777777777777778,
              "#fb9f3a"
             ],
             [
              0.8888888888888888,
              "#fdca26"
             ],
             [
              1,
              "#f0f921"
             ]
            ],
            "type": "heatmapgl"
           }
          ],
          "histogram": [
           {
            "marker": {
             "pattern": {
              "fillmode": "overlay",
              "size": 10,
              "solidity": 0.2
             }
            },
            "type": "histogram"
           }
          ],
          "histogram2d": [
           {
            "colorbar": {
             "outlinewidth": 0,
             "ticks": ""
            },
            "colorscale": [
             [
              0,
              "#0d0887"
             ],
             [
              0.1111111111111111,
              "#46039f"
             ],
             [
              0.2222222222222222,
              "#7201a8"
             ],
             [
              0.3333333333333333,
              "#9c179e"
             ],
             [
              0.4444444444444444,
              "#bd3786"
             ],
             [
              0.5555555555555556,
              "#d8576b"
             ],
             [
              0.6666666666666666,
              "#ed7953"
             ],
             [
              0.7777777777777778,
              "#fb9f3a"
             ],
             [
              0.8888888888888888,
              "#fdca26"
             ],
             [
              1,
              "#f0f921"
             ]
            ],
            "type": "histogram2d"
           }
          ],
          "histogram2dcontour": [
           {
            "colorbar": {
             "outlinewidth": 0,
             "ticks": ""
            },
            "colorscale": [
             [
              0,
              "#0d0887"
             ],
             [
              0.1111111111111111,
              "#46039f"
             ],
             [
              0.2222222222222222,
              "#7201a8"
             ],
             [
              0.3333333333333333,
              "#9c179e"
             ],
             [
              0.4444444444444444,
              "#bd3786"
             ],
             [
              0.5555555555555556,
              "#d8576b"
             ],
             [
              0.6666666666666666,
              "#ed7953"
             ],
             [
              0.7777777777777778,
              "#fb9f3a"
             ],
             [
              0.8888888888888888,
              "#fdca26"
             ],
             [
              1,
              "#f0f921"
             ]
            ],
            "type": "histogram2dcontour"
           }
          ],
          "mesh3d": [
           {
            "colorbar": {
             "outlinewidth": 0,
             "ticks": ""
            },
            "type": "mesh3d"
           }
          ],
          "parcoords": [
           {
            "line": {
             "colorbar": {
              "outlinewidth": 0,
              "ticks": ""
             }
            },
            "type": "parcoords"
           }
          ],
          "pie": [
           {
            "automargin": true,
            "type": "pie"
           }
          ],
          "scatter": [
           {
            "marker": {
             "colorbar": {
              "outlinewidth": 0,
              "ticks": ""
             }
            },
            "type": "scatter"
           }
          ],
          "scatter3d": [
           {
            "line": {
             "colorbar": {
              "outlinewidth": 0,
              "ticks": ""
             }
            },
            "marker": {
             "colorbar": {
              "outlinewidth": 0,
              "ticks": ""
             }
            },
            "type": "scatter3d"
           }
          ],
          "scattercarpet": [
           {
            "marker": {
             "colorbar": {
              "outlinewidth": 0,
              "ticks": ""
             }
            },
            "type": "scattercarpet"
           }
          ],
          "scattergeo": [
           {
            "marker": {
             "colorbar": {
              "outlinewidth": 0,
              "ticks": ""
             }
            },
            "type": "scattergeo"
           }
          ],
          "scattergl": [
           {
            "marker": {
             "colorbar": {
              "outlinewidth": 0,
              "ticks": ""
             }
            },
            "type": "scattergl"
           }
          ],
          "scattermapbox": [
           {
            "marker": {
             "colorbar": {
              "outlinewidth": 0,
              "ticks": ""
             }
            },
            "type": "scattermapbox"
           }
          ],
          "scatterpolar": [
           {
            "marker": {
             "colorbar": {
              "outlinewidth": 0,
              "ticks": ""
             }
            },
            "type": "scatterpolar"
           }
          ],
          "scatterpolargl": [
           {
            "marker": {
             "colorbar": {
              "outlinewidth": 0,
              "ticks": ""
             }
            },
            "type": "scatterpolargl"
           }
          ],
          "scatterternary": [
           {
            "marker": {
             "colorbar": {
              "outlinewidth": 0,
              "ticks": ""
             }
            },
            "type": "scatterternary"
           }
          ],
          "surface": [
           {
            "colorbar": {
             "outlinewidth": 0,
             "ticks": ""
            },
            "colorscale": [
             [
              0,
              "#0d0887"
             ],
             [
              0.1111111111111111,
              "#46039f"
             ],
             [
              0.2222222222222222,
              "#7201a8"
             ],
             [
              0.3333333333333333,
              "#9c179e"
             ],
             [
              0.4444444444444444,
              "#bd3786"
             ],
             [
              0.5555555555555556,
              "#d8576b"
             ],
             [
              0.6666666666666666,
              "#ed7953"
             ],
             [
              0.7777777777777778,
              "#fb9f3a"
             ],
             [
              0.8888888888888888,
              "#fdca26"
             ],
             [
              1,
              "#f0f921"
             ]
            ],
            "type": "surface"
           }
          ],
          "table": [
           {
            "cells": {
             "fill": {
              "color": "#EBF0F8"
             },
             "line": {
              "color": "white"
             }
            },
            "header": {
             "fill": {
              "color": "#C8D4E3"
             },
             "line": {
              "color": "white"
             }
            },
            "type": "table"
           }
          ]
         },
         "layout": {
          "annotationdefaults": {
           "arrowcolor": "#2a3f5f",
           "arrowhead": 0,
           "arrowwidth": 1
          },
          "autotypenumbers": "strict",
          "coloraxis": {
           "colorbar": {
            "outlinewidth": 0,
            "ticks": ""
           }
          },
          "colorscale": {
           "diverging": [
            [
             0,
             "#8e0152"
            ],
            [
             0.1,
             "#c51b7d"
            ],
            [
             0.2,
             "#de77ae"
            ],
            [
             0.3,
             "#f1b6da"
            ],
            [
             0.4,
             "#fde0ef"
            ],
            [
             0.5,
             "#f7f7f7"
            ],
            [
             0.6,
             "#e6f5d0"
            ],
            [
             0.7,
             "#b8e186"
            ],
            [
             0.8,
             "#7fbc41"
            ],
            [
             0.9,
             "#4d9221"
            ],
            [
             1,
             "#276419"
            ]
           ],
           "sequential": [
            [
             0,
             "#0d0887"
            ],
            [
             0.1111111111111111,
             "#46039f"
            ],
            [
             0.2222222222222222,
             "#7201a8"
            ],
            [
             0.3333333333333333,
             "#9c179e"
            ],
            [
             0.4444444444444444,
             "#bd3786"
            ],
            [
             0.5555555555555556,
             "#d8576b"
            ],
            [
             0.6666666666666666,
             "#ed7953"
            ],
            [
             0.7777777777777778,
             "#fb9f3a"
            ],
            [
             0.8888888888888888,
             "#fdca26"
            ],
            [
             1,
             "#f0f921"
            ]
           ],
           "sequentialminus": [
            [
             0,
             "#0d0887"
            ],
            [
             0.1111111111111111,
             "#46039f"
            ],
            [
             0.2222222222222222,
             "#7201a8"
            ],
            [
             0.3333333333333333,
             "#9c179e"
            ],
            [
             0.4444444444444444,
             "#bd3786"
            ],
            [
             0.5555555555555556,
             "#d8576b"
            ],
            [
             0.6666666666666666,
             "#ed7953"
            ],
            [
             0.7777777777777778,
             "#fb9f3a"
            ],
            [
             0.8888888888888888,
             "#fdca26"
            ],
            [
             1,
             "#f0f921"
            ]
           ]
          },
          "colorway": [
           "#636efa",
           "#EF553B",
           "#00cc96",
           "#ab63fa",
           "#FFA15A",
           "#19d3f3",
           "#FF6692",
           "#B6E880",
           "#FF97FF",
           "#FECB52"
          ],
          "font": {
           "color": "#2a3f5f"
          },
          "geo": {
           "bgcolor": "white",
           "lakecolor": "white",
           "landcolor": "#E5ECF6",
           "showlakes": true,
           "showland": true,
           "subunitcolor": "white"
          },
          "hoverlabel": {
           "align": "left"
          },
          "hovermode": "closest",
          "mapbox": {
           "style": "light"
          },
          "paper_bgcolor": "white",
          "plot_bgcolor": "#E5ECF6",
          "polar": {
           "angularaxis": {
            "gridcolor": "white",
            "linecolor": "white",
            "ticks": ""
           },
           "bgcolor": "#E5ECF6",
           "radialaxis": {
            "gridcolor": "white",
            "linecolor": "white",
            "ticks": ""
           }
          },
          "scene": {
           "xaxis": {
            "backgroundcolor": "#E5ECF6",
            "gridcolor": "white",
            "gridwidth": 2,
            "linecolor": "white",
            "showbackground": true,
            "ticks": "",
            "zerolinecolor": "white"
           },
           "yaxis": {
            "backgroundcolor": "#E5ECF6",
            "gridcolor": "white",
            "gridwidth": 2,
            "linecolor": "white",
            "showbackground": true,
            "ticks": "",
            "zerolinecolor": "white"
           },
           "zaxis": {
            "backgroundcolor": "#E5ECF6",
            "gridcolor": "white",
            "gridwidth": 2,
            "linecolor": "white",
            "showbackground": true,
            "ticks": "",
            "zerolinecolor": "white"
           }
          },
          "shapedefaults": {
           "line": {
            "color": "#2a3f5f"
           }
          },
          "ternary": {
           "aaxis": {
            "gridcolor": "white",
            "linecolor": "white",
            "ticks": ""
           },
           "baxis": {
            "gridcolor": "white",
            "linecolor": "white",
            "ticks": ""
           },
           "bgcolor": "#E5ECF6",
           "caxis": {
            "gridcolor": "white",
            "linecolor": "white",
            "ticks": ""
           }
          },
          "title": {
           "x": 0.05
          },
          "xaxis": {
           "automargin": true,
           "gridcolor": "white",
           "linecolor": "white",
           "ticks": "",
           "title": {
            "standoff": 15
           },
           "zerolinecolor": "white",
           "zerolinewidth": 2
          },
          "yaxis": {
           "automargin": true,
           "gridcolor": "white",
           "linecolor": "white",
           "ticks": "",
           "title": {
            "standoff": 15
           },
           "zerolinecolor": "white",
           "zerolinewidth": 2
          }
         }
        }
       }
      },
      "text/html": [
       "<div>                            <div id=\"8e66b07e-3423-4488-b0d0-dd8e61eae817\" class=\"plotly-graph-div\" style=\"height:525px; width:100%;\"></div>            <script type=\"text/javascript\">                require([\"plotly\"], function(Plotly) {                    window.PLOTLYENV=window.PLOTLYENV || {};                                    if (document.getElementById(\"8e66b07e-3423-4488-b0d0-dd8e61eae817\")) {                    Plotly.newPlot(                        \"8e66b07e-3423-4488-b0d0-dd8e61eae817\",                        [{\"labels\":[\"msk\",\"spb\",\"other\",\"kra\",\"ekb\",\"vld\",\"nnov\",\"vor\",\"ros\"],\"title\":{\"text\":\"\\u041f\\u0440\\u043e\\u0446\\u0435\\u043d\\u0442 \\u0434\\u043e\\u0445\\u043e\\u0434\\u0430 \\u043f\\u043e \\u0433\\u043e\\u0440\\u043e\\u0434\\u0430\\u043c\"},\"values\":[57.98361527648541,19.059760402603384,11.236570987834927,3.3688683042525964,2.5846193506954043,1.9633513258547581,1.3555189773206577,1.2499717612997983,1.1977236136530558],\"type\":\"pie\"}],                        {\"template\":{\"data\":{\"bar\":[{\"error_x\":{\"color\":\"#2a3f5f\"},\"error_y\":{\"color\":\"#2a3f5f\"},\"marker\":{\"line\":{\"color\":\"#E5ECF6\",\"width\":0.5},\"pattern\":{\"fillmode\":\"overlay\",\"size\":10,\"solidity\":0.2}},\"type\":\"bar\"}],\"barpolar\":[{\"marker\":{\"line\":{\"color\":\"#E5ECF6\",\"width\":0.5},\"pattern\":{\"fillmode\":\"overlay\",\"size\":10,\"solidity\":0.2}},\"type\":\"barpolar\"}],\"carpet\":[{\"aaxis\":{\"endlinecolor\":\"#2a3f5f\",\"gridcolor\":\"white\",\"linecolor\":\"white\",\"minorgridcolor\":\"white\",\"startlinecolor\":\"#2a3f5f\"},\"baxis\":{\"endlinecolor\":\"#2a3f5f\",\"gridcolor\":\"white\",\"linecolor\":\"white\",\"minorgridcolor\":\"white\",\"startlinecolor\":\"#2a3f5f\"},\"type\":\"carpet\"}],\"choropleth\":[{\"colorbar\":{\"outlinewidth\":0,\"ticks\":\"\"},\"type\":\"choropleth\"}],\"contour\":[{\"colorbar\":{\"outlinewidth\":0,\"ticks\":\"\"},\"colorscale\":[[0.0,\"#0d0887\"],[0.1111111111111111,\"#46039f\"],[0.2222222222222222,\"#7201a8\"],[0.3333333333333333,\"#9c179e\"],[0.4444444444444444,\"#bd3786\"],[0.5555555555555556,\"#d8576b\"],[0.6666666666666666,\"#ed7953\"],[0.7777777777777778,\"#fb9f3a\"],[0.8888888888888888,\"#fdca26\"],[1.0,\"#f0f921\"]],\"type\":\"contour\"}],\"contourcarpet\":[{\"colorbar\":{\"outlinewidth\":0,\"ticks\":\"\"},\"type\":\"contourcarpet\"}],\"heatmap\":[{\"colorbar\":{\"outlinewidth\":0,\"ticks\":\"\"},\"colorscale\":[[0.0,\"#0d0887\"],[0.1111111111111111,\"#46039f\"],[0.2222222222222222,\"#7201a8\"],[0.3333333333333333,\"#9c179e\"],[0.4444444444444444,\"#bd3786\"],[0.5555555555555556,\"#d8576b\"],[0.6666666666666666,\"#ed7953\"],[0.7777777777777778,\"#fb9f3a\"],[0.8888888888888888,\"#fdca26\"],[1.0,\"#f0f921\"]],\"type\":\"heatmap\"}],\"heatmapgl\":[{\"colorbar\":{\"outlinewidth\":0,\"ticks\":\"\"},\"colorscale\":[[0.0,\"#0d0887\"],[0.1111111111111111,\"#46039f\"],[0.2222222222222222,\"#7201a8\"],[0.3333333333333333,\"#9c179e\"],[0.4444444444444444,\"#bd3786\"],[0.5555555555555556,\"#d8576b\"],[0.6666666666666666,\"#ed7953\"],[0.7777777777777778,\"#fb9f3a\"],[0.8888888888888888,\"#fdca26\"],[1.0,\"#f0f921\"]],\"type\":\"heatmapgl\"}],\"histogram\":[{\"marker\":{\"pattern\":{\"fillmode\":\"overlay\",\"size\":10,\"solidity\":0.2}},\"type\":\"histogram\"}],\"histogram2d\":[{\"colorbar\":{\"outlinewidth\":0,\"ticks\":\"\"},\"colorscale\":[[0.0,\"#0d0887\"],[0.1111111111111111,\"#46039f\"],[0.2222222222222222,\"#7201a8\"],[0.3333333333333333,\"#9c179e\"],[0.4444444444444444,\"#bd3786\"],[0.5555555555555556,\"#d8576b\"],[0.6666666666666666,\"#ed7953\"],[0.7777777777777778,\"#fb9f3a\"],[0.8888888888888888,\"#fdca26\"],[1.0,\"#f0f921\"]],\"type\":\"histogram2d\"}],\"histogram2dcontour\":[{\"colorbar\":{\"outlinewidth\":0,\"ticks\":\"\"},\"colorscale\":[[0.0,\"#0d0887\"],[0.1111111111111111,\"#46039f\"],[0.2222222222222222,\"#7201a8\"],[0.3333333333333333,\"#9c179e\"],[0.4444444444444444,\"#bd3786\"],[0.5555555555555556,\"#d8576b\"],[0.6666666666666666,\"#ed7953\"],[0.7777777777777778,\"#fb9f3a\"],[0.8888888888888888,\"#fdca26\"],[1.0,\"#f0f921\"]],\"type\":\"histogram2dcontour\"}],\"mesh3d\":[{\"colorbar\":{\"outlinewidth\":0,\"ticks\":\"\"},\"type\":\"mesh3d\"}],\"parcoords\":[{\"line\":{\"colorbar\":{\"outlinewidth\":0,\"ticks\":\"\"}},\"type\":\"parcoords\"}],\"pie\":[{\"automargin\":true,\"type\":\"pie\"}],\"scatter\":[{\"marker\":{\"colorbar\":{\"outlinewidth\":0,\"ticks\":\"\"}},\"type\":\"scatter\"}],\"scatter3d\":[{\"line\":{\"colorbar\":{\"outlinewidth\":0,\"ticks\":\"\"}},\"marker\":{\"colorbar\":{\"outlinewidth\":0,\"ticks\":\"\"}},\"type\":\"scatter3d\"}],\"scattercarpet\":[{\"marker\":{\"colorbar\":{\"outlinewidth\":0,\"ticks\":\"\"}},\"type\":\"scattercarpet\"}],\"scattergeo\":[{\"marker\":{\"colorbar\":{\"outlinewidth\":0,\"ticks\":\"\"}},\"type\":\"scattergeo\"}],\"scattergl\":[{\"marker\":{\"colorbar\":{\"outlinewidth\":0,\"ticks\":\"\"}},\"type\":\"scattergl\"}],\"scattermapbox\":[{\"marker\":{\"colorbar\":{\"outlinewidth\":0,\"ticks\":\"\"}},\"type\":\"scattermapbox\"}],\"scatterpolar\":[{\"marker\":{\"colorbar\":{\"outlinewidth\":0,\"ticks\":\"\"}},\"type\":\"scatterpolar\"}],\"scatterpolargl\":[{\"marker\":{\"colorbar\":{\"outlinewidth\":0,\"ticks\":\"\"}},\"type\":\"scatterpolargl\"}],\"scatterternary\":[{\"marker\":{\"colorbar\":{\"outlinewidth\":0,\"ticks\":\"\"}},\"type\":\"scatterternary\"}],\"surface\":[{\"colorbar\":{\"outlinewidth\":0,\"ticks\":\"\"},\"colorscale\":[[0.0,\"#0d0887\"],[0.1111111111111111,\"#46039f\"],[0.2222222222222222,\"#7201a8\"],[0.3333333333333333,\"#9c179e\"],[0.4444444444444444,\"#bd3786\"],[0.5555555555555556,\"#d8576b\"],[0.6666666666666666,\"#ed7953\"],[0.7777777777777778,\"#fb9f3a\"],[0.8888888888888888,\"#fdca26\"],[1.0,\"#f0f921\"]],\"type\":\"surface\"}],\"table\":[{\"cells\":{\"fill\":{\"color\":\"#EBF0F8\"},\"line\":{\"color\":\"white\"}},\"header\":{\"fill\":{\"color\":\"#C8D4E3\"},\"line\":{\"color\":\"white\"}},\"type\":\"table\"}]},\"layout\":{\"annotationdefaults\":{\"arrowcolor\":\"#2a3f5f\",\"arrowhead\":0,\"arrowwidth\":1},\"autotypenumbers\":\"strict\",\"coloraxis\":{\"colorbar\":{\"outlinewidth\":0,\"ticks\":\"\"}},\"colorscale\":{\"diverging\":[[0,\"#8e0152\"],[0.1,\"#c51b7d\"],[0.2,\"#de77ae\"],[0.3,\"#f1b6da\"],[0.4,\"#fde0ef\"],[0.5,\"#f7f7f7\"],[0.6,\"#e6f5d0\"],[0.7,\"#b8e186\"],[0.8,\"#7fbc41\"],[0.9,\"#4d9221\"],[1,\"#276419\"]],\"sequential\":[[0.0,\"#0d0887\"],[0.1111111111111111,\"#46039f\"],[0.2222222222222222,\"#7201a8\"],[0.3333333333333333,\"#9c179e\"],[0.4444444444444444,\"#bd3786\"],[0.5555555555555556,\"#d8576b\"],[0.6666666666666666,\"#ed7953\"],[0.7777777777777778,\"#fb9f3a\"],[0.8888888888888888,\"#fdca26\"],[1.0,\"#f0f921\"]],\"sequentialminus\":[[0.0,\"#0d0887\"],[0.1111111111111111,\"#46039f\"],[0.2222222222222222,\"#7201a8\"],[0.3333333333333333,\"#9c179e\"],[0.4444444444444444,\"#bd3786\"],[0.5555555555555556,\"#d8576b\"],[0.6666666666666666,\"#ed7953\"],[0.7777777777777778,\"#fb9f3a\"],[0.8888888888888888,\"#fdca26\"],[1.0,\"#f0f921\"]]},\"colorway\":[\"#636efa\",\"#EF553B\",\"#00cc96\",\"#ab63fa\",\"#FFA15A\",\"#19d3f3\",\"#FF6692\",\"#B6E880\",\"#FF97FF\",\"#FECB52\"],\"font\":{\"color\":\"#2a3f5f\"},\"geo\":{\"bgcolor\":\"white\",\"lakecolor\":\"white\",\"landcolor\":\"#E5ECF6\",\"showlakes\":true,\"showland\":true,\"subunitcolor\":\"white\"},\"hoverlabel\":{\"align\":\"left\"},\"hovermode\":\"closest\",\"mapbox\":{\"style\":\"light\"},\"paper_bgcolor\":\"white\",\"plot_bgcolor\":\"#E5ECF6\",\"polar\":{\"angularaxis\":{\"gridcolor\":\"white\",\"linecolor\":\"white\",\"ticks\":\"\"},\"bgcolor\":\"#E5ECF6\",\"radialaxis\":{\"gridcolor\":\"white\",\"linecolor\":\"white\",\"ticks\":\"\"}},\"scene\":{\"xaxis\":{\"backgroundcolor\":\"#E5ECF6\",\"gridcolor\":\"white\",\"gridwidth\":2,\"linecolor\":\"white\",\"showbackground\":true,\"ticks\":\"\",\"zerolinecolor\":\"white\"},\"yaxis\":{\"backgroundcolor\":\"#E5ECF6\",\"gridcolor\":\"white\",\"gridwidth\":2,\"linecolor\":\"white\",\"showbackground\":true,\"ticks\":\"\",\"zerolinecolor\":\"white\"},\"zaxis\":{\"backgroundcolor\":\"#E5ECF6\",\"gridcolor\":\"white\",\"gridwidth\":2,\"linecolor\":\"white\",\"showbackground\":true,\"ticks\":\"\",\"zerolinecolor\":\"white\"}},\"shapedefaults\":{\"line\":{\"color\":\"#2a3f5f\"}},\"ternary\":{\"aaxis\":{\"gridcolor\":\"white\",\"linecolor\":\"white\",\"ticks\":\"\"},\"baxis\":{\"gridcolor\":\"white\",\"linecolor\":\"white\",\"ticks\":\"\"},\"bgcolor\":\"#E5ECF6\",\"caxis\":{\"gridcolor\":\"white\",\"linecolor\":\"white\",\"ticks\":\"\"}},\"title\":{\"x\":0.05},\"xaxis\":{\"automargin\":true,\"gridcolor\":\"white\",\"linecolor\":\"white\",\"ticks\":\"\",\"title\":{\"standoff\":15},\"zerolinecolor\":\"white\",\"zerolinewidth\":2},\"yaxis\":{\"automargin\":true,\"gridcolor\":\"white\",\"linecolor\":\"white\",\"ticks\":\"\",\"title\":{\"standoff\":15},\"zerolinecolor\":\"white\",\"zerolinewidth\":2}}}},                        {\"responsive\": true}                    ).then(function(){\n",
       "                            \n",
       "var gd = document.getElementById('8e66b07e-3423-4488-b0d0-dd8e61eae817');\n",
       "var x = new MutationObserver(function (mutations, observer) {{\n",
       "        var display = window.getComputedStyle(gd).display;\n",
       "        if (!display || display === 'none') {{\n",
       "            console.log([gd, 'removed!']);\n",
       "            Plotly.purge(gd);\n",
       "            observer.disconnect();\n",
       "        }}\n",
       "}});\n",
       "\n",
       "// Listen for the removal of the full notebook cells\n",
       "var notebookContainer = gd.closest('#notebook-container');\n",
       "if (notebookContainer) {{\n",
       "    x.observe(notebookContainer, {childList: true});\n",
       "}}\n",
       "\n",
       "// Listen for the clearing of the current output cell\n",
       "var outputEl = gd.closest('.output');\n",
       "if (outputEl) {{\n",
       "    x.observe(outputEl, {childList: true});\n",
       "}}\n",
       "\n",
       "                        })                };                });            </script>        </div>"
      ]
     },
     "metadata": {},
     "output_type": "display_data"
    }
   ],
   "source": [
    "fig = go.Figure()\n",
    "fig.add_trace(go.Pie(values=df_city_new['% от Дохода'], labels=df_city_new['city'], title = 'Процент дохода по городам'))\n",
    "fig.show()\n",
    "#fig.show(renderer=\"svg\")"
   ]
  },
  {
   "cell_type": "markdown",
   "id": "2e496e13",
   "metadata": {},
   "source": [
    "Видим, что наибольшая доля дохода принадлежит Москве, она составляет 58%. На 2 месте Санкт-Петербург с 19%."
   ]
  },
  {
   "cell_type": "code",
   "execution_count": 16,
   "id": "dba23f9c",
   "metadata": {},
   "outputs": [
    {
     "data": {
      "text/html": [
       "<div>\n",
       "<style scoped>\n",
       "    .dataframe tbody tr th:only-of-type {\n",
       "        vertical-align: middle;\n",
       "    }\n",
       "\n",
       "    .dataframe tbody tr th {\n",
       "        vertical-align: top;\n",
       "    }\n",
       "\n",
       "    .dataframe thead th {\n",
       "        text-align: right;\n",
       "    }\n",
       "</style>\n",
       "<table border=\"1\" class=\"dataframe\">\n",
       "  <thead>\n",
       "    <tr style=\"text-align: right;\">\n",
       "      <th></th>\n",
       "      <th>Город</th>\n",
       "      <th>Стоимость</th>\n",
       "      <th>Цена за клик</th>\n",
       "      <th>Цена за конверсию</th>\n",
       "      <th>Цена за транзакцию</th>\n",
       "      <th>Доход от клика</th>\n",
       "      <th>Доход</th>\n",
       "      <th>Рентабельность инвестиций в рекламу</th>\n",
       "      <th>Цена за конверсию / Стоимость</th>\n",
       "      <th>% от Дохода</th>\n",
       "      <th>city</th>\n",
       "    </tr>\n",
       "  </thead>\n",
       "  <tbody>\n",
       "    <tr>\n",
       "      <th>13</th>\n",
       "      <td>msk</td>\n",
       "      <td>19299179.34</td>\n",
       "      <td>7983.073515</td>\n",
       "      <td>63407.260221</td>\n",
       "      <td>2.470294e+06</td>\n",
       "      <td>9401.894861</td>\n",
       "      <td>45353118</td>\n",
       "      <td>121.319685</td>\n",
       "      <td>1.236797</td>\n",
       "      <td>57.983615</td>\n",
       "      <td>msk</td>\n",
       "    </tr>\n",
       "    <tr>\n",
       "      <th>25</th>\n",
       "      <td>spb</td>\n",
       "      <td>6804493.79</td>\n",
       "      <td>4006.523798</td>\n",
       "      <td>34132.414570</td>\n",
       "      <td>1.112810e+06</td>\n",
       "      <td>5296.962237</td>\n",
       "      <td>14907997</td>\n",
       "      <td>63.397391</td>\n",
       "      <td>0.996700</td>\n",
       "      <td>19.059760</td>\n",
       "      <td>spb</td>\n",
       "    </tr>\n",
       "    <tr>\n",
       "      <th>10</th>\n",
       "      <td>kra</td>\n",
       "      <td>1521491.57</td>\n",
       "      <td>1699.126001</td>\n",
       "      <td>17209.845367</td>\n",
       "      <td>3.897371e+05</td>\n",
       "      <td>1651.887844</td>\n",
       "      <td>2635032</td>\n",
       "      <td>33.459201</td>\n",
       "      <td>0.392004</td>\n",
       "      <td>3.368868</td>\n",
       "      <td>kra</td>\n",
       "    </tr>\n",
       "    <tr>\n",
       "      <th>6</th>\n",
       "      <td>ekb</td>\n",
       "      <td>1243319.32</td>\n",
       "      <td>1010.543714</td>\n",
       "      <td>15842.676523</td>\n",
       "      <td>4.283721e+05</td>\n",
       "      <td>1720.109546</td>\n",
       "      <td>2021615</td>\n",
       "      <td>26.896230</td>\n",
       "      <td>0.646312</td>\n",
       "      <td>2.584619</td>\n",
       "      <td>ekb</td>\n",
       "    </tr>\n",
       "    <tr>\n",
       "      <th>35</th>\n",
       "      <td>vld</td>\n",
       "      <td>591828.40</td>\n",
       "      <td>912.562447</td>\n",
       "      <td>18359.551151</td>\n",
       "      <td>1.459767e+05</td>\n",
       "      <td>1010.802877</td>\n",
       "      <td>1535677</td>\n",
       "      <td>24.566966</td>\n",
       "      <td>0.770824</td>\n",
       "      <td>1.963351</td>\n",
       "      <td>vld</td>\n",
       "    </tr>\n",
       "  </tbody>\n",
       "</table>\n",
       "</div>"
      ],
      "text/plain": [
       "   Город    Стоимость  Цена за клик  Цена за конверсию  Цена за транзакцию  \\\n",
       "13   msk  19299179.34   7983.073515       63407.260221        2.470294e+06   \n",
       "25   spb   6804493.79   4006.523798       34132.414570        1.112810e+06   \n",
       "10   kra   1521491.57   1699.126001       17209.845367        3.897371e+05   \n",
       "6    ekb   1243319.32   1010.543714       15842.676523        4.283721e+05   \n",
       "35   vld    591828.40    912.562447       18359.551151        1.459767e+05   \n",
       "\n",
       "    Доход от клика     Доход  Рентабельность инвестиций в рекламу  \\\n",
       "13     9401.894861  45353118                           121.319685   \n",
       "25     5296.962237  14907997                            63.397391   \n",
       "10     1651.887844   2635032                            33.459201   \n",
       "6      1720.109546   2021615                            26.896230   \n",
       "35     1010.802877   1535677                            24.566966   \n",
       "\n",
       "    Цена за конверсию / Стоимость  % от Дохода city  \n",
       "13                       1.236797    57.983615  msk  \n",
       "25                       0.996700    19.059760  spb  \n",
       "10                       0.392004     3.368868  kra  \n",
       "6                        0.646312     2.584619  ekb  \n",
       "35                       0.770824     1.963351  vld  "
      ]
     },
     "execution_count": 16,
     "metadata": {},
     "output_type": "execute_result"
    }
   ],
   "source": [
    "df_city.head()"
   ]
  },
  {
   "cell_type": "markdown",
   "id": "6c21862c",
   "metadata": {},
   "source": [
    "Посмотрим, как распределена стоимость рекламных кампаний по городам и доходы:"
   ]
  },
  {
   "cell_type": "code",
   "execution_count": 17,
   "id": "23dcefad",
   "metadata": {},
   "outputs": [
    {
     "data": {
      "text/html": [
       "<div>\n",
       "<style scoped>\n",
       "    .dataframe tbody tr th:only-of-type {\n",
       "        vertical-align: middle;\n",
       "    }\n",
       "\n",
       "    .dataframe tbody tr th {\n",
       "        vertical-align: top;\n",
       "    }\n",
       "\n",
       "    .dataframe thead th {\n",
       "        text-align: right;\n",
       "    }\n",
       "</style>\n",
       "<table border=\"1\" class=\"dataframe\">\n",
       "  <thead>\n",
       "    <tr style=\"text-align: right;\">\n",
       "      <th></th>\n",
       "      <th>Город</th>\n",
       "      <th>Стоимость</th>\n",
       "      <th>Доход</th>\n",
       "    </tr>\n",
       "  </thead>\n",
       "  <tbody>\n",
       "    <tr>\n",
       "      <th>13</th>\n",
       "      <td>msk</td>\n",
       "      <td>19299179.34</td>\n",
       "      <td>45353118</td>\n",
       "    </tr>\n",
       "    <tr>\n",
       "      <th>25</th>\n",
       "      <td>spb</td>\n",
       "      <td>6804493.79</td>\n",
       "      <td>14907997</td>\n",
       "    </tr>\n",
       "    <tr>\n",
       "      <th>10</th>\n",
       "      <td>kra</td>\n",
       "      <td>1521491.57</td>\n",
       "      <td>2635032</td>\n",
       "    </tr>\n",
       "    <tr>\n",
       "      <th>6</th>\n",
       "      <td>ekb</td>\n",
       "      <td>1243319.32</td>\n",
       "      <td>2021615</td>\n",
       "    </tr>\n",
       "    <tr>\n",
       "      <th>35</th>\n",
       "      <td>vld</td>\n",
       "      <td>591828.40</td>\n",
       "      <td>1535677</td>\n",
       "    </tr>\n",
       "  </tbody>\n",
       "</table>\n",
       "</div>"
      ],
      "text/plain": [
       "   Город    Стоимость     Доход\n",
       "13   msk  19299179.34  45353118\n",
       "25   spb   6804493.79  14907997\n",
       "10   kra   1521491.57   2635032\n",
       "6    ekb   1243319.32   2021615\n",
       "35   vld    591828.40   1535677"
      ]
     },
     "execution_count": 17,
     "metadata": {},
     "output_type": "execute_result"
    }
   ],
   "source": [
    "data = df_city[['Город', 'Стоимость', 'Доход']]\n",
    "data.head()"
   ]
  },
  {
   "cell_type": "code",
   "execution_count": 18,
   "id": "29c9d961",
   "metadata": {},
   "outputs": [
    {
     "data": {
      "image/png": "[encoded data removed]",
      "text/plain": [
       "<Figure size 1008x720 with 2 Axes>"
      ]
     },
     "metadata": {
      "needs_background": "light"
     },
     "output_type": "display_data"
    }
   ],
   "source": [
    "plt.figure(figsize=(14, 10))\n",
    "\n",
    "plt.subplot(2, 1, 1)\n",
    "sns.barplot(x='Город', y='Стоимость', data=data, color='#89CFFD')\n",
    "plt.xticks(rotation=45)\n",
    "plt.xlabel(' ')\n",
    "\n",
    "plt.subplot(2, 1, 2)\n",
    "sns.barplot(x='Город', y='Доход', data=data, color='#89CFFD')\n",
    "plt.xticks(rotation=45)\n",
    "plt.xlabel(' ')\n",
    "\n",
    "plt.show()"
   ]
  },
  {
   "cell_type": "markdown",
   "id": "b73a4259",
   "metadata": {},
   "source": [
    "Видим, что максимальный доход нам приносит Москва, на 2 месте - Санкт-Петербург. Далее идет много городов с доходом менее 1 млн. Затраты на рекламные кампании Брянска составляют 99578.90, при этом они совсем не приносят нам доход. В дальнейшем можно перестать вкладываться в рекламные кампании Брянска, чтобы сократить наши траты."
   ]
  },
  {
   "cell_type": "markdown",
   "id": "5de269e9",
   "metadata": {},
   "source": [
    "Посчитаем рентабельность затрат, поделив доход на стоимость:"
   ]
  },
  {
   "cell_type": "code",
   "execution_count": 19,
   "id": "083eafde",
   "metadata": {},
   "outputs": [
    {
     "name": "stderr",
     "output_type": "stream",
     "text": [
      "C:\\Users\\annsl\\AppData\\Local\\Temp\\ipykernel_15880\\2240598205.py:1: SettingWithCopyWarning:\n",
      "\n",
      "\n",
      "A value is trying to be set on a copy of a slice from a DataFrame.\n",
      "Try using .loc[row_indexer,col_indexer] = value instead\n",
      "\n",
      "See the caveats in the documentation: https://pandas.pydata.org/pandas-docs/stable/user_guide/indexing.html#returning-a-view-versus-a-copy\n",
      "\n"
     ]
    },
    {
     "data": {
      "text/html": [
       "<div>\n",
       "<style scoped>\n",
       "    .dataframe tbody tr th:only-of-type {\n",
       "        vertical-align: middle;\n",
       "    }\n",
       "\n",
       "    .dataframe tbody tr th {\n",
       "        vertical-align: top;\n",
       "    }\n",
       "\n",
       "    .dataframe thead th {\n",
       "        text-align: right;\n",
       "    }\n",
       "</style>\n",
       "<table border=\"1\" class=\"dataframe\">\n",
       "  <thead>\n",
       "    <tr style=\"text-align: right;\">\n",
       "      <th></th>\n",
       "      <th>Город</th>\n",
       "      <th>Стоимость</th>\n",
       "      <th>Доход</th>\n",
       "      <th>Рентабельность</th>\n",
       "    </tr>\n",
       "  </thead>\n",
       "  <tbody>\n",
       "    <tr>\n",
       "      <th>5</th>\n",
       "      <td>countries</td>\n",
       "      <td>22953.88</td>\n",
       "      <td>223470</td>\n",
       "      <td>89.728429</td>\n",
       "    </tr>\n",
       "    <tr>\n",
       "      <th>18</th>\n",
       "      <td>reg</td>\n",
       "      <td>78812.67</td>\n",
       "      <td>215730</td>\n",
       "      <td>63.466987</td>\n",
       "    </tr>\n",
       "    <tr>\n",
       "      <th>35</th>\n",
       "      <td>vld</td>\n",
       "      <td>591828.40</td>\n",
       "      <td>1535677</td>\n",
       "      <td>61.461401</td>\n",
       "    </tr>\n",
       "    <tr>\n",
       "      <th>13</th>\n",
       "      <td>msk</td>\n",
       "      <td>19299179.34</td>\n",
       "      <td>45353118</td>\n",
       "      <td>57.446852</td>\n",
       "    </tr>\n",
       "    <tr>\n",
       "      <th>25</th>\n",
       "      <td>spb</td>\n",
       "      <td>6804493.79</td>\n",
       "      <td>14907997</td>\n",
       "      <td>54.356754</td>\n",
       "    </tr>\n",
       "  </tbody>\n",
       "</table>\n",
       "</div>"
      ],
      "text/plain": [
       "        Город    Стоимость     Доход  Рентабельность\n",
       "5   countries     22953.88    223470       89.728429\n",
       "18        reg     78812.67    215730       63.466987\n",
       "35        vld    591828.40   1535677       61.461401\n",
       "13        msk  19299179.34  45353118       57.446852\n",
       "25        spb   6804493.79  14907997       54.356754"
      ]
     },
     "execution_count": 19,
     "metadata": {},
     "output_type": "execute_result"
    }
   ],
   "source": [
    "data['Рентабельность'] = (data['Доход'] - data['Стоимость']) / data['Доход'] * 100\n",
    "data = data.sort_values(by='Рентабельность', ascending=False)\n",
    "data.head()"
   ]
  },
  {
   "cell_type": "code",
   "execution_count": 20,
   "id": "22459cb1",
   "metadata": {},
   "outputs": [
    {
     "data": {
      "image/png": "[encoded data removed]",
      "text/plain": [
       "<Figure size 1008x720 with 1 Axes>"
      ]
     },
     "metadata": {
      "needs_background": "light"
     },
     "output_type": "display_data"
    }
   ],
   "source": [
    "plt.figure(figsize=(14, 10))\n",
    "sns.barplot(x='Город', y='Рентабельность', data=data, color='#89CFFD')\n",
    "plt.xticks(rotation=45)\n",
    "plt.xlabel(' ')\n",
    "plt.show()"
   ]
  },
  {
   "cell_type": "markdown",
   "id": "d465ec56",
   "metadata": {},
   "source": [
    "Несмотря на то, что максимальный доход приносит нам Москва и Санкт-Петербург, их рентабельность оказалась все равно ниже, чем для reg, countries и Владивостока. Для countries рентабельность самая большая, почти 100, при том, что затраты на рекламные кампании небольшие. Получается, для нас самыми выгодными оказываются кампании из других стран и регионов, не указанных отдельно в таблице. Также видим, что у нас полно городов, кампании которых приносят нам только убытки."
   ]
  },
  {
   "cell_type": "markdown",
   "id": "34e23af4",
   "metadata": {},
   "source": [
    "Посмотрим отдельно на города с рентабельностью меньше 0. Все эти рекламные кампании убыточны."
   ]
  },
  {
   "cell_type": "code",
   "execution_count": 21,
   "id": "142dbc7b",
   "metadata": {},
   "outputs": [
    {
     "data": {
      "text/html": [
       "<div>\n",
       "<style scoped>\n",
       "    .dataframe tbody tr th:only-of-type {\n",
       "        vertical-align: middle;\n",
       "    }\n",
       "\n",
       "    .dataframe tbody tr th {\n",
       "        vertical-align: top;\n",
       "    }\n",
       "\n",
       "    .dataframe thead th {\n",
       "        text-align: right;\n",
       "    }\n",
       "</style>\n",
       "<table border=\"1\" class=\"dataframe\">\n",
       "  <thead>\n",
       "    <tr style=\"text-align: right;\">\n",
       "      <th></th>\n",
       "      <th>Город</th>\n",
       "      <th>Стоимость</th>\n",
       "      <th>Доход</th>\n",
       "      <th>Рентабельность</th>\n",
       "    </tr>\n",
       "  </thead>\n",
       "  <tbody>\n",
       "    <tr>\n",
       "      <th>3</th>\n",
       "      <td>cfo</td>\n",
       "      <td>149983.46</td>\n",
       "      <td>143322</td>\n",
       "      <td>-4.647898</td>\n",
       "    </tr>\n",
       "    <tr>\n",
       "      <th>39</th>\n",
       "      <td>yar</td>\n",
       "      <td>648397.19</td>\n",
       "      <td>603221</td>\n",
       "      <td>-7.489161</td>\n",
       "    </tr>\n",
       "    <tr>\n",
       "      <th>7</th>\n",
       "      <td>ivanovo</td>\n",
       "      <td>94310.46</td>\n",
       "      <td>87140</td>\n",
       "      <td>-8.228667</td>\n",
       "    </tr>\n",
       "    <tr>\n",
       "      <th>21</th>\n",
       "      <td>sarat</td>\n",
       "      <td>282279.33</td>\n",
       "      <td>256580</td>\n",
       "      <td>-10.016108</td>\n",
       "    </tr>\n",
       "    <tr>\n",
       "      <th>20</th>\n",
       "      <td>ryz</td>\n",
       "      <td>493298.49</td>\n",
       "      <td>442670</td>\n",
       "      <td>-11.437073</td>\n",
       "    </tr>\n",
       "    <tr>\n",
       "      <th>12</th>\n",
       "      <td>lip</td>\n",
       "      <td>217282.64</td>\n",
       "      <td>188220</td>\n",
       "      <td>-15.440782</td>\n",
       "    </tr>\n",
       "    <tr>\n",
       "      <th>26</th>\n",
       "      <td>sta</td>\n",
       "      <td>384189.23</td>\n",
       "      <td>321910</td>\n",
       "      <td>-19.346783</td>\n",
       "    </tr>\n",
       "    <tr>\n",
       "      <th>33</th>\n",
       "      <td>ufa</td>\n",
       "      <td>394920.84</td>\n",
       "      <td>288942</td>\n",
       "      <td>-36.678240</td>\n",
       "    </tr>\n",
       "    <tr>\n",
       "      <th>8</th>\n",
       "      <td>kal</td>\n",
       "      <td>316893.79</td>\n",
       "      <td>222295</td>\n",
       "      <td>-42.555519</td>\n",
       "    </tr>\n",
       "    <tr>\n",
       "      <th>4</th>\n",
       "      <td>chel</td>\n",
       "      <td>449321.29</td>\n",
       "      <td>238390</td>\n",
       "      <td>-88.481602</td>\n",
       "    </tr>\n",
       "    <tr>\n",
       "      <th>0</th>\n",
       "      <td>barn</td>\n",
       "      <td>349899.90</td>\n",
       "      <td>162610</td>\n",
       "      <td>-115.177357</td>\n",
       "    </tr>\n",
       "    <tr>\n",
       "      <th>27</th>\n",
       "      <td>tamb</td>\n",
       "      <td>170836.30</td>\n",
       "      <td>74880</td>\n",
       "      <td>-128.146768</td>\n",
       "    </tr>\n",
       "    <tr>\n",
       "      <th>16</th>\n",
       "      <td>orel</td>\n",
       "      <td>254495.90</td>\n",
       "      <td>110452</td>\n",
       "      <td>-130.413121</td>\n",
       "    </tr>\n",
       "    <tr>\n",
       "      <th>28</th>\n",
       "      <td>tmsk</td>\n",
       "      <td>246822.46</td>\n",
       "      <td>97320</td>\n",
       "      <td>-153.619462</td>\n",
       "    </tr>\n",
       "    <tr>\n",
       "      <th>23</th>\n",
       "      <td>sim</td>\n",
       "      <td>287442.15</td>\n",
       "      <td>108711</td>\n",
       "      <td>-164.409443</td>\n",
       "    </tr>\n",
       "    <tr>\n",
       "      <th>1</th>\n",
       "      <td>belg</td>\n",
       "      <td>290501.96</td>\n",
       "      <td>98860</td>\n",
       "      <td>-193.851871</td>\n",
       "    </tr>\n",
       "    <tr>\n",
       "      <th>31</th>\n",
       "      <td>tvr</td>\n",
       "      <td>502868.95</td>\n",
       "      <td>169380</td>\n",
       "      <td>-196.888033</td>\n",
       "    </tr>\n",
       "    <tr>\n",
       "      <th>24</th>\n",
       "      <td>smol</td>\n",
       "      <td>300322.16</td>\n",
       "      <td>60970</td>\n",
       "      <td>-392.573659</td>\n",
       "    </tr>\n",
       "    <tr>\n",
       "      <th>11</th>\n",
       "      <td>kursk</td>\n",
       "      <td>270253.11</td>\n",
       "      <td>35530</td>\n",
       "      <td>-660.633577</td>\n",
       "    </tr>\n",
       "    <tr>\n",
       "      <th>2</th>\n",
       "      <td>bryan</td>\n",
       "      <td>99578.90</td>\n",
       "      <td>0</td>\n",
       "      <td>-inf</td>\n",
       "    </tr>\n",
       "  </tbody>\n",
       "</table>\n",
       "</div>"
      ],
      "text/plain": [
       "      Город  Стоимость   Доход  Рентабельность\n",
       "3       cfo  149983.46  143322       -4.647898\n",
       "39      yar  648397.19  603221       -7.489161\n",
       "7   ivanovo   94310.46   87140       -8.228667\n",
       "21    sarat  282279.33  256580      -10.016108\n",
       "20      ryz  493298.49  442670      -11.437073\n",
       "12      lip  217282.64  188220      -15.440782\n",
       "26      sta  384189.23  321910      -19.346783\n",
       "33      ufa  394920.84  288942      -36.678240\n",
       "8       kal  316893.79  222295      -42.555519\n",
       "4      chel  449321.29  238390      -88.481602\n",
       "0      barn  349899.90  162610     -115.177357\n",
       "27     tamb  170836.30   74880     -128.146768\n",
       "16     orel  254495.90  110452     -130.413121\n",
       "28     tmsk  246822.46   97320     -153.619462\n",
       "23      sim  287442.15  108711     -164.409443\n",
       "1      belg  290501.96   98860     -193.851871\n",
       "31      tvr  502868.95  169380     -196.888033\n",
       "24     smol  300322.16   60970     -392.573659\n",
       "11    kursk  270253.11   35530     -660.633577\n",
       "2     bryan   99578.90       0            -inf"
      ]
     },
     "execution_count": 21,
     "metadata": {},
     "output_type": "execute_result"
    }
   ],
   "source": [
    "data_rent = data.query('Рентабельность < 0')\n",
    "data_rent"
   ]
  },
  {
   "cell_type": "code",
   "execution_count": 22,
   "id": "7fcf76c7",
   "metadata": {},
   "outputs": [
    {
     "data": {
      "image/png": "[encoded data removed]",
      "text/plain": [
       "<Figure size 432x288 with 1 Axes>"
      ]
     },
     "metadata": {
      "needs_background": "light"
     },
     "output_type": "display_data"
    }
   ],
   "source": [
    "sns.barplot(x='Город', y='Рентабельность', data=data_rent, color='#89CFFD')\n",
    "plt.xticks(rotation=45)\n",
    "plt.xlabel(' ')\n",
    "plt.show()"
   ]
  },
  {
   "cell_type": "markdown",
   "id": "3d1b245a",
   "metadata": {},
   "source": [
    "В дальнейшем я бы перестала вкладывать деньги в города с сильно убыточными кампаниями (chel, barn, tamb, orel, tmsk, sim, belg, tvr, smol, kursk, bryan). Лучше перераспределить их бюджет на другие кампании."
   ]
  },
  {
   "cell_type": "markdown",
   "id": "358cb5e9",
   "metadata": {},
   "source": [
    "2) Теперь посмотрим, как распределен наш доход по наименованию продукта:"
   ]
  },
  {
   "cell_type": "code",
   "execution_count": 23,
   "id": "56172dd5",
   "metadata": {},
   "outputs": [
    {
     "data": {
      "text/html": [
       "<div>\n",
       "<style scoped>\n",
       "    .dataframe tbody tr th:only-of-type {\n",
       "        vertical-align: middle;\n",
       "    }\n",
       "\n",
       "    .dataframe tbody tr th {\n",
       "        vertical-align: top;\n",
       "    }\n",
       "\n",
       "    .dataframe thead th {\n",
       "        text-align: right;\n",
       "    }\n",
       "</style>\n",
       "<table border=\"1\" class=\"dataframe\">\n",
       "  <thead>\n",
       "    <tr style=\"text-align: right;\">\n",
       "      <th></th>\n",
       "      <th>Город</th>\n",
       "      <th>Наименование</th>\n",
       "      <th>Стоимость</th>\n",
       "      <th>Цена за клик</th>\n",
       "      <th>Цена за конверсию</th>\n",
       "      <th>Цена за транзакцию</th>\n",
       "      <th>Доход от клика</th>\n",
       "      <th>Доход</th>\n",
       "      <th>Рентабельность инвестиций в рекламу</th>\n",
       "      <th>Цена за конверсию / Стоимость</th>\n",
       "      <th>Рентабельность</th>\n",
       "    </tr>\n",
       "  </thead>\n",
       "  <tbody>\n",
       "    <tr>\n",
       "      <th>0</th>\n",
       "      <td>msk</td>\n",
       "      <td>brand</td>\n",
       "      <td>3069402.85</td>\n",
       "      <td>116.688118</td>\n",
       "      <td>324.398759</td>\n",
       "      <td>1.947336e+04</td>\n",
       "      <td>604.086312</td>\n",
       "      <td>19959642</td>\n",
       "      <td>9.515574</td>\n",
       "      <td>0.005769</td>\n",
       "      <td>84.621954</td>\n",
       "    </tr>\n",
       "    <tr>\n",
       "      <th>1</th>\n",
       "      <td>spb</td>\n",
       "      <td>brand</td>\n",
       "      <td>1148526.83</td>\n",
       "      <td>127.078260</td>\n",
       "      <td>474.368352</td>\n",
       "      <td>2.478895e+04</td>\n",
       "      <td>680.618594</td>\n",
       "      <td>8679000</td>\n",
       "      <td>10.666758</td>\n",
       "      <td>0.003397</td>\n",
       "      <td>86.766599</td>\n",
       "    </tr>\n",
       "    <tr>\n",
       "      <th>2</th>\n",
       "      <td>msk</td>\n",
       "      <td>smart</td>\n",
       "      <td>1819910.69</td>\n",
       "      <td>159.101134</td>\n",
       "      <td>798.861132</td>\n",
       "      <td>5.061242e+04</td>\n",
       "      <td>409.298895</td>\n",
       "      <td>5714937</td>\n",
       "      <td>8.005460</td>\n",
       "      <td>0.001852</td>\n",
       "      <td>68.155192</td>\n",
       "    </tr>\n",
       "    <tr>\n",
       "      <th>3</th>\n",
       "      <td>msk</td>\n",
       "      <td>couches</td>\n",
       "      <td>5275775.03</td>\n",
       "      <td>4272.513349</td>\n",
       "      <td>42167.086476</td>\n",
       "      <td>1.583423e+06</td>\n",
       "      <td>3327.716662</td>\n",
       "      <td>4458753</td>\n",
       "      <td>35.566650</td>\n",
       "      <td>0.853924</td>\n",
       "      <td>-18.324003</td>\n",
       "    </tr>\n",
       "    <tr>\n",
       "      <th>4</th>\n",
       "      <td>msk</td>\n",
       "      <td>magazin-mebeli</td>\n",
       "      <td>1675053.21</td>\n",
       "      <td>397.172569</td>\n",
       "      <td>2477.200213</td>\n",
       "      <td>1.711690e+05</td>\n",
       "      <td>603.407531</td>\n",
       "      <td>4336039</td>\n",
       "      <td>9.085034</td>\n",
       "      <td>0.028408</td>\n",
       "      <td>61.369046</td>\n",
       "    </tr>\n",
       "    <tr>\n",
       "      <th>...</th>\n",
       "      <td>...</td>\n",
       "      <td>...</td>\n",
       "      <td>...</td>\n",
       "      <td>...</td>\n",
       "      <td>...</td>\n",
       "      <td>...</td>\n",
       "      <td>...</td>\n",
       "      <td>...</td>\n",
       "      <td>...</td>\n",
       "      <td>...</td>\n",
       "      <td>...</td>\n",
       "    </tr>\n",
       "    <tr>\n",
       "      <th>227</th>\n",
       "      <td>ros</td>\n",
       "      <td>korpus</td>\n",
       "      <td>50449.76</td>\n",
       "      <td>86.386575</td>\n",
       "      <td>1051.036667</td>\n",
       "      <td>0.000000e+00</td>\n",
       "      <td>0.000000</td>\n",
       "      <td>0</td>\n",
       "      <td>0.000000</td>\n",
       "      <td>0.020833</td>\n",
       "      <td>-inf</td>\n",
       "    </tr>\n",
       "    <tr>\n",
       "      <th>228</th>\n",
       "      <td>ros</td>\n",
       "      <td>dsa</td>\n",
       "      <td>43584.33</td>\n",
       "      <td>73.997165</td>\n",
       "      <td>889.476122</td>\n",
       "      <td>0.000000e+00</td>\n",
       "      <td>1.035654</td>\n",
       "      <td>0</td>\n",
       "      <td>0.013996</td>\n",
       "      <td>0.020408</td>\n",
       "      <td>-inf</td>\n",
       "    </tr>\n",
       "    <tr>\n",
       "      <th>229</th>\n",
       "      <td>reg</td>\n",
       "      <td>competitors</td>\n",
       "      <td>13222.67</td>\n",
       "      <td>62.666682</td>\n",
       "      <td>314.825476</td>\n",
       "      <td>0.000000e+00</td>\n",
       "      <td>0.000000</td>\n",
       "      <td>0</td>\n",
       "      <td>0.000000</td>\n",
       "      <td>0.023810</td>\n",
       "      <td>-inf</td>\n",
       "    </tr>\n",
       "    <tr>\n",
       "      <th>230</th>\n",
       "      <td>orel</td>\n",
       "      <td>wardrobe</td>\n",
       "      <td>14610.21</td>\n",
       "      <td>149.083776</td>\n",
       "      <td>2922.042000</td>\n",
       "      <td>0.000000e+00</td>\n",
       "      <td>0.000000</td>\n",
       "      <td>0</td>\n",
       "      <td>0.000000</td>\n",
       "      <td>0.200000</td>\n",
       "      <td>-inf</td>\n",
       "    </tr>\n",
       "    <tr>\n",
       "      <th>231</th>\n",
       "      <td>yar</td>\n",
       "      <td>wardrobe</td>\n",
       "      <td>18584.31</td>\n",
       "      <td>82.965670</td>\n",
       "      <td>1429.562308</td>\n",
       "      <td>0.000000e+00</td>\n",
       "      <td>0.000000</td>\n",
       "      <td>0</td>\n",
       "      <td>0.000000</td>\n",
       "      <td>0.076923</td>\n",
       "      <td>-inf</td>\n",
       "    </tr>\n",
       "  </tbody>\n",
       "</table>\n",
       "<p>232 rows × 11 columns</p>\n",
       "</div>"
      ],
      "text/plain": [
       "    Город    Наименование   Стоимость  Цена за клик  Цена за конверсию  \\\n",
       "0     msk           brand  3069402.85    116.688118         324.398759   \n",
       "1     spb           brand  1148526.83    127.078260         474.368352   \n",
       "2     msk           smart  1819910.69    159.101134         798.861132   \n",
       "3     msk         couches  5275775.03   4272.513349       42167.086476   \n",
       "4     msk  magazin-mebeli  1675053.21    397.172569        2477.200213   \n",
       "..    ...             ...         ...           ...                ...   \n",
       "227   ros          korpus    50449.76     86.386575        1051.036667   \n",
       "228   ros             dsa    43584.33     73.997165         889.476122   \n",
       "229   reg     competitors    13222.67     62.666682         314.825476   \n",
       "230  orel        wardrobe    14610.21    149.083776        2922.042000   \n",
       "231   yar        wardrobe    18584.31     82.965670        1429.562308   \n",
       "\n",
       "     Цена за транзакцию  Доход от клика     Доход  \\\n",
       "0          1.947336e+04      604.086312  19959642   \n",
       "1          2.478895e+04      680.618594   8679000   \n",
       "2          5.061242e+04      409.298895   5714937   \n",
       "3          1.583423e+06     3327.716662   4458753   \n",
       "4          1.711690e+05      603.407531   4336039   \n",
       "..                  ...             ...       ...   \n",
       "227        0.000000e+00        0.000000         0   \n",
       "228        0.000000e+00        1.035654         0   \n",
       "229        0.000000e+00        0.000000         0   \n",
       "230        0.000000e+00        0.000000         0   \n",
       "231        0.000000e+00        0.000000         0   \n",
       "\n",
       "     Рентабельность инвестиций в рекламу  Цена за конверсию / Стоимость  \\\n",
       "0                               9.515574                       0.005769   \n",
       "1                              10.666758                       0.003397   \n",
       "2                               8.005460                       0.001852   \n",
       "3                              35.566650                       0.853924   \n",
       "4                               9.085034                       0.028408   \n",
       "..                                   ...                            ...   \n",
       "227                             0.000000                       0.020833   \n",
       "228                             0.013996                       0.020408   \n",
       "229                             0.000000                       0.023810   \n",
       "230                             0.000000                       0.200000   \n",
       "231                             0.000000                       0.076923   \n",
       "\n",
       "     Рентабельность  \n",
       "0         84.621954  \n",
       "1         86.766599  \n",
       "2         68.155192  \n",
       "3        -18.324003  \n",
       "4         61.369046  \n",
       "..              ...  \n",
       "227            -inf  \n",
       "228            -inf  \n",
       "229            -inf  \n",
       "230            -inf  \n",
       "231            -inf  \n",
       "\n",
       "[232 rows x 11 columns]"
      ]
     },
     "execution_count": 23,
     "metadata": {},
     "output_type": "execute_result"
    }
   ],
   "source": [
    "df_furniture = df.groupby(['Город', 'Наименование']).sum().sort_values(by='Доход', ascending=False).reset_index()\n",
    "df_furniture['Рентабельность'] = (df_furniture['Доход'] - df_furniture['Стоимость']) / df_furniture['Доход'] * 100\n",
    "df_furniture"
   ]
  },
  {
   "cell_type": "markdown",
   "id": "6bb8634e",
   "metadata": {},
   "source": [
    "У многих товаров нулевая цена за транзакцию, польлзвоатели не покупают данный тип мебели, следовательно, доход тоже нулевой."
   ]
  },
  {
   "cell_type": "markdown",
   "id": "f0601700",
   "metadata": {},
   "source": [
    "Посмотрим, как распределена стоимость и доход по наименованию товара:"
   ]
  },
  {
   "cell_type": "code",
   "execution_count": 24,
   "id": "1042eaba",
   "metadata": {},
   "outputs": [
    {
     "data": {
      "image/png": "[encoded data removed]",
      "text/plain": [
       "<Figure size 1008x720 with 2 Axes>"
      ]
     },
     "metadata": {
      "needs_background": "light"
     },
     "output_type": "display_data"
    }
   ],
   "source": [
    "plt.figure(figsize=(14, 10))\n",
    "\n",
    "plt.subplot(2, 1, 1)\n",
    "sns.barplot(x='Наименование', y='Стоимость', data=df_furniture, color='#89CFFD')\n",
    "plt.xticks(rotation=45)\n",
    "plt.xlabel(' ')\n",
    "\n",
    "plt.subplot(2, 1, 2)\n",
    "sns.barplot(x='Наименование', y='Доход', data=df_furniture, color='#89CFFD')\n",
    "plt.xticks(rotation=45)\n",
    "plt.xlabel(' ')\n",
    "\n",
    "plt.show()"
   ]
  },
  {
   "cell_type": "markdown",
   "id": "8f4d0589",
   "metadata": {},
   "source": [
    "Наибольшие затраты у нас на magazin-mebeli, но и наибольший доход тоже у него"
   ]
  },
  {
   "cell_type": "markdown",
   "id": "14446ea3",
   "metadata": {},
   "source": [
    "Посмотрим на рентабельность товаров:"
   ]
  },
  {
   "cell_type": "code",
   "execution_count": 25,
   "id": "71cec7b9",
   "metadata": {},
   "outputs": [
    {
     "data": {
      "text/html": [
       "<div>\n",
       "<style scoped>\n",
       "    .dataframe tbody tr th:only-of-type {\n",
       "        vertical-align: middle;\n",
       "    }\n",
       "\n",
       "    .dataframe tbody tr th {\n",
       "        vertical-align: top;\n",
       "    }\n",
       "\n",
       "    .dataframe thead th {\n",
       "        text-align: right;\n",
       "    }\n",
       "</style>\n",
       "<table border=\"1\" class=\"dataframe\">\n",
       "  <thead>\n",
       "    <tr style=\"text-align: right;\">\n",
       "      <th></th>\n",
       "      <th>Наименование</th>\n",
       "      <th>Стоимость</th>\n",
       "      <th>Доход</th>\n",
       "      <th>Рентабельность</th>\n",
       "    </tr>\n",
       "  </thead>\n",
       "  <tbody>\n",
       "    <tr>\n",
       "      <th>3</th>\n",
       "      <td>brand</td>\n",
       "      <td>5402072.97</td>\n",
       "      <td>37178445</td>\n",
       "      <td>85.469879</td>\n",
       "    </tr>\n",
       "    <tr>\n",
       "      <th>12</th>\n",
       "      <td>kreslo</td>\n",
       "      <td>90913.26</td>\n",
       "      <td>307786</td>\n",
       "      <td>70.462185</td>\n",
       "    </tr>\n",
       "    <tr>\n",
       "      <th>8</th>\n",
       "      <td>divan</td>\n",
       "      <td>307563.14</td>\n",
       "      <td>912574</td>\n",
       "      <td>66.297184</td>\n",
       "    </tr>\n",
       "    <tr>\n",
       "      <th>14</th>\n",
       "      <td>magazin-mebeli</td>\n",
       "      <td>1845029.55</td>\n",
       "      <td>4459039</td>\n",
       "      <td>58.622709</td>\n",
       "    </tr>\n",
       "    <tr>\n",
       "      <th>5</th>\n",
       "      <td>categor</td>\n",
       "      <td>908786.98</td>\n",
       "      <td>1955831</td>\n",
       "      <td>53.534483</td>\n",
       "    </tr>\n",
       "    <tr>\n",
       "      <th>13</th>\n",
       "      <td>kreslo-krovat</td>\n",
       "      <td>79411.34</td>\n",
       "      <td>152010</td>\n",
       "      <td>47.759134</td>\n",
       "    </tr>\n",
       "    <tr>\n",
       "      <th>18</th>\n",
       "      <td>smart</td>\n",
       "      <td>5966424.20</td>\n",
       "      <td>10983050</td>\n",
       "      <td>45.676072</td>\n",
       "    </tr>\n",
       "    <tr>\n",
       "      <th>9</th>\n",
       "      <td>dsa</td>\n",
       "      <td>3669861.48</td>\n",
       "      <td>6004836</td>\n",
       "      <td>38.884901</td>\n",
       "    </tr>\n",
       "    <tr>\n",
       "      <th>2</th>\n",
       "      <td>br</td>\n",
       "      <td>1031690.30</td>\n",
       "      <td>1424732</td>\n",
       "      <td>27.587062</td>\n",
       "    </tr>\n",
       "    <tr>\n",
       "      <th>19</th>\n",
       "      <td>wardrobe</td>\n",
       "      <td>938515.71</td>\n",
       "      <td>1048457</td>\n",
       "      <td>10.486008</td>\n",
       "    </tr>\n",
       "    <tr>\n",
       "      <th>16</th>\n",
       "      <td>mkb</td>\n",
       "      <td>11922.37</td>\n",
       "      <td>12990</td>\n",
       "      <td>8.218861</td>\n",
       "    </tr>\n",
       "    <tr>\n",
       "      <th>15</th>\n",
       "      <td>mebel</td>\n",
       "      <td>2933126.77</td>\n",
       "      <td>2387548</td>\n",
       "      <td>-22.851007</td>\n",
       "    </tr>\n",
       "    <tr>\n",
       "      <th>6</th>\n",
       "      <td>competitors</td>\n",
       "      <td>829557.64</td>\n",
       "      <td>639217</td>\n",
       "      <td>-29.777155</td>\n",
       "    </tr>\n",
       "    <tr>\n",
       "      <th>1</th>\n",
       "      <td>bedroom</td>\n",
       "      <td>350720.83</td>\n",
       "      <td>251684</td>\n",
       "      <td>-39.349673</td>\n",
       "    </tr>\n",
       "    <tr>\n",
       "      <th>4</th>\n",
       "      <td>broad</td>\n",
       "      <td>133988.55</td>\n",
       "      <td>94460</td>\n",
       "      <td>-41.846866</td>\n",
       "    </tr>\n",
       "    <tr>\n",
       "      <th>7</th>\n",
       "      <td>couches</td>\n",
       "      <td>13997995.97</td>\n",
       "      <td>9080755</td>\n",
       "      <td>-54.150134</td>\n",
       "    </tr>\n",
       "    <tr>\n",
       "      <th>11</th>\n",
       "      <td>korpus</td>\n",
       "      <td>999139.63</td>\n",
       "      <td>490782</td>\n",
       "      <td>-103.581148</td>\n",
       "    </tr>\n",
       "    <tr>\n",
       "      <th>0</th>\n",
       "      <td>bed</td>\n",
       "      <td>1956748.82</td>\n",
       "      <td>824390</td>\n",
       "      <td>-137.357176</td>\n",
       "    </tr>\n",
       "    <tr>\n",
       "      <th>17</th>\n",
       "      <td>myagkaya-mebel</td>\n",
       "      <td>61576.23</td>\n",
       "      <td>8541</td>\n",
       "      <td>-620.948718</td>\n",
       "    </tr>\n",
       "    <tr>\n",
       "      <th>10</th>\n",
       "      <td>hallway</td>\n",
       "      <td>19171.81</td>\n",
       "      <td>0</td>\n",
       "      <td>-inf</td>\n",
       "    </tr>\n",
       "  </tbody>\n",
       "</table>\n",
       "</div>"
      ],
      "text/plain": [
       "      Наименование    Стоимость     Доход  Рентабельность\n",
       "3            brand   5402072.97  37178445       85.469879\n",
       "12          kreslo     90913.26    307786       70.462185\n",
       "8            divan    307563.14    912574       66.297184\n",
       "14  magazin-mebeli   1845029.55   4459039       58.622709\n",
       "5          categor    908786.98   1955831       53.534483\n",
       "13   kreslo-krovat     79411.34    152010       47.759134\n",
       "18           smart   5966424.20  10983050       45.676072\n",
       "9              dsa   3669861.48   6004836       38.884901\n",
       "2               br   1031690.30   1424732       27.587062\n",
       "19        wardrobe    938515.71   1048457       10.486008\n",
       "16             mkb     11922.37     12990        8.218861\n",
       "15           mebel   2933126.77   2387548      -22.851007\n",
       "6      competitors    829557.64    639217      -29.777155\n",
       "1          bedroom    350720.83    251684      -39.349673\n",
       "4            broad    133988.55     94460      -41.846866\n",
       "7          couches  13997995.97   9080755      -54.150134\n",
       "11          korpus    999139.63    490782     -103.581148\n",
       "0              bed   1956748.82    824390     -137.357176\n",
       "17  myagkaya-mebel     61576.23      8541     -620.948718\n",
       "10         hallway     19171.81         0            -inf"
      ]
     },
     "execution_count": 25,
     "metadata": {},
     "output_type": "execute_result"
    }
   ],
   "source": [
    "furniture = df[['Наименование', 'Стоимость', 'Доход']]\n",
    "furniture = furniture.groupby('Наименование').sum().reset_index()\n",
    "furniture['Рентабельность'] = (furniture['Доход'] - furniture['Стоимость']) / furniture['Доход'] * 100\n",
    "furniture = furniture.sort_values(by='Рентабельность', ascending=False)\n",
    "furniture"
   ]
  },
  {
   "cell_type": "code",
   "execution_count": 26,
   "id": "027bfe23",
   "metadata": {},
   "outputs": [
    {
     "data": {
      "image/png": "[encoded data removed]",
      "text/plain": [
       "<Figure size 1008x720 with 1 Axes>"
      ]
     },
     "metadata": {
      "needs_background": "light"
     },
     "output_type": "display_data"
    }
   ],
   "source": [
    "plt.figure(figsize=(14, 10))\n",
    "sns.barplot(x='Наименование', y='Рентабельность', data=furniture, color='#89CFFD')\n",
    "plt.xticks(rotation=45)\n",
    "plt.xlabel(' ')\n",
    "plt.show()"
   ]
  },
  {
   "cell_type": "code",
   "execution_count": 27,
   "id": "b6b38ffc",
   "metadata": {},
   "outputs": [
    {
     "data": {
      "text/html": [
       "<div>\n",
       "<style scoped>\n",
       "    .dataframe tbody tr th:only-of-type {\n",
       "        vertical-align: middle;\n",
       "    }\n",
       "\n",
       "    .dataframe tbody tr th {\n",
       "        vertical-align: top;\n",
       "    }\n",
       "\n",
       "    .dataframe thead th {\n",
       "        text-align: right;\n",
       "    }\n",
       "</style>\n",
       "<table border=\"1\" class=\"dataframe\">\n",
       "  <thead>\n",
       "    <tr style=\"text-align: right;\">\n",
       "      <th></th>\n",
       "      <th>Наименование</th>\n",
       "      <th>Стоимость</th>\n",
       "      <th>Доход</th>\n",
       "      <th>Рентабельность</th>\n",
       "    </tr>\n",
       "  </thead>\n",
       "  <tbody>\n",
       "    <tr>\n",
       "      <th>15</th>\n",
       "      <td>mebel</td>\n",
       "      <td>2933126.77</td>\n",
       "      <td>2387548</td>\n",
       "      <td>-22.851007</td>\n",
       "    </tr>\n",
       "    <tr>\n",
       "      <th>6</th>\n",
       "      <td>competitors</td>\n",
       "      <td>829557.64</td>\n",
       "      <td>639217</td>\n",
       "      <td>-29.777155</td>\n",
       "    </tr>\n",
       "    <tr>\n",
       "      <th>1</th>\n",
       "      <td>bedroom</td>\n",
       "      <td>350720.83</td>\n",
       "      <td>251684</td>\n",
       "      <td>-39.349673</td>\n",
       "    </tr>\n",
       "    <tr>\n",
       "      <th>4</th>\n",
       "      <td>broad</td>\n",
       "      <td>133988.55</td>\n",
       "      <td>94460</td>\n",
       "      <td>-41.846866</td>\n",
       "    </tr>\n",
       "    <tr>\n",
       "      <th>7</th>\n",
       "      <td>couches</td>\n",
       "      <td>13997995.97</td>\n",
       "      <td>9080755</td>\n",
       "      <td>-54.150134</td>\n",
       "    </tr>\n",
       "    <tr>\n",
       "      <th>11</th>\n",
       "      <td>korpus</td>\n",
       "      <td>999139.63</td>\n",
       "      <td>490782</td>\n",
       "      <td>-103.581148</td>\n",
       "    </tr>\n",
       "    <tr>\n",
       "      <th>0</th>\n",
       "      <td>bed</td>\n",
       "      <td>1956748.82</td>\n",
       "      <td>824390</td>\n",
       "      <td>-137.357176</td>\n",
       "    </tr>\n",
       "    <tr>\n",
       "      <th>17</th>\n",
       "      <td>myagkaya-mebel</td>\n",
       "      <td>61576.23</td>\n",
       "      <td>8541</td>\n",
       "      <td>-620.948718</td>\n",
       "    </tr>\n",
       "    <tr>\n",
       "      <th>10</th>\n",
       "      <td>hallway</td>\n",
       "      <td>19171.81</td>\n",
       "      <td>0</td>\n",
       "      <td>-inf</td>\n",
       "    </tr>\n",
       "  </tbody>\n",
       "</table>\n",
       "</div>"
      ],
      "text/plain": [
       "      Наименование    Стоимость    Доход  Рентабельность\n",
       "15           mebel   2933126.77  2387548      -22.851007\n",
       "6      competitors    829557.64   639217      -29.777155\n",
       "1          bedroom    350720.83   251684      -39.349673\n",
       "4            broad    133988.55    94460      -41.846866\n",
       "7          couches  13997995.97  9080755      -54.150134\n",
       "11          korpus    999139.63   490782     -103.581148\n",
       "0              bed   1956748.82   824390     -137.357176\n",
       "17  myagkaya-mebel     61576.23     8541     -620.948718\n",
       "10         hallway     19171.81        0            -inf"
      ]
     },
     "execution_count": 27,
     "metadata": {},
     "output_type": "execute_result"
    }
   ],
   "source": [
    "furniture_no_income = furniture.query('Рентабельность < 0')\n",
    "furniture_no_income"
   ]
  },
  {
   "cell_type": "code",
   "execution_count": 28,
   "id": "b86ec1a7",
   "metadata": {},
   "outputs": [
    {
     "data": {
      "image/png": "[encoded data removed]",
      "text/plain": [
       "<Figure size 432x288 with 1 Axes>"
      ]
     },
     "metadata": {
      "needs_background": "light"
     },
     "output_type": "display_data"
    }
   ],
   "source": [
    "sns.barplot(x='Наименование', y='Рентабельность', data=furniture_no_income, color='#89CFFD')\n",
    "plt.xlabel(' ')\n",
    "plt.xticks(rotation=45)\n",
    "plt.show()"
   ]
  },
  {
   "cell_type": "markdown",
   "id": "12b51e90",
   "metadata": {},
   "source": [
    "Наибольшие потери у нас от рекламной кампании myagkaya-mebel и hallway. В следующем месяце можно совсем перестать в нее вкладываться."
   ]
  },
  {
   "cell_type": "markdown",
   "id": "7d863790",
   "metadata": {},
   "source": [
    "Определим, в каких городах и какой тип мебели совсем не приносит нам доход:"
   ]
  },
  {
   "cell_type": "code",
   "execution_count": 29,
   "id": "29d67f97",
   "metadata": {},
   "outputs": [
    {
     "data": {
      "text/html": [
       "<div>\n",
       "<style scoped>\n",
       "    .dataframe tbody tr th:only-of-type {\n",
       "        vertical-align: middle;\n",
       "    }\n",
       "\n",
       "    .dataframe tbody tr th {\n",
       "        vertical-align: top;\n",
       "    }\n",
       "\n",
       "    .dataframe thead th {\n",
       "        text-align: right;\n",
       "    }\n",
       "</style>\n",
       "<table border=\"1\" class=\"dataframe\">\n",
       "  <thead>\n",
       "    <tr style=\"text-align: right;\">\n",
       "      <th></th>\n",
       "      <th></th>\n",
       "      <th>Стоимость</th>\n",
       "      <th>Цена за клик</th>\n",
       "      <th>Цена за конверсию</th>\n",
       "      <th>Цена за транзакцию</th>\n",
       "      <th>Доход от клика</th>\n",
       "      <th>Доход</th>\n",
       "      <th>Рентабельность инвестиций в рекламу</th>\n",
       "      <th>Цена за конверсию / Стоимость</th>\n",
       "      <th>Рентабельность</th>\n",
       "    </tr>\n",
       "    <tr>\n",
       "      <th>Город</th>\n",
       "      <th>Наименование</th>\n",
       "      <th></th>\n",
       "      <th></th>\n",
       "      <th></th>\n",
       "      <th></th>\n",
       "      <th></th>\n",
       "      <th></th>\n",
       "      <th></th>\n",
       "      <th></th>\n",
       "      <th></th>\n",
       "    </tr>\n",
       "  </thead>\n",
       "  <tbody>\n",
       "    <tr>\n",
       "      <th rowspan=\"3\" valign=\"top\">barn</th>\n",
       "      <th>couches</th>\n",
       "      <td>186553.51</td>\n",
       "      <td>158.454614</td>\n",
       "      <td>5276.241219</td>\n",
       "      <td>0.0</td>\n",
       "      <td>2.694619</td>\n",
       "      <td>0</td>\n",
       "      <td>0.078594</td>\n",
       "      <td>0.157724</td>\n",
       "      <td>-inf</td>\n",
       "    </tr>\n",
       "    <tr>\n",
       "      <th>dsa</th>\n",
       "      <td>12462.79</td>\n",
       "      <td>50.868531</td>\n",
       "      <td>733.105294</td>\n",
       "      <td>0.0</td>\n",
       "      <td>0.020408</td>\n",
       "      <td>0</td>\n",
       "      <td>0.000401</td>\n",
       "      <td>0.058824</td>\n",
       "      <td>-inf</td>\n",
       "    </tr>\n",
       "    <tr>\n",
       "      <th>mebel</th>\n",
       "      <td>48919.02</td>\n",
       "      <td>91.902967</td>\n",
       "      <td>2073.994054</td>\n",
       "      <td>0.0</td>\n",
       "      <td>0.010076</td>\n",
       "      <td>0</td>\n",
       "      <td>0.000221</td>\n",
       "      <td>0.138514</td>\n",
       "      <td>-inf</td>\n",
       "    </tr>\n",
       "    <tr>\n",
       "      <th rowspan=\"2\" valign=\"top\">belg</th>\n",
       "      <th>dsa</th>\n",
       "      <td>18249.36</td>\n",
       "      <td>62.497808</td>\n",
       "      <td>1013.853333</td>\n",
       "      <td>0.0</td>\n",
       "      <td>0.000000</td>\n",
       "      <td>0</td>\n",
       "      <td>0.000000</td>\n",
       "      <td>0.055556</td>\n",
       "      <td>-inf</td>\n",
       "    </tr>\n",
       "    <tr>\n",
       "      <th>mebel</th>\n",
       "      <td>51570.84</td>\n",
       "      <td>154.892657</td>\n",
       "      <td>4012.474620</td>\n",
       "      <td>0.0</td>\n",
       "      <td>1.502110</td>\n",
       "      <td>0</td>\n",
       "      <td>0.045311</td>\n",
       "      <td>0.146739</td>\n",
       "      <td>-inf</td>\n",
       "    </tr>\n",
       "    <tr>\n",
       "      <th>...</th>\n",
       "      <th>...</th>\n",
       "      <td>...</td>\n",
       "      <td>...</td>\n",
       "      <td>...</td>\n",
       "      <td>...</td>\n",
       "      <td>...</td>\n",
       "      <td>...</td>\n",
       "      <td>...</td>\n",
       "      <td>...</td>\n",
       "      <td>...</td>\n",
       "    </tr>\n",
       "    <tr>\n",
       "      <th>vor</th>\n",
       "      <th>mebel</th>\n",
       "      <td>45004.50</td>\n",
       "      <td>86.386679</td>\n",
       "      <td>1329.340162</td>\n",
       "      <td>0.0</td>\n",
       "      <td>0.005479</td>\n",
       "      <td>0</td>\n",
       "      <td>0.000125</td>\n",
       "      <td>0.087449</td>\n",
       "      <td>-inf</td>\n",
       "    </tr>\n",
       "    <tr>\n",
       "      <th rowspan=\"4\" valign=\"top\">yar</th>\n",
       "      <th>bed</th>\n",
       "      <td>32757.17</td>\n",
       "      <td>96.628820</td>\n",
       "      <td>1213.228519</td>\n",
       "      <td>0.0</td>\n",
       "      <td>1.321534</td>\n",
       "      <td>0</td>\n",
       "      <td>0.013676</td>\n",
       "      <td>0.037037</td>\n",
       "      <td>-inf</td>\n",
       "    </tr>\n",
       "    <tr>\n",
       "      <th>couches</th>\n",
       "      <td>219263.51</td>\n",
       "      <td>288.713471</td>\n",
       "      <td>5404.092269</td>\n",
       "      <td>0.0</td>\n",
       "      <td>0.993628</td>\n",
       "      <td>0</td>\n",
       "      <td>0.022182</td>\n",
       "      <td>0.160749</td>\n",
       "      <td>-inf</td>\n",
       "    </tr>\n",
       "    <tr>\n",
       "      <th>dsa</th>\n",
       "      <td>59828.87</td>\n",
       "      <td>153.630770</td>\n",
       "      <td>1871.067958</td>\n",
       "      <td>0.0</td>\n",
       "      <td>0.067227</td>\n",
       "      <td>0</td>\n",
       "      <td>0.000886</td>\n",
       "      <td>0.066734</td>\n",
       "      <td>-inf</td>\n",
       "    </tr>\n",
       "    <tr>\n",
       "      <th>wardrobe</th>\n",
       "      <td>18584.31</td>\n",
       "      <td>82.965670</td>\n",
       "      <td>1429.562308</td>\n",
       "      <td>0.0</td>\n",
       "      <td>0.000000</td>\n",
       "      <td>0</td>\n",
       "      <td>0.000000</td>\n",
       "      <td>0.076923</td>\n",
       "      <td>-inf</td>\n",
       "    </tr>\n",
       "  </tbody>\n",
       "</table>\n",
       "<p>82 rows × 9 columns</p>\n",
       "</div>"
      ],
      "text/plain": [
       "                    Стоимость  Цена за клик  Цена за конверсию  \\\n",
       "Город Наименование                                               \n",
       "barn  couches       186553.51    158.454614        5276.241219   \n",
       "      dsa            12462.79     50.868531         733.105294   \n",
       "      mebel          48919.02     91.902967        2073.994054   \n",
       "belg  dsa            18249.36     62.497808        1013.853333   \n",
       "      mebel          51570.84    154.892657        4012.474620   \n",
       "...                       ...           ...                ...   \n",
       "vor   mebel          45004.50     86.386679        1329.340162   \n",
       "yar   bed            32757.17     96.628820        1213.228519   \n",
       "      couches       219263.51    288.713471        5404.092269   \n",
       "      dsa            59828.87    153.630770        1871.067958   \n",
       "      wardrobe       18584.31     82.965670        1429.562308   \n",
       "\n",
       "                    Цена за транзакцию  Доход от клика  Доход  \\\n",
       "Город Наименование                                              \n",
       "barn  couches                      0.0        2.694619      0   \n",
       "      dsa                          0.0        0.020408      0   \n",
       "      mebel                        0.0        0.010076      0   \n",
       "belg  dsa                          0.0        0.000000      0   \n",
       "      mebel                        0.0        1.502110      0   \n",
       "...                                ...             ...    ...   \n",
       "vor   mebel                        0.0        0.005479      0   \n",
       "yar   bed                          0.0        1.321534      0   \n",
       "      couches                      0.0        0.993628      0   \n",
       "      dsa                          0.0        0.067227      0   \n",
       "      wardrobe                     0.0        0.000000      0   \n",
       "\n",
       "                    Рентабельность инвестиций в рекламу  \\\n",
       "Город Наименование                                        \n",
       "barn  couches                                  0.078594   \n",
       "      dsa                                      0.000401   \n",
       "      mebel                                    0.000221   \n",
       "belg  dsa                                      0.000000   \n",
       "      mebel                                    0.045311   \n",
       "...                                                 ...   \n",
       "vor   mebel                                    0.000125   \n",
       "yar   bed                                      0.013676   \n",
       "      couches                                  0.022182   \n",
       "      dsa                                      0.000886   \n",
       "      wardrobe                                 0.000000   \n",
       "\n",
       "                    Цена за конверсию / Стоимость  Рентабельность  \n",
       "Город Наименование                                                 \n",
       "barn  couches                            0.157724            -inf  \n",
       "      dsa                                0.058824            -inf  \n",
       "      mebel                              0.138514            -inf  \n",
       "belg  dsa                                0.055556            -inf  \n",
       "      mebel                              0.146739            -inf  \n",
       "...                                           ...             ...  \n",
       "vor   mebel                              0.087449            -inf  \n",
       "yar   bed                                0.037037            -inf  \n",
       "      couches                            0.160749            -inf  \n",
       "      dsa                                0.066734            -inf  \n",
       "      wardrobe                           0.076923            -inf  \n",
       "\n",
       "[82 rows x 9 columns]"
      ]
     },
     "execution_count": 29,
     "metadata": {},
     "output_type": "execute_result"
    }
   ],
   "source": [
    "df_furniture_no_income = df_furniture.query('Доход == 0')\n",
    "df_furniture_no_income = df_furniture_no_income.groupby(['Город', 'Наименование']).sum()\n",
    "df_furniture_no_income"
   ]
  },
  {
   "cell_type": "markdown",
   "id": "a77f7dd1",
   "metadata": {},
   "source": [
    "**Вывод:**\n",
    "\n",
    "1) Выяснили, что наибольшая доля дохода принадлежит Москве, она составляет 58%. На 2 месте Санкт-Петербург с 19%. Далее идет много городов с доходом менее 1 млн.  \n",
    "2) Затраты на рекламные кампании Брянска составляют 99578.90, при этом они совсем не приносят нам доход.  \n",
    "3) Рентабельность Москвы и Санкт-Петербурга оказалась ниже, чем для reg, countries и Владивостока. Для countries рентабельность самая большая, почти 100, при том, что затраты на рекламные кампании небольшие.  \n",
    "4) Наибольшие потери от рекламной кампании myagkaya-mebel и hallway, при этом затраты на myagkaya-mebel максимальные, но они совсем не окупаются.\n",
    "\n",
    "**Рекомендации:**\n",
    "\n",
    "1) Перестать вкладываться в сильно убыточные рекламные кампании (с отрицательной рентабельностью) chel, barn, tamb, orel, tmsk, sim, belg, tvr, smol, kursk, bryan.  \n",
    "2) Перераспределить бюджет убыточных кампаний на тех, у которых рентабельность положительная.  \n",
    "3) Больше вкладываться в компании reg, countries и Владивостока для еще большего увеличения их дохода.  \n",
    "4) Перестать вкладываться в рекламные кампании myagkaya-mebel и увеличить вложения в следующие типы мебели: kreslo, divan, kreslo-krovat, wardrobe, dsa, br."
   ]
  },
  {
   "cell_type": "code",
   "execution_count": null,
   "id": "ecb3e2eb",
   "metadata": {},
   "outputs": [],
   "source": []
  }
 ],
 "metadata": {
  "kernelspec": {
   "display_name": "Python 3 (ipykernel)",
   "language": "python",
   "name": "python3"
  },
  "language_info": {
   "codemirror_mode": {
    "name": "ipython",
    "version": 3
   },
   "file_extension": ".py",
   "mimetype": "text/x-python",
   "name": "python",
   "nbconvert_exporter": "python",
   "pygments_lexer": "ipython3",
   "version": "3.9.12"
  },
  "toc": {
   "base_numbering": 1,
   "nav_menu": {},
   "number_sections": true,
   "sideBar": true,
   "skip_h1_title": false,
   "title_cell": "Table of Contents",
   "title_sidebar": "Contents",
   "toc_cell": false,
   "toc_position": {},
   "toc_section_display": true,
   "toc_window_display": false
  }
 },
 "nbformat": 4,
 "nbformat_minor": 5
}
